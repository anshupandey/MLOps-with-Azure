{
 "cells": [
  {
   "cell_type": "code",
   "execution_count": null,
   "metadata": {},
   "outputs": [],
   "source": [
    "# Annual Premium charges prediction for Health Insurance\n",
    "import pandas as pd\n",
    "import numpy as np\n",
    "import matplotlib.pyplot as plt\n",
    "import seaborn as sns\n",
    "\n",
    "# load the data set\n",
    "df = pd.read_csv(\"insurance.csv\")\n",
    "df.shape\n",
    "df.describe()\n",
    "### DAta Cleaning\n",
    "# check for missing values\n",
    "df.isnull().sum()\n",
    "# check for duplicate entries\n",
    "df.duplicated().sum()\n",
    "# drop the duplicated rows\n",
    "print(df.shape)\n",
    "df.drop_duplicates(keep=\"first\",inplace=True)\n",
    "print(df.shape)\n",
    "df.head()\n",
    "nums = [\"age\",'bmi','children']\n",
    "cats = ['Gender','smoker','region']\n",
    "\n",
    "for col in nums:\n",
    "    plt.figure(figsize=(8,4))\n",
    "    sns.scatterplot(df,x=col,y='charges',hue='smoker')\n",
    "    plt.show()\n",
    "\n",
    "for col in cats:\n",
    "    categories = df[col].unique()\n",
    "    plt.figure(figsize=(8,4))\n",
    "    for category in categories:\n",
    "        sns.kdeplot(df['charges'][df[col]==category],label=category,fill=True)\n",
    "    plt.legend()\n",
    "    plt.show()\n",
    "\n",
    "\n",
    "df.columns\n",
    "x = df[['age', 'Gender', 'bmi', 'smoker']]\n",
    "y = df['charges']\n",
    "x.head()\n"
   ]
  },
  {
   "cell_type": "code",
   "execution_count": null,
   "metadata": {},
   "outputs": [],
   "source": []
  }
 ],
 "metadata": {
  "kernelspec": {
   "display_name": "base",
   "language": "python",
   "name": "python3"
  },
  "language_info": {
   "name": "python",
   "version": "3.10.9"
  }
 },
 "nbformat": 4,
 "nbformat_minor": 2
}
