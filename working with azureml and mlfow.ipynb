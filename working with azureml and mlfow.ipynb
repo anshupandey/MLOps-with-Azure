{
 "cells": [
  {
   "cell_type": "code",
   "execution_count": null,
   "metadata": {},
   "outputs": [],
   "source": [
    "# pip install azureml-core\n",
    "# pip install azureml azureml-sdk \n",
    "# pip install azureml-mlflow"
   ]
  },
  {
   "cell_type": "code",
   "execution_count": 1,
   "metadata": {},
   "outputs": [
    {
     "name": "stderr",
     "output_type": "stream",
     "text": [
      "c:\\ProgramData\\anaconda3\\lib\\site-packages\\paramiko\\transport.py:219: CryptographyDeprecationWarning: Blowfish has been deprecated\n",
      "  \"class\": algorithms.Blowfish,\n"
     ]
    }
   ],
   "source": [
    "from azureml.core import Workspace"
   ]
  },
  {
   "cell_type": "code",
   "execution_count": 2,
   "metadata": {},
   "outputs": [
    {
     "name": "stdout",
     "output_type": "stream",
     "text": [
      "Workspace.create(name='aml-anshu', subscription_id='84a5808b-5549-459a-98f2-f102e84fa1bb', resource_group='EY23')\n"
     ]
    }
   ],
   "source": [
    "# create a new workspace or access existing workspace\n",
    "try:\n",
    "    ws = Workspace.create(name=\"aml-anshu\",\n",
    "                            subscription_id=\"84a5808b-5549-459a-98f2-f102e84fa1bb\",\n",
    "                            resource_group=\"EY23\",\n",
    "                            create_resource_group=True,\n",
    "                            location='westus')\n",
    "\n",
    "except:\n",
    "    # access existing workspace\n",
    "    ws = Workspace.get(name=\"aml-anshu\",\n",
    "                        subscription_id=\"84a5808b-5549-459a-98f2-f102e84fa1bb\",\n",
    "                        resource_group=\"EY23\")\n",
    "finally:\n",
    "    print(ws)"
   ]
  },
  {
   "cell_type": "code",
   "execution_count": 3,
   "metadata": {},
   "outputs": [
    {
     "data": {
      "text/plain": [
       "Workspace.create(name='aml-anshu', subscription_id='84a5808b-5549-459a-98f2-f102e84fa1bb', resource_group='EY23')"
      ]
     },
     "execution_count": 3,
     "metadata": {},
     "output_type": "execute_result"
    }
   ],
   "source": [
    "ws"
   ]
  },
  {
   "cell_type": "code",
   "execution_count": 4,
   "metadata": {},
   "outputs": [],
   "source": [
    "import pandas  as pd\n",
    "import matplotlib.pyplot as plt \n",
    "import numpy as np \n",
    "import seaborn as sns \n",
    "import mlflow \n",
    "import mlflow.sklearn\n",
    "from sklearn import metrics\n",
    "from sklearn.compose import ColumnTransformer\n",
    "from sklearn.pipeline import Pipeline\n",
    "from sklearn.model_selection import train_test_split\n",
    "from sklearn.preprocessing import OneHotEncoder\n",
    "from sklearn.tree import DecisionTreeClassifier"
   ]
  },
  {
   "cell_type": "code",
   "execution_count": 5,
   "metadata": {},
   "outputs": [],
   "source": [
    "# data processing\n",
    "df = pd.read_csv(r\"Bank_churn_modelling.csv\")\n",
    "x = df[['CreditScore', 'Geography', 'Gender', 'Age', 'Balance', 'NumOfProducts', 'IsActiveMember']]\n",
    "y =df['Exited']\n",
    "from sklearn.model_selection import train_test_split\n",
    "xtrain,xtest,ytrain,ytest = train_test_split(x,y,test_size=0.2,stratify=y,random_state=5)\n",
    "\n",
    "transformer = ColumnTransformer([('ohe',OneHotEncoder(drop=\"first\"),[1,2]),],remainder='passthrough')\n",
    "#transformer.fit(xtrain)"
   ]
  },
  {
   "cell_type": "code",
   "execution_count": 6,
   "metadata": {},
   "outputs": [
    {
     "data": {
      "text/plain": [
       "'azureml://westus.api.azureml.ms/mlflow/v2.0/subscriptions/84a5808b-5549-459a-98f2-f102e84fa1bb/resourceGroups/EY23/providers/Microsoft.MachineLearningServices/workspaces/aml-anshu?'"
      ]
     },
     "execution_count": 6,
     "metadata": {},
     "output_type": "execute_result"
    }
   ],
   "source": [
    "ws.get_mlflow_tracking_uri()"
   ]
  },
  {
   "cell_type": "code",
   "execution_count": 7,
   "metadata": {},
   "outputs": [],
   "source": [
    "mlflow.set_tracking_uri(ws.get_mlflow_tracking_uri())"
   ]
  },
  {
   "cell_type": "code",
   "execution_count": 8,
   "metadata": {},
   "outputs": [
    {
     "name": "stderr",
     "output_type": "stream",
     "text": [
      "2023/05/10 11:49:08 INFO mlflow.tracking.fluent: Experiment with name 'bank_churn' does not exist. Creating a new experiment.\n"
     ]
    },
    {
     "data": {
      "text/plain": [
       "<Experiment: artifact_location='', creation_time=1683699549158, experiment_id='d6c1be39-8a06-4aad-98bd-414219c3e861', last_update_time=None, lifecycle_stage='active', name='bank_churn', tags={}>"
      ]
     },
     "execution_count": 8,
     "metadata": {},
     "output_type": "execute_result"
    }
   ],
   "source": [
    "mlflow.set_experiment(\"bank_churn\")"
   ]
  },
  {
   "cell_type": "code",
   "execution_count": 9,
   "metadata": {},
   "outputs": [],
   "source": [
    "evaldata = xtest\n",
    "evaldata['label'] = ytest"
   ]
  },
  {
   "cell_type": "code",
   "execution_count": 11,
   "metadata": {},
   "outputs": [
    {
     "name": "stderr",
     "output_type": "stream",
     "text": [
      "2023/05/10 11:51:16 WARNING mlflow.utils.autologging_utils: MLflow autologging encountered a warning: \"C:\\Users\\anshu\\AppData\\Roaming\\Python\\Python310\\site-packages\\mlflow\\models\\signature.py:137: UserWarning: Hint: Inferred schema contains integer column(s). Integer columns in Python cannot represent missing values. If your input data contains missing values at inference time, it will be encoded as floats and will cause a schema enforcement error. The best way to avoid this problem is to infer the model schema based on a realistic data sample (training dataset) that includes missing values. Alternatively, you can declare integer columns as doubles (float64) whenever these columns may have missing values. See `Handling Integers With Missing Values <https://www.mlflow.org/docs/latest/models.html#handling-integers-with-missing-values>`_ for more details.\"\n",
      "2023/05/10 11:51:25 WARNING mlflow.utils.autologging_utils: MLflow autologging encountered a warning: \"c:\\ProgramData\\anaconda3\\lib\\site-packages\\_distutils_hack\\__init__.py:33: UserWarning: Setuptools is replacing distutils.\"\n",
      "2023/05/10 11:51:38 INFO mlflow.models.evaluation.base: Evaluating the model with the default evaluator.\n",
      "2023/05/10 11:51:38 INFO mlflow.models.evaluation.default_evaluator: The evaluation dataset is inferred as binary dataset, positive label is 1, negative label is 0.\n",
      "2023/05/10 11:51:51 WARNING mlflow.models.evaluation.default_evaluator: Skip logging model explainability insights because the shap explainer None requires all feature values to be numeric, and each feature column must only contain scalar values.\n"
     ]
    },
    {
     "data": {
      "text/plain": [
       "<Figure size 1050x700 with 0 Axes>"
      ]
     },
     "metadata": {},
     "output_type": "display_data"
    }
   ],
   "source": [
    "\n",
    "mlflow.sklearn.autolog()\n",
    "with mlflow.start_run():\n",
    "    model_pipeline = Pipeline([(\"transformer\",transformer),\n",
    "                                (\"model\",DecisionTreeClassifier(criterion='gini',min_samples_leaf=20,max_depth=8,\n",
    "                               class_weight='balanced',random_state=5))])\n",
    "    model_pipeline.fit(xtrain,ytrain)\n",
    "\n",
    "    model_uri = mlflow.get_artifact_uri(\"model\")\n",
    "    #model evaluation\n",
    "\n",
    "    result = mlflow.evaluate(model=model_uri,data=evaldata,\n",
    "    targets='label',model_type='classifier',\n",
    "    evaluators=['default'],\n",
    "    evaluator_config={\"default\":{\"metric_prefix\":\"test_\"}}\n",
    "    )"
   ]
  },
  {
   "cell_type": "code",
   "execution_count": 12,
   "metadata": {},
   "outputs": [],
   "source": [
    "from mlflow.models.signature import infer_signature,ModelSignature\n",
    "from mlflow.types.schema import Schema, ColSpec"
   ]
  },
  {
   "cell_type": "code",
   "execution_count": 13,
   "metadata": {},
   "outputs": [
    {
     "name": "stderr",
     "output_type": "stream",
     "text": [
      "2023/05/10 12:18:16 WARNING mlflow.utils.autologging_utils: MLflow autologging encountered a warning: \"C:\\Users\\anshu\\AppData\\Roaming\\Python\\Python310\\site-packages\\mlflow\\models\\signature.py:137: UserWarning: Hint: Inferred schema contains integer column(s). Integer columns in Python cannot represent missing values. If your input data contains missing values at inference time, it will be encoded as floats and will cause a schema enforcement error. The best way to avoid this problem is to infer the model schema based on a realistic data sample (training dataset) that includes missing values. Alternatively, you can declare integer columns as doubles (float64) whenever these columns may have missing values. See `Handling Integers With Missing Values <https://www.mlflow.org/docs/latest/models.html#handling-integers-with-missing-values>`_ for more details.\"\n",
      "2023/05/10 12:18:34 INFO mlflow.models.evaluation.base: Evaluating the model with the default evaluator.\n",
      "2023/05/10 12:18:34 INFO mlflow.models.evaluation.default_evaluator: The evaluation dataset is inferred as binary dataset, positive label is 1, negative label is 0.\n",
      "2023/05/10 12:18:47 WARNING mlflow.models.evaluation.default_evaluator: Skip logging model explainability insights because the shap explainer None requires all feature values to be numeric, and each feature column must only contain scalar values.\n"
     ]
    }
   ],
   "source": [
    "\n",
    "mlflow.sklearn.autolog()\n",
    "with mlflow.start_run():\n",
    "    model_pipeline = Pipeline([(\"transformer\",transformer),\n",
    "                                (\"model\",DecisionTreeClassifier(criterion='gini',min_samples_leaf=20,max_depth=8,\n",
    "                               class_weight='balanced',random_state=5))])\n",
    "    model_pipeline.fit(xtrain,ytrain)\n",
    "\n",
    "    model_uri = mlflow.get_artifact_uri(\"model\")\n",
    "    #model evaluation\n",
    "\n",
    "    result = mlflow.evaluate(model=model_uri,data=evaldata,\n",
    "    targets='label',model_type='classifier',\n",
    "    evaluators=['default'],\n",
    "    evaluator_config={\"default\":{\"metric_prefix\":\"test_\"}},\n",
    "    )\n",
    "\n",
    "\n",
    "    # specify signature manually\n",
    "    input_schema = Schema([\n",
    "        ColSpec(\"double\",'CreditScore'),\n",
    "        ColSpec(\"string\",'Geography'),\n",
    "        ColSpec(\"string\",'Gender'),\n",
    "        ColSpec(\"double\",'Age'),\n",
    "        ColSpec(\"double\",'Balance'),\n",
    "        ColSpec(\"double\",'NumOfProducts'),\n",
    "        ColSpec(\"integer\",'IsActiveMember'),\n",
    "    ])\n",
    "    output_schema = Schema([ColSpec(\"integer\",'Exited'),])\n",
    "    signature2 = ModelSignature(inputs=input_schema,outputs=output_schema)\n",
    "\n",
    "    example = {\"CreditScore\":652.0,\"Geography\":'France',\"Gender\":\"Male\",\"Age\":45.0,\n",
    "                \"Balance\":152432.0,\"NumOfProducts\":2.0,\"IsActiveMember\":0}\n",
    "    mlflow.sklearn.log_model(model_pipeline,\"churn_model\",\n",
    "                                signature = signature2,\n",
    "                                input_example=example\n",
    "                                )"
   ]
  },
  {
   "cell_type": "code",
   "execution_count": 14,
   "metadata": {},
   "outputs": [
    {
     "data": {
      "text/plain": [
       "'1352a106-f9f0-42d5-a13e-2749d5339050'"
      ]
     },
     "execution_count": 14,
     "metadata": {},
     "output_type": "execute_result"
    }
   ],
   "source": [
    "last_run = mlflow.last_active_run()\n",
    "runid = last_run.info.run_id\n",
    "runid"
   ]
  },
  {
   "cell_type": "code",
   "execution_count": 15,
   "metadata": {},
   "outputs": [
    {
     "name": "stderr",
     "output_type": "stream",
     "text": [
      "Successfully registered model 'churn_prediction_name'.\n",
      "2023/05/10 12:19:27 INFO mlflow.tracking._model_registry.client: Waiting up to 300 seconds for model version to finish creation. Model name: churn_prediction_name, version 1\n",
      "Created version '1' of model 'churn_prediction_name'.\n"
     ]
    },
    {
     "data": {
      "text/plain": [
       "<ModelVersion: aliases=[], creation_timestamp=1683701366925, current_stage='None', description='', last_updated_timestamp=1683701366925, name='churn_prediction_name', run_id='1352a106-f9f0-42d5-a13e-2749d5339050', run_link='', source='azureml://westus.api.azureml.ms/mlflow/v2.0/subscriptions/84a5808b-5549-459a-98f2-f102e84fa1bb/resourceGroups/EY23/providers/Microsoft.MachineLearningServices/workspaces/aml-anshu/experiments/d6c1be39-8a06-4aad-98bd-414219c3e861/runs/1352a106-f9f0-42d5-a13e-2749d5339050/artifacts/churn_model', status='READY', status_message='', tags={}, user_id='', version='1'>"
      ]
     },
     "execution_count": 15,
     "metadata": {},
     "output_type": "execute_result"
    }
   ],
   "source": [
    "# model registration\n",
    "model_uri = f\"runs:/{runid}/churn_model\"\n",
    "model_reg_name = \"churn_prediction_name\"\n",
    "mlflow.register_model(model_uri,model_reg_name)"
   ]
  },
  {
   "attachments": {},
   "cell_type": "markdown",
   "metadata": {},
   "source": [
    "## Deployment over ACI"
   ]
  },
  {
   "cell_type": "code",
   "execution_count": 16,
   "metadata": {},
   "outputs": [],
   "source": [
    "import json\n",
    "from mlflow.deployments import get_deploy_client\n",
    "deploy_config_path = \"aciconfig.json\"\n",
    "\n",
    "client = get_deploy_client(ws.get_mlflow_tracking_uri())\n"
   ]
  },
  {
   "cell_type": "code",
   "execution_count": 17,
   "metadata": {},
   "outputs": [],
   "source": [
    "# deployment configuration\n",
    "config = {\"deploy-config-file\":deploy_config_path}\n",
    "model_name = \"churn_prediction_name\"\n",
    "model_version=1"
   ]
  },
  {
   "cell_type": "code",
   "execution_count": 18,
   "metadata": {},
   "outputs": [
    {
     "name": "stdout",
     "output_type": "stream",
     "text": [
      "Running\n",
      "2023-05-10 12:38:47+05:30 Creating Container Registry if not exists......"
     ]
    }
   ],
   "source": [
    "webservice = client.create_deployment(model_uri = f\"models:/{model_name}/{model_version}\",\n",
    "                            config=config,\n",
    "                            name=\"churn-aci\")\n"
   ]
  },
  {
   "cell_type": "code",
   "execution_count": null,
   "metadata": {},
   "outputs": [],
   "source": [
    "webservice.scoring_uri"
   ]
  },
  {
   "cell_type": "code",
   "execution_count": null,
   "metadata": {},
   "outputs": [],
   "source": []
  }
 ],
 "metadata": {
  "kernelspec": {
   "display_name": "base",
   "language": "python",
   "name": "python3"
  },
  "language_info": {
   "codemirror_mode": {
    "name": "ipython",
    "version": 3
   },
   "file_extension": ".py",
   "mimetype": "text/x-python",
   "name": "python",
   "nbconvert_exporter": "python",
   "pygments_lexer": "ipython3",
   "version": "3.10.9"
  },
  "orig_nbformat": 4
 },
 "nbformat": 4,
 "nbformat_minor": 2
}
