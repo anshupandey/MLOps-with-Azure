{
 "cells": [
  {
   "cell_type": "code",
   "execution_count": null,
   "metadata": {},
   "outputs": [],
   "source": [
    "# pip install azureml-core\n",
    "# pip install azureml azureml-sdk \n",
    "# pip install azureml-mlflow"
   ]
  },
  {
   "cell_type": "code",
   "execution_count": 1,
   "metadata": {},
   "outputs": [
    {
     "name": "stderr",
     "output_type": "stream",
     "text": [
      "c:\\ProgramData\\anaconda3\\lib\\site-packages\\paramiko\\transport.py:219: CryptographyDeprecationWarning: Blowfish has been deprecated\n",
      "  \"class\": algorithms.Blowfish,\n"
     ]
    }
   ],
   "source": [
    "from azureml.core import Workspace"
   ]
  },
  {
   "cell_type": "code",
   "execution_count": 4,
   "metadata": {},
   "outputs": [
    {
     "name": "stderr",
     "output_type": "stream",
     "text": [
      "UserWarning: The resource group doesn't exist or was not provided. AzureML SDK is creating a resource group=EYMAY in location=westus using subscription=84a5808b-5549-459a-98f2-f102e84fa1bb.\n"
     ]
    },
    {
     "name": "stdout",
     "output_type": "stream",
     "text": [
      "Deploying KeyVault with name amlanshukeyvault4c67362f.\n",
      "Deploying StorageAccount with name amlanshustorage4145e8942.\n",
      "Deployed KeyVault with name amlanshukeyvault4c67362f. Took 28.26 seconds.\n",
      "Deployed StorageAccount with name amlanshustorage4145e8942. Took 30.73 seconds.\n",
      "Deploying Workspace with name aml-anshu2.\n",
      "Deploying AppInsights with name amlanshuinsightsc6593522.\n",
      "Deployed AppInsights with name amlanshuinsightsc6593522. Took 33.23 seconds.\n",
      "Deployed Workspace with name aml-anshu2. Took 24.73 seconds.\n",
      "Workspace.create(name='aml-anshu2', subscription_id='84a5808b-5549-459a-98f2-f102e84fa1bb', resource_group='EYMAY')\n"
     ]
    }
   ],
   "source": [
    "# create a new workspace or access existing workspace\n",
    "try:\n",
    "    ws = Workspace.create(name=\"aml-anshu2\",\n",
    "                            subscription_id=\"84a5808b-5549-459a-98f2-f102e84fa1bb\",\n",
    "                            resource_group=\"EYMAY\",\n",
    "                            create_resource_group=True,\n",
    "                            location='westus')\n",
    "\n",
    "except:\n",
    "    # access existing workspace\n",
    "    ws = Workspace.get(name=\"aml-anshu2\",\n",
    "                        subscription_id=\"84a5808b-5549-459a-98f2-f102e84fa1bb\",\n",
    "                        resource_group=\"EYMAY\")\n",
    "finally:\n",
    "    print(ws)"
   ]
  },
  {
   "cell_type": "code",
   "execution_count": 5,
   "metadata": {},
   "outputs": [
    {
     "data": {
      "text/plain": [
       "Workspace.create(name='aml-anshu2', subscription_id='84a5808b-5549-459a-98f2-f102e84fa1bb', resource_group='EYMAY')"
      ]
     },
     "execution_count": 5,
     "metadata": {},
     "output_type": "execute_result"
    }
   ],
   "source": [
    "ws"
   ]
  },
  {
   "cell_type": "code",
   "execution_count": 6,
   "metadata": {},
   "outputs": [],
   "source": [
    "import pandas  as pd\n",
    "import matplotlib.pyplot as plt \n",
    "import numpy as np \n",
    "import seaborn as sns \n",
    "import mlflow \n",
    "import mlflow.sklearn\n",
    "from sklearn import metrics\n",
    "from sklearn.compose import ColumnTransformer\n",
    "from sklearn.pipeline import Pipeline\n",
    "from sklearn.model_selection import train_test_split\n",
    "from sklearn.preprocessing import OneHotEncoder\n",
    "from sklearn.tree import DecisionTreeClassifier"
   ]
  },
  {
   "cell_type": "code",
   "execution_count": 7,
   "metadata": {},
   "outputs": [],
   "source": [
    "# data processing\n",
    "df = pd.read_csv(r\"Bank_churn_modelling.csv\")\n",
    "x = df[['CreditScore', 'Geography', 'Gender', 'Age', 'Balance', 'NumOfProducts', 'IsActiveMember']]\n",
    "y =df['Exited']\n",
    "from sklearn.model_selection import train_test_split\n",
    "xtrain,xtest,ytrain,ytest = train_test_split(x,y,test_size=0.2,stratify=y,random_state=5)\n",
    "\n",
    "transformer = ColumnTransformer([('ohe',OneHotEncoder(drop=\"first\"),[1,2]),],remainder='passthrough')\n",
    "#transformer.fit(xtrain)"
   ]
  },
  {
   "cell_type": "code",
   "execution_count": 8,
   "metadata": {},
   "outputs": [
    {
     "data": {
      "text/plain": [
       "'azureml://westus.api.azureml.ms/mlflow/v2.0/subscriptions/84a5808b-5549-459a-98f2-f102e84fa1bb/resourceGroups/EYMAY/providers/Microsoft.MachineLearningServices/workspaces/aml-anshu2?'"
      ]
     },
     "execution_count": 8,
     "metadata": {},
     "output_type": "execute_result"
    }
   ],
   "source": [
    "ws.get_mlflow_tracking_uri()"
   ]
  },
  {
   "cell_type": "code",
   "execution_count": 9,
   "metadata": {},
   "outputs": [],
   "source": [
    "mlflow.set_tracking_uri(ws.get_mlflow_tracking_uri())"
   ]
  },
  {
   "cell_type": "code",
   "execution_count": 10,
   "metadata": {},
   "outputs": [
    {
     "name": "stderr",
     "output_type": "stream",
     "text": [
      "2023/05/11 09:09:22 INFO mlflow.tracking.fluent: Experiment with name 'bank_churn' does not exist. Creating a new experiment.\n"
     ]
    },
    {
     "data": {
      "text/plain": [
       "<Experiment: artifact_location='', creation_time=1683776363520, experiment_id='e15fa797-2b1c-448e-a5bf-44d66e986104', last_update_time=None, lifecycle_stage='active', name='bank_churn', tags={}>"
      ]
     },
     "execution_count": 10,
     "metadata": {},
     "output_type": "execute_result"
    }
   ],
   "source": [
    "mlflow.set_experiment(\"bank_churn\")"
   ]
  },
  {
   "cell_type": "code",
   "execution_count": 11,
   "metadata": {},
   "outputs": [],
   "source": [
    "evaldata = xtest\n",
    "evaldata['label'] = ytest"
   ]
  },
  {
   "cell_type": "code",
   "execution_count": 21,
   "metadata": {},
   "outputs": [
    {
     "name": "stderr",
     "output_type": "stream",
     "text": [
      "2023/05/11 10:23:55 WARNING mlflow.utils.autologging_utils: MLflow autologging encountered a warning: \"C:\\Users\\anshu\\AppData\\Roaming\\Python\\Python310\\site-packages\\mlflow\\models\\signature.py:137: UserWarning: Hint: Inferred schema contains integer column(s). Integer columns in Python cannot represent missing values. If your input data contains missing values at inference time, it will be encoded as floats and will cause a schema enforcement error. The best way to avoid this problem is to infer the model schema based on a realistic data sample (training dataset) that includes missing values. Alternatively, you can declare integer columns as doubles (float64) whenever these columns may have missing values. See `Handling Integers With Missing Values <https://www.mlflow.org/docs/latest/models.html#handling-integers-with-missing-values>`_ for more details.\"\n",
      "2023/05/11 10:24:14 INFO mlflow.models.evaluation.base: Evaluating the model with the default evaluator.\n",
      "2023/05/11 10:24:14 INFO mlflow.models.evaluation.default_evaluator: The evaluation dataset is inferred as binary dataset, positive label is 1, negative label is 0.\n"
     ]
    }
   ],
   "source": [
    "\n",
    "mlflow.sklearn.autolog()\n",
    "with mlflow.start_run():\n",
    "    model_pipeline = Pipeline([(\"transformer\",transformer),\n",
    "                                (\"model\",DecisionTreeClassifier(criterion='gini',min_samples_leaf=20,max_depth=8,\n",
    "                               class_weight='balanced',random_state=5))])\n",
    "    model_pipeline.fit(xtrain,ytrain)\n",
    "\n",
    "    model_uri = mlflow.get_artifact_uri(\"model\")\n",
    "    #model evaluation\n",
    "\n",
    "    result = mlflow.evaluate(model=model_uri,data=evaldata,\n",
    "    targets='label',model_type='classifier',\n",
    "    evaluators=['default'],\n",
    "    evaluator_config={\"default\":{\"metric_prefix\":\"test_\",\"log_model_explainability\":False}}\n",
    "    )"
   ]
  },
  {
   "cell_type": "code",
   "execution_count": 12,
   "metadata": {},
   "outputs": [],
   "source": [
    "from mlflow.models.signature import infer_signature,ModelSignature\n",
    "from mlflow.types.schema import Schema, ColSpec"
   ]
  },
  {
   "cell_type": "code",
   "execution_count": 13,
   "metadata": {},
   "outputs": [
    {
     "name": "stderr",
     "output_type": "stream",
     "text": [
      "c:\\ProgramData\\anaconda3\\lib\\site-packages\\_distutils_hack\\__init__.py:33: UserWarning: Setuptools is replacing distutils.\n",
      "  warnings.warn(\"Setuptools is replacing distutils.\")\n",
      "2023/05/11 09:09:48 INFO mlflow.models.evaluation.base: Evaluating the model with the default evaluator.\n",
      "2023/05/11 09:09:49 INFO mlflow.models.evaluation.default_evaluator: The evaluation dataset is inferred as binary dataset, positive label is 1, negative label is 0.\n",
      "2023/05/11 09:10:04 WARNING mlflow.models.evaluation.default_evaluator: Skip logging model explainability insights because the shap explainer None requires all feature values to be numeric, and each feature column must only contain scalar values.\n"
     ]
    },
    {
     "data": {
      "text/plain": [
       "<Figure size 1050x700 with 0 Axes>"
      ]
     },
     "metadata": {},
     "output_type": "display_data"
    }
   ],
   "source": [
    "\n",
    "mlflow.sklearn.autolog()\n",
    "with mlflow.start_run():\n",
    "    model_pipeline = Pipeline([(\"transformer\",transformer),\n",
    "                                (\"model\",DecisionTreeClassifier(criterion='gini',min_samples_leaf=20,max_depth=8,\n",
    "                               class_weight='balanced',random_state=5))])\n",
    "    model_pipeline.fit(xtrain,ytrain)\n",
    "\n",
    "    # specify signature manually\n",
    "    input_schema = Schema([\n",
    "        ColSpec(\"double\",'CreditScore'),\n",
    "        ColSpec(\"string\",'Geography'),\n",
    "        ColSpec(\"string\",'Gender'),\n",
    "        ColSpec(\"double\",'Age'),\n",
    "        ColSpec(\"double\",'Balance'),\n",
    "        ColSpec(\"double\",'NumOfProducts'),\n",
    "        ColSpec(\"integer\",'IsActiveMember'),\n",
    "    ])\n",
    "    output_schema = Schema([ColSpec(\"integer\",'Exited'),])\n",
    "    signature2 = ModelSignature(inputs=input_schema,outputs=output_schema)\n",
    "\n",
    "    example = {\"CreditScore\":652.0,\"Geography\":'France',\"Gender\":\"Male\",\"Age\":45.0,\n",
    "                \"Balance\":152432.0,\"NumOfProducts\":2.0,\"IsActiveMember\":0}\n",
    "    mlflow.sklearn.log_model(model_pipeline,\"churn_model\",\n",
    "                                signature = signature2,\n",
    "                                input_example=example\n",
    "                                )\n",
    "\n",
    "    model_uri = mlflow.get_artifact_uri(\"churn_model\")\n",
    "    #model evaluation\n",
    "\n",
    "    result = mlflow.evaluate(model=model_uri,data=evaldata,\n",
    "    targets='label',model_type='classifier',\n",
    "    evaluators=['default'],\n",
    "    evaluator_config={\"default\":{\"metric_prefix\":\"test_\"}},\n",
    "    )"
   ]
  },
  {
   "cell_type": "code",
   "execution_count": 14,
   "metadata": {},
   "outputs": [
    {
     "data": {
      "text/plain": [
       "'76d3fa9b-71e1-440e-bc84-daca32c2ca4a'"
      ]
     },
     "execution_count": 14,
     "metadata": {},
     "output_type": "execute_result"
    }
   ],
   "source": [
    "last_run = mlflow.last_active_run()\n",
    "runid = last_run.info.run_id\n",
    "runid"
   ]
  },
  {
   "cell_type": "code",
   "execution_count": 15,
   "metadata": {},
   "outputs": [
    {
     "name": "stderr",
     "output_type": "stream",
     "text": [
      "Successfully registered model 'churn_prediction'.\n",
      "2023/05/11 09:10:08 INFO mlflow.tracking._model_registry.client: Waiting up to 300 seconds for model version to finish creation. Model name: churn_prediction, version 1\n",
      "Created version '1' of model 'churn_prediction'.\n"
     ]
    },
    {
     "data": {
      "text/plain": [
       "<ModelVersion: aliases=[], creation_timestamp=1683776408445, current_stage='None', description='', last_updated_timestamp=1683776408445, name='churn_prediction', run_id='76d3fa9b-71e1-440e-bc84-daca32c2ca4a', run_link='', source='azureml://westus.api.azureml.ms/mlflow/v2.0/subscriptions/84a5808b-5549-459a-98f2-f102e84fa1bb/resourceGroups/EYMAY/providers/Microsoft.MachineLearningServices/workspaces/aml-anshu2/experiments/e15fa797-2b1c-448e-a5bf-44d66e986104/runs/76d3fa9b-71e1-440e-bc84-daca32c2ca4a/artifacts/churn_model', status='READY', status_message='', tags={}, user_id='', version='1'>"
      ]
     },
     "execution_count": 15,
     "metadata": {},
     "output_type": "execute_result"
    }
   ],
   "source": [
    "# model registration\n",
    "model_uri = f\"runs:/{runid}/churn_model\"\n",
    "model_reg_name = \"churn_prediction\"\n",
    "mlflow.register_model(model_uri,model_reg_name)"
   ]
  },
  {
   "cell_type": "code",
   "execution_count": null,
   "metadata": {},
   "outputs": [],
   "source": []
  },
  {
   "attachments": {},
   "cell_type": "markdown",
   "metadata": {},
   "source": [
    "## Deployment over ACI"
   ]
  },
  {
   "cell_type": "code",
   "execution_count": 16,
   "metadata": {},
   "outputs": [],
   "source": [
    "import json\n",
    "from mlflow.deployments import get_deploy_client\n",
    "deploy_config_path = \"aciconfig.json\"\n",
    "\n",
    "client = get_deploy_client(ws.get_mlflow_tracking_uri())\n"
   ]
  },
  {
   "cell_type": "code",
   "execution_count": 19,
   "metadata": {},
   "outputs": [],
   "source": [
    "# deployment configuration\n",
    "config = {\"deploy-config-file\":deploy_config_path}\n",
    "model_name = \"churn_prediction\"\n",
    "model_version=1"
   ]
  },
  {
   "cell_type": "code",
   "execution_count": 20,
   "metadata": {},
   "outputs": [
    {
     "name": "stdout",
     "output_type": "stream",
     "text": [
      "Running\n",
      "2023-05-11 09:12:11+05:30 Creating Container Registry if not exists....................\n",
      "2023-05-11 09:22:11+05:30 Registering the environment.\n",
      "2023-05-11 09:22:14+05:30 Building image......................\n",
      "2023-05-11 09:32:39+05:30 Generating deployment configuration.\n",
      "2023-05-11 09:32:40+05:30 Submitting deployment to compute.\n",
      "2023-05-11 09:32:45+05:30 Checking the status of deployment churn-aci...\n",
      "2023-05-11 09:33:57+05:30 Checking the status of inference endpoint churn-aci..\n",
      "Succeeded\n",
      "AciService creation operation finished, operation \"Succeeded\"\n"
     ]
    }
   ],
   "source": [
    "webservice = client.create_deployment(model_uri = f\"models:/{model_name}/{model_version}\",\n",
    "                            config=config,\n",
    "                            name=\"churn-aci\")"
   ]
  },
  {
   "cell_type": "code",
   "execution_count": 20,
   "metadata": {},
   "outputs": [
    {
     "data": {
      "text/plain": [
       "{'name': 'churn-aci',\n",
       " 'description': None,\n",
       " 'tags': {},\n",
       " 'properties': {'hasInferenceSchema': 'False',\n",
       "  'hasHttps': 'False',\n",
       "  'authEnabled': 'False'},\n",
       " 'state': 'Healthy',\n",
       " 'createdTime': '2023-05-10T07:08:45.608845+00:00',\n",
       " 'updatedTime': '2023-05-10T07:08:45.608845+00:00',\n",
       " 'error': None,\n",
       " 'computeType': 'ACI',\n",
       " 'workspaceName': 'aml-anshu',\n",
       " 'imageId': None,\n",
       " 'imageDigest': None,\n",
       " 'imageDetails': None,\n",
       " 'scoringUri': 'http://d676cf39-7576-45d1-81b6-9f73bca86469.westus.azurecontainer.io/score',\n",
       " 'createdBy': {'userObjectId': '7501f233-1f33-4666-bc5d-f8e6add99ab0',\n",
       "  'userPuId': '1003BFFD8FA46F19',\n",
       "  'userIdp': 'live.com',\n",
       "  'userAltSecId': '1:live.com:0003BFFDCDDF08B3',\n",
       "  'userIss': 'https://sts.windows.net/13a86542-2185-4187-8e07-7512f5525c55/',\n",
       "  'userTenantId': '13a86542-2185-4187-8e07-7512f5525c55',\n",
       "  'userName': 'Anshu Pandey'},\n",
       " 'containerResourceRequirements': {'cpu': 0.1, 'memoryInGB': 0.5},\n",
       " 'location': 'westus',\n",
       " 'authEnabled': False,\n",
       " 'sslEnabled': False,\n",
       " 'appInsightsEnabled': False,\n",
       " 'sslCertificate': '',\n",
       " 'sslKey': '',\n",
       " 'cname': None,\n",
       " 'publicIp': '20.237.158.88',\n",
       " 'publicFqdn': 'd676cf39-7576-45d1-81b6-9f73bca86469.westus.azurecontainer.io',\n",
       " 'environmentDetails': {'name': 'churn-aci-env',\n",
       "  'version': 'Autosave_2023-05-10T07:18:48Z_e5a2d969',\n",
       "  'python': {'interpreterPath': 'python',\n",
       "   'userManagedDependencies': False,\n",
       "   'condaDependencies': {'channels': ['conda-forge'],\n",
       "    'dependencies': ['python=3.10.9',\n",
       "     'pip<=22.3.1',\n",
       "     {'pip': ['mlflow<3,>=2.3',\n",
       "       'cloudpickle==2.0.0',\n",
       "       'lz4==3.1.3',\n",
       "       'numpy==1.23.5',\n",
       "       'pathlib==1.0.1',\n",
       "       'psutil==5.9.0',\n",
       "       'scikit-learn==1.2.1',\n",
       "       'scipy==1.10.0',\n",
       "       'azureml-inference-server-http~=0.6.1']}],\n",
       "    'name': 'mlflow-env'}},\n",
       "  'environmentVariables': {'AZUREML_ENTRY_SCRIPT': './execution_script.py'},\n",
       "  'docker': {'platform': {'os': 'Linux', 'architecture': 'amd64'},\n",
       "   'baseDockerfile': 'FROM mcr.microsoft.com/azureml/openmpi4.1.0-ubuntu20.04:20230324.v1\\nENV AZUREML_INFERENCE_SERVER_HTTP_ENABLED=true\\n'},\n",
       "  'spark': {'repositories': [], 'packages': [], 'precachePackages': True}},\n",
       " 'modelDetails': [{'id': 'churn_prediction_name:1',\n",
       "   'name': 'churn_prediction_name',\n",
       "   'framework': 'Custom',\n",
       "   'version': 1,\n",
       "   'datasets': [],\n",
       "   'url': 'aml://asset/4d2275a4b33a403fbc849dd4f48e7afe',\n",
       "   'mimeType': 'application/octet-stream',\n",
       "   'createdTime': '2023-05-10T06:49:26.925358Z',\n",
       "   'modifiedTime': '2023-05-10T06:49:26.925358Z',\n",
       "   'unpack': False,\n",
       "   'runId': '1352a106-f9f0-42d5-a13e-2749d5339050',\n",
       "   'experimentName': 'bank_churn',\n",
       "   'tags': {},\n",
       "   'properties': {'flavors.python_function': '{\\n  \"model_path\": \"model.pkl\",\\n  \"predict_fn\": \"predict\",\\n  \"loader_module\": \"mlflow.sklearn\",\\n  \"python_version\": \"3.10.9\",\\n  \"env\": {\\n    \"conda\": \"conda.yaml\",\\n    \"virtualenv\": \"python_env.yaml\"\\n  }\\n}',\n",
       "    'flavors.sklearn': '{\\n  \"pickled_model\": \"model.pkl\",\\n  \"sklearn_version\": \"1.2.1\",\\n  \"serialization_format\": \"cloudpickle\",\\n  \"code\": null\\n}',\n",
       "    'flavors': 'python_function,sklearn',\n",
       "    'azureml.artifactPrefix': 'ExperimentRun/dcid.1352a106-f9f0-42d5-a13e-2749d5339050/churn_model',\n",
       "    'model_json': '{\"run_id\": \"1352a106-f9f0-42d5-a13e-2749d5339050\", \"artifact_path\": \"churn_model\", \"utc_time_created\": \"2023-05-10 06:48:47.945834\", \"flavors\": {\"python_function\": {\"model_path\": \"model.pkl\", \"predict_fn\": \"predict\", \"loader_module\": \"mlflow.sklearn\", \"python_version\": \"3.10.9\", \"env\": {\"conda\": \"conda.yaml\", \"virtualenv\": \"python_env.yaml\"}}, \"sklearn\": {\"pickled_model\": \"model.pkl\", \"sklearn_version\": \"1.2.1\", \"serialization_format\": \"cloudpickle\", \"code\": null}}, \"model_uuid\": \"3593329c5df74a9c9322cc72d9e8fff7\", \"mlflow_version\": \"2.3.1\", \"signature\": {\"inputs\": \"[{\\\\\"name\\\\\": \\\\\"CreditScore\\\\\", \\\\\"type\\\\\": \\\\\"double\\\\\"}, {\\\\\"name\\\\\": \\\\\"Geography\\\\\", \\\\\"type\\\\\": \\\\\"string\\\\\"}, {\\\\\"name\\\\\": \\\\\"Gender\\\\\", \\\\\"type\\\\\": \\\\\"string\\\\\"}, {\\\\\"name\\\\\": \\\\\"Age\\\\\", \\\\\"type\\\\\": \\\\\"double\\\\\"}, {\\\\\"name\\\\\": \\\\\"Balance\\\\\", \\\\\"type\\\\\": \\\\\"double\\\\\"}, {\\\\\"name\\\\\": \\\\\"NumOfProducts\\\\\", \\\\\"type\\\\\": \\\\\"double\\\\\"}, {\\\\\"name\\\\\": \\\\\"IsActiveMember\\\\\", \\\\\"type\\\\\": \\\\\"integer\\\\\"}]\", \"outputs\": \"[{\\\\\"name\\\\\": \\\\\"Exited\\\\\", \\\\\"type\\\\\": \\\\\"integer\\\\\"}]\"}, \"saved_input_example_info\": {\"artifact_path\": \"input_example.json\", \"type\": \"dataframe\", \"pandas_orient\": \"split\"}}',\n",
       "    'azureml.storagePath': 'ExperimentRun/dcid.1352a106-f9f0-42d5-a13e-2749d5339050/churn_model',\n",
       "    'mlflow.modelSourceUri': 'azureml://westus.api.azureml.ms/mlflow/v2.0/subscriptions/84a5808b-5549-459a-98f2-f102e84fa1bb/resourceGroups/EY23/providers/Microsoft.MachineLearningServices/workspaces/aml-anshu/experiments/d6c1be39-8a06-4aad-98bd-414219c3e861/runs/1352a106-f9f0-42d5-a13e-2749d5339050/artifacts/churn_model'},\n",
       "   'createdBy': {'userObjectId': '7501f233-1f33-4666-bc5d-f8e6add99ab0',\n",
       "    'userPuId': '1003BFFD8FA46F19',\n",
       "    'userIdp': 'live.com',\n",
       "    'userAltSecId': '1:live.com:0003BFFDCDDF08B3',\n",
       "    'userIss': 'https://sts.windows.net/13a86542-2185-4187-8e07-7512f5525c55/',\n",
       "    'userTenantId': '13a86542-2185-4187-8e07-7512f5525c55',\n",
       "    'userName': 'Anshu Pandey'}}],\n",
       " 'encryptionProperties': None,\n",
       " 'vnetConfiguration': None,\n",
       " 'flavor': 'python_function'}"
      ]
     },
     "execution_count": 20,
     "metadata": {},
     "output_type": "execute_result"
    }
   ],
   "source": [
    "webservice"
   ]
  },
  {
   "cell_type": "code",
   "execution_count": 21,
   "metadata": {},
   "outputs": [
    {
     "data": {
      "text/plain": [
       "'http://d676cf39-7576-45d1-81b6-9f73bca86469.westus.azurecontainer.io/score'"
      ]
     },
     "execution_count": 21,
     "metadata": {},
     "output_type": "execute_result"
    }
   ],
   "source": [
    "webservice['scoringUri']"
   ]
  },
  {
   "cell_type": "code",
   "execution_count": 30,
   "metadata": {},
   "outputs": [
    {
     "data": {
      "text/plain": [
       "'{\"run_id\": \"1352a106-f9f0-42d5-a13e-2749d5339050\", \"artifact_path\": \"churn_model\", \"utc_time_created\": \"2023-05-10 06:48:47.945834\", \"flavors\": {\"python_function\": {\"model_path\": \"model.pkl\", \"predict_fn\": \"predict\", \"loader_module\": \"mlflow.sklearn\", \"python_version\": \"3.10.9\", \"env\": {\"conda\": \"conda.yaml\", \"virtualenv\": \"python_env.yaml\"}}, \"sklearn\": {\"pickled_model\": \"model.pkl\", \"sklearn_version\": \"1.2.1\", \"serialization_format\": \"cloudpickle\", \"code\": null}}, \"model_uuid\": \"3593329c5df74a9c9322cc72d9e8fff7\", \"mlflow_version\": \"2.3.1\", \"signature\": {\"inputs\": \"[{\\\\\"name\\\\\": \\\\\"CreditScore\\\\\", \\\\\"type\\\\\": \\\\\"double\\\\\"}, {\\\\\"name\\\\\": \\\\\"Geography\\\\\", \\\\\"type\\\\\": \\\\\"string\\\\\"}, {\\\\\"name\\\\\": \\\\\"Gender\\\\\", \\\\\"type\\\\\": \\\\\"string\\\\\"}, {\\\\\"name\\\\\": \\\\\"Age\\\\\", \\\\\"type\\\\\": \\\\\"double\\\\\"}, {\\\\\"name\\\\\": \\\\\"Balance\\\\\", \\\\\"type\\\\\": \\\\\"double\\\\\"}, {\\\\\"name\\\\\": \\\\\"NumOfProducts\\\\\", \\\\\"type\\\\\": \\\\\"double\\\\\"}, {\\\\\"name\\\\\": \\\\\"IsActiveMember\\\\\", \\\\\"type\\\\\": \\\\\"integer\\\\\"}]\", \"outputs\": \"[{\\\\\"name\\\\\": \\\\\"Exited\\\\\", \\\\\"type\\\\\": \\\\\"integer\\\\\"}]\"}, \"saved_input_example_info\": {\"artifact_path\": \"input_example.json\", \"type\": \"dataframe\", \"pandas_orient\": \"split\"}}'"
      ]
     },
     "execution_count": 30,
     "metadata": {},
     "output_type": "execute_result"
    }
   ],
   "source": [
    "webservice['modelDetails'][0]['properties']['model_json']"
   ]
  },
  {
   "cell_type": "code",
   "execution_count": null,
   "metadata": {},
   "outputs": [],
   "source": []
  }
 ],
 "metadata": {
  "kernelspec": {
   "display_name": "base",
   "language": "python",
   "name": "python3"
  },
  "language_info": {
   "codemirror_mode": {
    "name": "ipython",
    "version": 3
   },
   "file_extension": ".py",
   "mimetype": "text/x-python",
   "name": "python",
   "nbconvert_exporter": "python",
   "pygments_lexer": "ipython3",
   "version": "3.10.9"
  },
  "orig_nbformat": 4
 },
 "nbformat": 4,
 "nbformat_minor": 2
}
