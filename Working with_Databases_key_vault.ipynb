{
 "cells": [
  {
   "attachments": {},
   "cell_type": "markdown",
   "metadata": {},
   "source": [
    "# Importing data from any external database as a table dataset in azure ML"
   ]
  },
  {
   "attachments": {},
   "cell_type": "markdown",
   "metadata": {},
   "source": []
  },
  {
   "cell_type": "code",
   "execution_count": 1,
   "metadata": {},
   "outputs": [],
   "source": [
    "from azure.ai.ml.entities import DataImport\n",
    "from azure.ai.ml.data_transfer import Database\n",
    "from azure.ai.ml import MLClient"
   ]
  },
  {
   "cell_type": "code",
   "execution_count": 2,
   "metadata": {},
   "outputs": [
    {
     "name": "stderr",
     "output_type": "stream",
     "text": [
      "Class FeatureStoreOperations: This is an experimental class, and may change at any time. Please see https://aka.ms/azuremlexperimental for more information.\n",
      "Class FeatureSetOperations: This is an experimental class, and may change at any time. Please see https://aka.ms/azuremlexperimental for more information.\n",
      "Class FeatureStoreEntityOperations: This is an experimental class, and may change at any time. Please see https://aka.ms/azuremlexperimental for more information.\n"
     ]
    }
   ],
   "source": [
    "# Handle to the workspace\n",
    "from azure.ai.ml import MLClient\n",
    "\n",
    "# Authentication package\n",
    "from azure.identity import InteractiveBrowserCredential\n",
    "credential = InteractiveBrowserCredential(tenant_id=\"13a86542-2185-4187-8e07-7512f5525c55\")\n",
    "\n",
    "# Get a handle to the workspace\n",
    "ml_client = MLClient(\n",
    "    credential=credential,\n",
    "    subscription_id=\"84a5808b-5549-459a-98f2-f102e84fa1bb\",\n",
    "    resource_group_name=\"EYMAY\",\n",
    "    workspace_name=\"aml-workspace\"\n",
    ")"
   ]
  },
  {
   "cell_type": "code",
   "execution_count": 3,
   "metadata": {},
   "outputs": [
    {
     "name": "stderr",
     "output_type": "stream",
     "text": [
      "Class WorkspaceConnection: This is an experimental class, and may change at any time. Please see https://aka.ms/azuremlexperimental for more information.\n"
     ]
    },
    {
     "data": {
      "text/plain": [
       "WorkspaceConnection({'type': 'azure_sql_db', 'target': 'Server=tcp:anshu-server.database.windows.net,1433;Initial Catalog=anshu-azure-sql;Encrypt=True;TrustServerCertificate=False;Connection Timeout=30', 'credentials': {'type': 'username_password'}, 'metadata': None, 'name': 'emp_data_azure_sql', 'description': None, 'tags': {}, 'properties': {}, 'print_as_yaml': True, 'id': '/subscriptions/84a5808b-5549-459a-98f2-f102e84fa1bb/resourceGroups/EYMAY/providers/Microsoft.MachineLearningServices/workspaces/aml-workspace/connections/emp_data_azure_sql', 'Resource__source_path': None, 'base_path': 'd:\\\\AI\\\\MLOps\\\\EYMAY23', 'creation_context': None, 'serialize': <msrest.serialization.Serializer object at 0x00000213C9C25DB0>})"
      ]
     },
     "execution_count": 3,
     "metadata": {},
     "output_type": "execute_result"
    }
   ],
   "source": [
    "from azure.ai.ml.entities import WorkspaceConnection,UsernamePasswordConfiguration\n",
    "target = \"Server=tcp:anshu-server.database.windows.net,1433;Initial Catalog=anshu-azure-sql;Encrypt=True;TrustServerCertificate=False;Connection Timeout=30\"\n",
    "\n",
    "name = \"emp_data_azure_sql\"\n",
    "wps_connection = WorkspaceConnection(name = name,\n",
    "                                     type=\"azure_sql_db\",\n",
    "                                     target=target,\n",
    "                                     credentials=UsernamePasswordConfiguration(username=\"anshu\",password=\"Qwerty@12345\"))\n",
    "\n",
    "ml_client.connections.create_or_update(workspace_connection=wps_connection)"
   ]
  },
  {
   "cell_type": "code",
   "execution_count": null,
   "metadata": {},
   "outputs": [],
   "source": []
  },
  {
   "cell_type": "code",
   "execution_count": null,
   "metadata": {},
   "outputs": [],
   "source": []
  },
  {
   "attachments": {},
   "cell_type": "markdown",
   "metadata": {},
   "source": [
    "## Working with keyvault to load secrets"
   ]
  },
  {
   "cell_type": "code",
   "execution_count": 3,
   "metadata": {},
   "outputs": [],
   "source": [
    "from azure.identity import InteractiveBrowserCredential\n",
    "credential = InteractiveBrowserCredential(tenant_id=\"13a86542-2185-4187-8e07-7512f5525c55\")"
   ]
  },
  {
   "cell_type": "code",
   "execution_count": 4,
   "metadata": {},
   "outputs": [],
   "source": [
    "import os\n",
    "from azure.keyvault.secrets import SecretClient\n",
    "\n",
    "\n",
    "keyVaultName = \"amlanshukeyvault5076bfa1\"\n",
    "KVUri = f\"https://{keyVaultName}.vault.azure.net\"\n",
    "\n",
    "client = SecretClient(vault_url=KVUri, credential=credential)"
   ]
  },
  {
   "cell_type": "code",
   "execution_count": 5,
   "metadata": {},
   "outputs": [
    {
     "name": "stdout",
     "output_type": "stream",
     "text": [
      "Creating a secret in amlanshukeyvault5076bfa1 called 'DBpassword' with the value 'Qwerty@12345' ...\n",
      " done.\n"
     ]
    }
   ],
   "source": [
    "secretName = input(\"Input a name for your secret > \")\n",
    "secretValue = input(\"Input a value for your secret > \")\n",
    "\n",
    "print(f\"Creating a secret in {keyVaultName} called '{secretName}' with the value '{secretValue}' ...\")\n",
    "\n",
    "client.set_secret(secretName, secretValue)\n",
    "\n",
    "print(\" done.\")\n"
   ]
  },
  {
   "cell_type": "code",
   "execution_count": 6,
   "metadata": {},
   "outputs": [
    {
     "name": "stdout",
     "output_type": "stream",
     "text": [
      "Retrieving your secret from amlanshukeyvault5076bfa1.\n",
      "Your secret is 'Qwerty@12345'.\n",
      "Deleting your secret from amlanshukeyvault5076bfa1 ...\n",
      " done.\n"
     ]
    }
   ],
   "source": [
    "print(f\"Retrieving your secret from {keyVaultName}.\")\n",
    "\n",
    "retrieved_secret = client.get_secret(secretName)\n",
    "\n",
    "print(f\"Your secret is '{retrieved_secret.value}'.\")\n",
    "print(f\"Deleting your secret from {keyVaultName} ...\")\n",
    "\n",
    "poller = client.begin_delete_secret(secretName)\n",
    "deleted_secret = poller.result()\n",
    "\n",
    "print(\" done.\")"
   ]
  },
  {
   "attachments": {},
   "cell_type": "markdown",
   "metadata": {},
   "source": [
    "## Working with Azure SQL Databases"
   ]
  },
  {
   "cell_type": "code",
   "execution_count": 24,
   "metadata": {},
   "outputs": [],
   "source": [
    "import pyodbc\n",
    "server = 'myserver-anshu.database.windows.net'\n",
    "database = 'myDB'\n",
    "username = 'anshu'\n",
    "password = 'Qwerty@12345'   \n",
    "driver= '{ODBC Driver 18 for SQL Server}'\n"
   ]
  },
  {
   "cell_type": "code",
   "execution_count": 1,
   "metadata": {},
   "outputs": [
    {
     "name": "stdout",
     "output_type": "stream",
     "text": [
      "1 John Doe\n",
      "2 Jane Doe\n",
      "3 Anshu Pandey\n",
      "4 Kelly Peter\n",
      "5 Macon Dary\n"
     ]
    }
   ],
   "source": [
    "\n",
    "with pyodbc.connect('DRIVER='+driver+';SERVER=tcp:'+server+';PORT=1433;DATABASE='+database+';UID='+username+';PWD='+ password) as conn:\n",
    "    with conn.cursor() as cursor:\n",
    "        cursor.execute(\"SELECT * from dbo.emp;\")\n",
    "        row = cursor.fetchone()\n",
    "        while row:\n",
    "            print (str(row[0]) + \" \" + str(row[1]) + \" \" + str(row[2]))\n",
    "            row = cursor.fetchone()"
   ]
  },
  {
   "cell_type": "code",
   "execution_count": null,
   "metadata": {},
   "outputs": [],
   "source": []
  }
 ],
 "metadata": {
  "kernelspec": {
   "display_name": "base",
   "language": "python",
   "name": "python3"
  },
  "language_info": {
   "codemirror_mode": {
    "name": "ipython",
    "version": 3
   },
   "file_extension": ".py",
   "mimetype": "text/x-python",
   "name": "python",
   "nbconvert_exporter": "python",
   "pygments_lexer": "ipython3",
   "version": "3.10.9"
  },
  "orig_nbformat": 4
 },
 "nbformat": 4,
 "nbformat_minor": 2
}
