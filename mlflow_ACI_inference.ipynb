{
 "cells": [
  {
   "cell_type": "code",
   "execution_count": 7,
   "metadata": {},
   "outputs": [],
   "source": [
    "import requests \n",
    "import json"
   ]
  },
  {
   "cell_type": "code",
   "execution_count": 9,
   "metadata": {},
   "outputs": [],
   "source": [
    "URI = \"http://8b7b6bc9-28da-465d-812d-cac2f6a51a19.westus.azurecontainer.io/score\"\n",
    "\n",
    "input_sample = {\"input_data\":{\n",
    "  \"columns\": [\n",
    "    \"CreditScore\",\n",
    "    \"Geography\",\n",
    "    \"Gender\",\n",
    "    \"Age\",\n",
    "    \"Balance\",\n",
    "    \"NumOfProducts\",\n",
    "    \"IsActiveMember\"\n",
    "  ],\n",
    "  \"data\": [\n",
    "    [\n",
    "      750,\n",
    "      \"France\",\n",
    "      \"Male\",\n",
    "      32,\n",
    "      15000,\n",
    "      1,\n",
    "      1\n",
    "    ]\n",
    "  ]\n",
    "}}\n",
    "\n",
    "response = requests.post(url=URI,\n",
    "                         data = json.dumps(input_sample),\n",
    "                         headers={\"Content-type\":\"application/json\"})"
   ]
  },
  {
   "cell_type": "code",
   "execution_count": 10,
   "metadata": {},
   "outputs": [
    {
     "data": {
      "text/plain": [
       "200"
      ]
     },
     "execution_count": 10,
     "metadata": {},
     "output_type": "execute_result"
    }
   ],
   "source": [
    "response.status_code"
   ]
  },
  {
   "cell_type": "code",
   "execution_count": 11,
   "metadata": {},
   "outputs": [
    {
     "data": {
      "text/plain": [
       "b'[0]'"
      ]
     },
     "execution_count": 11,
     "metadata": {},
     "output_type": "execute_result"
    }
   ],
   "source": [
    "response.content"
   ]
  },
  {
   "cell_type": "code",
   "execution_count": 12,
   "metadata": {},
   "outputs": [
    {
     "name": "stdout",
     "output_type": "stream",
     "text": [
      "b'[0]'\n"
     ]
    }
   ],
   "source": [
    "import urllib.request\n",
    "import json\n",
    "import os\n",
    "import ssl\n",
    "\n",
    "def allowSelfSignedHttps(allowed):\n",
    "    # bypass the server certificate verification on client side\n",
    "    if allowed and not os.environ.get('PYTHONHTTPSVERIFY', '') and getattr(ssl, '_create_unverified_context', None):\n",
    "        ssl._create_default_https_context = ssl._create_unverified_context\n",
    "\n",
    "allowSelfSignedHttps(True) # this line is needed if you use self-signed certificate in your scoring service.\n",
    "\n",
    "# Request data goes here\n",
    "# The example below assumes JSON formatting which may be updated\n",
    "# depending on the format your endpoint expects.\n",
    "# More information can be found here:\n",
    "# https://docs.microsoft.com/azure/machine-learning/how-to-deploy-advanced-entry-script\n",
    "data = {\"input_data\":{\n",
    "  \"columns\": [\n",
    "    \"CreditScore\",\n",
    "    \"Geography\",\n",
    "    \"Gender\",\n",
    "    \"Age\",\n",
    "    \"Balance\",\n",
    "    \"NumOfProducts\",\n",
    "    \"IsActiveMember\"\n",
    "  ],\n",
    "  \"data\": [\n",
    "    [\n",
    "      750,\n",
    "      \"France\",\n",
    "      \"Male\",\n",
    "      32,\n",
    "      15000,\n",
    "      1,\n",
    "      1\n",
    "    ]\n",
    "  ]\n",
    "}}\n",
    "\n",
    "body = str.encode(json.dumps(data))\n",
    "\n",
    "url = 'http://8b7b6bc9-28da-465d-812d-cac2f6a51a19.westus.azurecontainer.io/score'\n",
    "\n",
    "\n",
    "headers = {'Content-Type':'application/json'}\n",
    "\n",
    "req = urllib.request.Request(url, body, headers)\n",
    "\n",
    "try:\n",
    "    response = urllib.request.urlopen(req)\n",
    "\n",
    "    result = response.read()\n",
    "    print(result)\n",
    "except urllib.error.HTTPError as error:\n",
    "    print(\"The request failed with status code: \" + str(error.code))\n",
    "\n",
    "    # Print the headers - they include the requert ID and the timestamp, which are useful for debugging the failure\n",
    "    print(error.info())\n",
    "    print(error.read().decode(\"utf8\", 'ignore'))"
   ]
  },
  {
   "cell_type": "code",
   "execution_count": null,
   "metadata": {},
   "outputs": [],
   "source": []
  }
 ],
 "metadata": {
  "kernelspec": {
   "display_name": "base",
   "language": "python",
   "name": "python3"
  },
  "language_info": {
   "codemirror_mode": {
    "name": "ipython",
    "version": 3
   },
   "file_extension": ".py",
   "mimetype": "text/x-python",
   "name": "python",
   "nbconvert_exporter": "python",
   "pygments_lexer": "ipython3",
   "version": "3.10.9"
  },
  "orig_nbformat": 4
 },
 "nbformat": 4,
 "nbformat_minor": 2
}
