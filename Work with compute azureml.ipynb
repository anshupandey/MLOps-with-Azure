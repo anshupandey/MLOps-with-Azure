{
  "cells": [
    {
      "attachments": {},
      "cell_type": "markdown",
      "metadata": {
        "nteract": {
          "transient": {
            "deleting": false
          }
        }
      },
      "source": [
        "# Work with Compute\n",
        "\n",
        "When you run a script as an Azure Machine Learning job, you need to define the execution context for the job run. One key configuration is the compute target on which the script will be run. This could be the local workstation (in this case the compute instance), or a remote compute target such as the Azure Machine Learning managed compute cluster that is provisioned on-demand.\n",
        "\n",
        "In this notebook, you'll create a compute cluster and explore compute targets for jobs.\n",
        "\n",
        "## Before you start\n",
        "\n",
        "You'll need the latest version of the  **azureml-ai-ml** package to run the code in this notebook. Run the cell below to verify that it is installed.\n",
        "\n",
        "> **Note**:\n",
        "> If the **azure-ai-ml** package is not installed, run `pip install azure-ai-ml` to install it."
      ]
    },
    {
      "cell_type": "code",
      "execution_count": 33,
      "metadata": {
        "gather": {
          "logged": 1665745893251
        }
      },
      "outputs": [
        {
          "name": "stdout",
          "output_type": "stream",
          "text": [
            "Name: azure-ai-ml\n",
            "Version: 1.6.0\n",
            "Summary: Microsoft Azure Machine Learning Client Library for Python\n",
            "Home-page: https://github.com/Azure/azure-sdk-for-python\n",
            "Author: Microsoft Corporation\n",
            "Author-email: azuresdkengsysadmins@microsoft.com\n",
            "License: MIT License\n",
            "Location: c:\\users\\anshu\\appdata\\roaming\\python\\python310\\site-packages\n",
            "Requires: azure-common, azure-core, azure-mgmt-core, azure-storage-blob, azure-storage-file-datalake, azure-storage-file-share, colorama, isodate, jsonschema, marshmallow, msrest, opencensus-ext-azure, pydash, pyjwt, pyyaml, strictyaml, tqdm, typing-extensions\n",
            "Required-by: \n",
            "Note: you may need to restart the kernel to use updated packages.\n"
          ]
        }
      ],
      "source": [
        "pip show azure-ai-ml"
      ]
    },
    {
      "attachments": {},
      "cell_type": "markdown",
      "metadata": {
        "nteract": {
          "transient": {
            "deleting": false
          }
        }
      },
      "source": [
        "## Connect to your workspace\n",
        "\n",
        "With the required SDK packages installed, now you're ready to connect to your workspace.\n",
        "\n",
        "To connect to a workspace, we need identifier parameters - a subscription ID, resource group name, and workspace name. The resource group name and workspace name are already filled in for you. You only need the subscription ID to complete the command.\n",
        "\n",
        "To find the necessary parameters, click on the subscription and workspace name at the top right of the Studio. A pane will open on the right.\n",
        "\n",
        "<p style=\"color:red;font-size:120%;background-color:yellow;font-weight:bold\"> Copy the subscription ID and replace **YOUR-SUBSCRIPTION-ID** with the value you copied. </p>"
      ]
    },
    {
      "cell_type": "code",
      "execution_count": 12,
      "metadata": {
        "gather": {
          "logged": 1665745927409
        },
        "jupyter": {
          "outputs_hidden": false,
          "source_hidden": false
        },
        "nteract": {
          "transient": {
            "deleting": false
          }
        }
      },
      "outputs": [],
      "source": [
        "# enter details of your AML workspace\n",
        "subscription_id = \"84a5808b-5549-459a-98f2-f102e84fa1bb\"\n",
        "resource_group = \"EYMAY\"\n",
        "workspace = \"aml-anshu2\""
      ]
    },
    {
      "cell_type": "code",
      "execution_count": 13,
      "metadata": {},
      "outputs": [],
      "source": [
        "from azure.identity import DefaultAzureCredential,InteractiveBrowserCredential\n",
        "credential = InteractiveBrowserCredential(tenant_id=\"13a86542-2185-4187-8e07-7512f5525c55\")"
      ]
    },
    {
      "cell_type": "code",
      "execution_count": 14,
      "metadata": {},
      "outputs": [],
      "source": [
        "from azure.ai.ml import MLClient\n",
        "from azure.identity import DefaultAzureCredential\n",
        "\n",
        "# get a handle to the workspace\n",
        "ml_client = MLClient(\n",
        "    credential, subscription_id, resource_group, workspace\n",
        ")"
      ]
    },
    {
      "cell_type": "code",
      "execution_count": 15,
      "metadata": {},
      "outputs": [],
      "source": [
        "from azure.ai.ml.entities import Workspace"
      ]
    },
    {
      "cell_type": "code",
      "execution_count": 16,
      "metadata": {},
      "outputs": [
        {
          "name": "stderr",
          "output_type": "stream",
          "text": [
            "Class ManagedNetwork: This is an experimental class, and may change at any time. Please see https://aka.ms/azuremlexperimental for more information.\n",
            "The deployment request aml-anshu2-3082457 was accepted. ARM deployment URI for reference: \n",
            "https://portal.azure.com//#blade/HubsExtension/DeploymentDetailsBlade/overview/id/%2Fsubscriptions%2F84a5808b-5549-459a-98f2-f102e84fa1bb%2FresourceGroups%2FEYMAY%2Fproviders%2FMicrosoft.Resources%2Fdeployments%2Faml-anshu2-3082457\n"
          ]
        }
      ],
      "source": [
        "try:\n",
        "    ws = Workspace(name=\"aml-anshu2\",location=\"westus\",\n",
        "                )\n",
        "\n",
        "    ws = ml_client.workspaces.begin_create(ws)\n",
        "except:\n",
        "    print(\"workspace already exists\")\n"
      ]
    },
    {
      "attachments": {},
      "cell_type": "markdown",
      "metadata": {},
      "source": [
        "    # creating a new workspace with Azure ml SDK v2, authentication with interactive browser auth\n",
        "    from azure.ai.ml.entities import Workspace\n",
        "    ml_client2 = MLClient(\n",
        "        credential, subscription_id, \"EY23\", \"aml-anshu3\"\n",
        "    )\n",
        "\n",
        "    ws = Workspace(name=\"aml-anshu3\",location=\"westus\",\n",
        "                )\n",
        "\n",
        "    ws = ml_client2.workspaces.begin_create(ws)\n",
        "\n"
      ]
    },
    {
      "attachments": {},
      "cell_type": "markdown",
      "metadata": {
        "nteract": {
          "transient": {
            "deleting": false
          }
        }
      },
      "source": [
        "## Create a compute cluster\n",
        "\n",
        "In many cases, your local compute resources may not be sufficient to process a complex or long-running experiment that needs to process a large volume of data; and you may want to take advantage of the ability to dynamically create and use compute resources in the cloud. Azure Machine Learning supports a range of compute targets, which you can define in your workpace and use to run jobs; paying for the resources only when using them.\n",
        "\n",
        "You can create a compute cluster in [Azure Machine Learning studio](https://ml.azure.com), by using the Python SDK, or the Azure CLI. The following code cell checks your workspace for the existence of a compute cluster names `aml-cluster`, and if it doesn't exist, creates it."
      ]
    },
    {
      "cell_type": "code",
      "execution_count": 18,
      "metadata": {
        "gather": {
          "logged": 1665746211525
        },
        "jupyter": {
          "outputs_hidden": false,
          "source_hidden": false
        },
        "nteract": {
          "transient": {
            "deleting": false
          }
        }
      },
      "outputs": [
        {
          "name": "stdout",
          "output_type": "stream",
          "text": [
            "Creating a new cpu compute target...\n"
          ]
        }
      ],
      "source": [
        "from azure.ai.ml.entities import AmlCompute\n",
        "\n",
        "# Name assigned to the compute cluster\n",
        "cpu_compute_target = \"aml-cluster\"\n",
        "\n",
        "try:\n",
        "    # let's see if the compute target already exists\n",
        "    cpu_cluster = ml_client.compute.get(cpu_compute_target)\n",
        "    print(\n",
        "        f\"You already have a cluster named {cpu_compute_target}, we'll reuse it as is.\"\n",
        "    )\n",
        "\n",
        "except Exception:\n",
        "    print(\"Creating a new cpu compute target...\")\n",
        "\n",
        "    # Let's create the Azure ML compute object with the intended parameters\n",
        "    cpu_cluster = AmlCompute(\n",
        "        name=cpu_compute_target,\n",
        "        # Azure ML Compute is the on-demand VM service\n",
        "        type=\"amlcompute\",\n",
        "        # VM Family\n",
        "        size=\"STANDARD_DS11_V2\",\n",
        "        # Minimum running nodes when there is no job running\n",
        "        min_instances=0,\n",
        "        # Nodes in cluster\n",
        "        max_instances=2,\n",
        "        # How many seconds will the node running after the job termination\n",
        "        idle_time_before_scale_down=120,\n",
        "        # Dedicated or LowPriority. The latter is cheaper but there is a chance of job termination\n",
        "        tier=\"Dedicated\",\n",
        "    )\n",
        "\n",
        "    # Now, we pass the object to MLClient's create_or_update method\n",
        "    cpu_cluster = ml_client.compute.begin_create_or_update(cpu_cluster)\n"
      ]
    },
    {
      "attachments": {},
      "cell_type": "markdown",
      "metadata": {
        "nteract": {
          "transient": {
            "deleting": false
          }
        }
      },
      "source": [
        "After you've created a compute cluster, you can only change the configuration for:\n",
        "\n",
        "- `min_instances`: Minimum number of nodes\n",
        "- `max_instances`: Maximum number of nodes\n",
        "- `idle_time_before_scale_down`: Idle time before scale down\n",
        "\n",
        "Currently, your compute cluster `aml-cluster` can only scale do a maximum of one node. Let's change that to two, to allow for parallel compute."
      ]
    },
    {
      "cell_type": "code",
      "execution_count": 20,
      "metadata": {
        "gather": {
          "logged": 1665746829045
        },
        "jupyter": {
          "outputs_hidden": false,
          "source_hidden": false
        },
        "nteract": {
          "transient": {
            "deleting": false
          }
        }
      },
      "outputs": [
        {
          "data": {
            "text/plain": [
              "<azure.core.polling._poller.LROPoller at 0x1c576a8de10>"
            ]
          },
          "execution_count": 20,
          "metadata": {},
          "output_type": "execute_result"
        }
      ],
      "source": [
        "from azure.ai.ml.entities import AmlCompute\n",
        "\n",
        "cluster_scale = AmlCompute(\n",
        "    name=\"aml-cluster\",\n",
        "    max_instances=2,\n",
        ")\n",
        "ml_client.begin_create_or_update(cluster_scale)"
      ]
    },
    {
      "attachments": {},
      "cell_type": "markdown",
      "metadata": {
        "nteract": {
          "transient": {
            "deleting": false
          }
        }
      },
      "source": [
        "When the compute cluster is updated, you can verify its configuration by printing its attributes."
      ]
    },
    {
      "cell_type": "code",
      "execution_count": 21,
      "metadata": {
        "gather": {
          "logged": 1665747135475
        },
        "jupyter": {
          "outputs_hidden": false,
          "source_hidden": false
        },
        "nteract": {
          "transient": {
            "deleting": false
          }
        }
      },
      "outputs": [
        {
          "name": "stdout",
          "output_type": "stream",
          "text": [
            "AMLCompute with name aml-cluster has a maximum of 2 nodes\n"
          ]
        }
      ],
      "source": [
        "cpu_cluster = ml_client.compute.get(\"aml-cluster\")\n",
        "\n",
        "print (\n",
        "        f\"AMLCompute with name {cpu_cluster.name} has a maximum of {cpu_cluster.max_instances} nodes\"\n",
        "    )"
      ]
    },
    {
      "attachments": {},
      "cell_type": "markdown",
      "metadata": {},
      "source": [
        "## Create a script to train a model\n",
        "\n",
        "To train a model, you'll first create the **diabetes_training.py** script in the **src** folder. The script uses the **diabetes.csv** file in the same folder as the training data."
      ]
    },
    {
      "cell_type": "code",
      "execution_count": 22,
      "metadata": {},
      "outputs": [],
      "source": [
        "import os\n",
        "os.makedirs(\"src\",exist_ok=True)"
      ]
    },
    {
      "cell_type": "code",
      "execution_count": null,
      "metadata": {},
      "outputs": [],
      "source": []
    },
    {
      "cell_type": "code",
      "execution_count": 45,
      "metadata": {},
      "outputs": [
        {
          "name": "stdout",
          "output_type": "stream",
          "text": [
            "Overwriting src/diabetes-training.py\n"
          ]
        }
      ],
      "source": [
        "%%writefile src/diabetes-training.py\n",
        "# import libraries\n",
        "import pandas as pd\n",
        "import numpy as np\n",
        "from sklearn.model_selection import train_test_split\n",
        "from sklearn.linear_model import LogisticRegression\n",
        "from sklearn.metrics import roc_auc_score\n",
        "from sklearn.metrics import roc_curve\n",
        "\n",
        "# load the diabetes dataset\n",
        "print(\"Loading Data...\")\n",
        "diabetes = pd.read_csv('diabetes.csv')\n",
        "\n",
        "# separate features and labels\n",
        "X, y = diabetes[['Pregnancies','PlasmaGlucose','DiastolicBloodPressure','TricepsThickness','SerumInsulin','BMI','DiabetesPedigree','Age']].values, diabetes['Diabetic'].values\n",
        "\n",
        "# split data into training set and test set\n",
        "X_train, X_test, y_train, y_test = train_test_split(X, y, test_size=0.30, random_state=0)\n",
        "\n",
        "\n",
        "\n",
        "# set regularization hyperparameter\n",
        "reg = 0.01\n",
        "\n",
        "# train a logistic regression model\n",
        "print('Training a logistic regression model with regularization rate of', reg)\n",
        "model = LogisticRegression(C=1/reg, solver=\"liblinear\").fit(X_train, y_train)\n",
        "\n",
        "# calculate accuracy\n",
        "y_hat = model.predict(X_test)\n",
        "acc = np.average(y_hat == y_test)\n",
        "print('Accuracy:', acc)\n",
        "\n",
        "# calculate AUC\n",
        "y_scores = model.predict_proba(X_test)\n",
        "auc = roc_auc_score(y_test,y_scores[:,1])\n",
        "print('AUC: ' + str(auc))\n",
        "\n",
        "import os\n",
        "import joblib\n",
        "os.makedirs('outputs', exist_ok=True)\n",
        "joblib.dump(value=model, filename='outputs/model.pkl')\n"
      ]
    },
    {
      "attachments": {},
      "cell_type": "markdown",
      "metadata": {},
      "source": [
        "## Working with Environment"
      ]
    },
    {
      "cell_type": "code",
      "execution_count": null,
      "metadata": {},
      "outputs": [
        {
          "name": "stdout",
          "output_type": "stream",
          "text": [
            "churn-aci-env\n",
            "AzureML-ACPT-pytorch-1.13-py38-cuda11.7-gpu\n",
            "AzureML-ACPT-pytorch-1.12-py38-cuda11.6-gpu\n",
            "AzureML-ACPT-pytorch-1.12-py39-cuda11.6-gpu\n",
            "AzureML-ACPT-pytorch-1.11-py38-cuda11.5-gpu\n",
            "AzureML-ACPT-pytorch-1.11-py38-cuda11.3-gpu\n",
            "AzureML-responsibleai-0.21-ubuntu20.04-py38-cpu\n",
            "AzureML-responsibleai-0.20-ubuntu20.04-py38-cpu\n",
            "AzureML-tensorflow-2.5-ubuntu20.04-py38-cuda11-gpu\n",
            "AzureML-tensorflow-2.6-ubuntu20.04-py38-cuda11-gpu\n",
            "AzureML-tensorflow-2.7-ubuntu20.04-py38-cuda11-gpu\n",
            "AzureML-sklearn-1.0-ubuntu20.04-py38-cpu\n",
            "AzureML-pytorch-1.10-ubuntu18.04-py38-cuda11-gpu\n",
            "AzureML-pytorch-1.9-ubuntu18.04-py37-cuda11-gpu\n",
            "AzureML-pytorch-1.8-ubuntu18.04-py37-cuda11-gpu\n",
            "AzureML-sklearn-0.24-ubuntu18.04-py37-cpu\n",
            "AzureML-lightgbm-3.2-ubuntu18.04-py37-cpu\n",
            "AzureML-pytorch-1.7-ubuntu18.04-py37-cuda11-gpu\n",
            "AzureML-tensorflow-2.4-ubuntu18.04-py37-cuda11-gpu\n",
            "AzureML-Triton\n",
            "AzureML-Designer-Score\n",
            "AzureML-VowpalWabbit-8.8.0\n",
            "AzureML-PyTorch-1.3-CPU\n"
          ]
        }
      ],
      "source": [
        "#list all existing environment options\n",
        "env_list = ml_client.environments.list()\n",
        "for env in env_list:\n",
        "    print(env.name)"
      ]
    },
    {
      "cell_type": "code",
      "execution_count": null,
      "metadata": {},
      "outputs": [
        {
          "name": "stdout",
          "output_type": "stream",
          "text": [
            "An environment for tasks such as regression, clustering, and classification with Scikit-learn. Contains the Azure ML SDK and additional python packages. {'Scikit-learn': '0.24.1', 'OS': 'Ubuntu18.04', 'Training': ''}\n"
          ]
        }
      ],
      "source": [
        "myenv = ml_client.environments.get(\"AzureML-sklearn-0.24-ubuntu18.04-py37-cpu\",version=44)\n",
        "print(myenv.description,myenv.tags)"
      ]
    },
    {
      "cell_type": "code",
      "execution_count": null,
      "metadata": {},
      "outputs": [],
      "source": [
        "%%writefile src/conda-env.yml\n",
        "name:basic-env-cpu\n",
        "channel:\n",
        "- conda-forge\n",
        "dependencies:\n",
        "- python=3.7\n",
        "- scikit-learn\n",
        "- pandas\n",
        "- numpy \n",
        "- matplotlib\n",
        "- tensorflow"
      ]
    },
    {
      "cell_type": "code",
      "execution_count": null,
      "metadata": {},
      "outputs": [],
      "source": [
        "# custom env\n",
        "\n",
        "base_img = \"mcr.microsoft.com/azureml/minimal-ubuntu18.04-py37-cpu-inference:latest\"\n",
        "\n",
        "from azure.ai.ml.entities import Environment\n",
        "\n",
        "myenv = Environment(image=base_img,\n",
        "                    name='sample_env',\n",
        "                    conda_file=\"src/conda-env.yml\")\n",
        "\n",
        "ml_client.environments.create_or_update(myenv)"
      ]
    },
    {
      "attachments": {},
      "cell_type": "markdown",
      "metadata": {
        "nteract": {
          "transient": {
            "deleting": false
          }
        }
      },
      "source": [
        "## Run a job on a compute cluster\n",
        "\n",
        "Now, you're ready to run the job on the compute cluster you created.\n",
        "\n",
        "> **Note**:\n",
        "> The job will take some time to start as the compute cluster will need to scale from zero to one node. Once the compute cluster is ready, the script will be run. When the job has finished, the compute cluster will scale back down to zero nodes. You can review the compute cluster's status in the **Compute** page."
      ]
    },
    {
      "cell_type": "code",
      "execution_count": 32,
      "metadata": {},
      "outputs": [
        {
          "name": "stdout",
          "output_type": "stream",
          "text": [
            "Writing src/conda-env.yml\n"
          ]
        }
      ],
      "source": []
    },
    {
      "cell_type": "code",
      "execution_count": 46,
      "metadata": {
        "gather": {
          "logged": 1665750791983
        },
        "jupyter": {
          "outputs_hidden": false,
          "source_hidden": false
        },
        "nteract": {
          "transient": {
            "deleting": false
          }
        }
      },
      "outputs": [
        {
          "name": "stdout",
          "output_type": "stream",
          "text": [
            "Monitor your job at https://ml.azure.com/runs/funny_engine_hhjgb1l13c?wsid=/subscriptions/84a5808b-5549-459a-98f2-f102e84fa1bb/resourcegroups/EYMAY/workspaces/aml-anshu2&tid=13a86542-2185-4187-8e07-7512f5525c55\n"
          ]
        }
      ],
      "source": [
        "from azure.ai.ml import command\n",
        "\n",
        "# configure job\n",
        "job = command(\n",
        "    code=\"./src\",\n",
        "    command=\"python diabetes-training.py\",\n",
        "    environment=\"AzureML-sklearn-0.24-ubuntu18.04-py37-cpu@latest\",\n",
        "    compute=\"aml-cluster\",\n",
        "    display_name=\"diabetes-train-cluster\",\n",
        "    experiment_name=\"diabetes-training\"\n",
        "    )\n",
        "\n",
        "# submit job\n",
        "returned_job = ml_client.create_or_update(job)\n",
        "aml_url = returned_job.studio_url\n",
        "print(\"Monitor your job at\", aml_url)"
      ]
    },
    {
      "cell_type": "code",
      "execution_count": 28,
      "metadata": {},
      "outputs": [
        {
          "name": "stdout",
          "output_type": "stream",
          "text": [
            "diabetes-train-cluster type: command\n",
            "outputs:\n",
            "  default:\n",
            "    mode: rw_mount\n",
            "    type: uri_folder\n",
            "    path: azureml://datastores/workspaceartifactstore/ExperimentRun/dcid.eager_rabbit_jzpg45b5hx\n",
            "environment: azureml:AzureML-sklearn-0.24-ubuntu18.04-py37-cpu@latest\n",
            "resources:\n",
            "  instance_count: 1\n",
            "  shm_size: 2g\n",
            "compute: azureml:aml-cluster\n",
            "services:\n",
            "  Tracking:\n",
            "    endpoint: azureml://westus.api.azureml.ms/mlflow/v1.0/subscriptions/84a5808b-5549-459a-98f2-f102e84fa1bb/resourceGroups/EYMAY/providers/Microsoft.MachineLearningServices/workspaces/aml-anshu2?\n",
            "    type: Tracking\n",
            "  Studio:\n",
            "    endpoint: https://ml.azure.com/runs/eager_rabbit_jzpg45b5hx?wsid=/subscriptions/84a5808b-5549-459a-98f2-f102e84fa1bb/resourcegroups/EYMAY/workspaces/aml-anshu2&tid=13a86542-2185-4187-8e07-7512f5525c55\n",
            "    type: Studio\n",
            "component:\n",
            "  name: eager_rabbit_jzpg45b5hx\n",
            "  display_name: diabetes-train-cluster\n",
            "  type: command\n",
            "  outputs:\n",
            "    default:\n",
            "      type: uri_folder\n",
            "      mode: rw_mount\n",
            "  command: python diabetes-training.py\n",
            "  environment: azureml:AzureML-sklearn-0.24-ubuntu18.04-py37-cpu@latest\n",
            "  code: azureml:/subscriptions/84a5808b-5549-459a-98f2-f102e84fa1bb/resourceGroups/EYMAY/providers/Microsoft.MachineLearningServices/workspaces/aml-anshu2/codes/e975cf23-9712-44c7-8ef3-384d292bf256/versions/1\n",
            "  is_deterministic: true\n",
            "  creation_context:\n",
            "    created_at: '2023-05-12T02:56:00.363988+00:00'\n",
            "    created_by: Anshu Pandey\n",
            "    created_by_type: User\n",
            "properties:\n",
            "  mlflow.source.git.repoURL: https://github.com/anshupandey/MLOps-with-Azure\n",
            "  mlflow.source.git.branch: main\n",
            "  mlflow.source.git.commit: 5c8ba5e0aebf04fd4f2a791c6f9652db566032be\n",
            "  azureml.git.dirty: 'True'\n",
            "  _azureml.ComputeTargetType: amlctrain\n",
            "  ContentSnapshotId: a77b6ddb-24b9-469e-a64e-88e2ad4a014f\n",
            " eager_rabbit_jzpg45b5hx\n"
          ]
        }
      ],
      "source": [
        "print(returned_job.display_name,returned_job,returned_job.name)"
      ]
    },
    {
      "cell_type": "code",
      "execution_count": 49,
      "metadata": {},
      "outputs": [
        {
          "ename": "HttpResponseError",
          "evalue": "Operation returned an invalid status 'The Recurrence StartTime must be in the format: yyyy-MM-ddTHH:mm:ss'\nContent: {\n  \"error\": {\n    \"code\": \"UserError\",\n    \"severity\": null,\n    \"message\": \"The Recurrence StartTime must be in the format: yyyy-MM-ddTHH:mm:ss\",\n    \"messageFormat\": null,\n    \"messageParameters\": null,\n    \"referenceCode\": null,\n    \"detailsUri\": null,\n    \"target\": null,\n    \"details\": [],\n    \"innerError\": null,\n    \"debugInfo\": null,\n    \"additionalInfo\": null\n  },\n  \"correlation\": {\n    \"operation\": \"6aa231ce2d057aa6859cce33ba7e8905\",\n    \"request\": \"75cdba3e06fa72c4\"\n  },\n  \"environment\": \"westus\",\n  \"location\": \"westus\",\n  \"time\": \"2023-05-11T06:51:48.3780309+00:00\",\n  \"componentName\": \"machinelearningcompute\"\n}",
          "output_type": "error",
          "traceback": [
            "\u001b[1;31m---------------------------------------------------------------------------\u001b[0m",
            "\u001b[1;31mHttpResponseError\u001b[0m                         Traceback (most recent call last)",
            "Cell \u001b[1;32mIn[49], line 22\u001b[0m\n\u001b[0;32m     18\u001b[0m compute_schedule \u001b[39m=\u001b[39m ComputeSchedules(compute_start_stop\u001b[39m=\u001b[39m[myschedule1,myschedule2])\n\u001b[0;32m     21\u001b[0m mycompute \u001b[39m=\u001b[39m ComputeInstance(name\u001b[39m=\u001b[39m\u001b[39m\"\u001b[39m\u001b[39maml-cluster\u001b[39m\u001b[39m\"\u001b[39m,schedules\u001b[39m=\u001b[39mcompute_schedule)\n\u001b[1;32m---> 22\u001b[0m ml_client\u001b[39m.\u001b[39;49mcompute\u001b[39m.\u001b[39;49mbegin_create_or_update(mycompute)\n",
            "File \u001b[1;32m~\\AppData\\Roaming\\Python\\Python310\\site-packages\\azure\\core\\tracing\\decorator.py:76\u001b[0m, in \u001b[0;36mdistributed_trace.<locals>.decorator.<locals>.wrapper_use_tracer\u001b[1;34m(*args, **kwargs)\u001b[0m\n\u001b[0;32m     74\u001b[0m span_impl_type \u001b[39m=\u001b[39m settings\u001b[39m.\u001b[39mtracing_implementation()\n\u001b[0;32m     75\u001b[0m \u001b[39mif\u001b[39;00m span_impl_type \u001b[39mis\u001b[39;00m \u001b[39mNone\u001b[39;00m:\n\u001b[1;32m---> 76\u001b[0m     \u001b[39mreturn\u001b[39;00m func(\u001b[39m*\u001b[39margs, \u001b[39m*\u001b[39m\u001b[39m*\u001b[39mkwargs)\n\u001b[0;32m     78\u001b[0m \u001b[39m# Merge span is parameter is set, but only if no explicit parent are passed\u001b[39;00m\n\u001b[0;32m     79\u001b[0m \u001b[39mif\u001b[39;00m merge_span \u001b[39mand\u001b[39;00m \u001b[39mnot\u001b[39;00m passed_in_parent:\n",
            "File \u001b[1;32m~\\AppData\\Roaming\\Python\\Python310\\site-packages\\azure\\ai\\ml\\_telemetry\\activity.py:263\u001b[0m, in \u001b[0;36mmonitor_with_activity.<locals>.monitor.<locals>.wrapper\u001b[1;34m(*args, **kwargs)\u001b[0m\n\u001b[0;32m    260\u001b[0m \u001b[39m@functools\u001b[39m\u001b[39m.\u001b[39mwraps(f)\n\u001b[0;32m    261\u001b[0m \u001b[39mdef\u001b[39;00m \u001b[39mwrapper\u001b[39m(\u001b[39m*\u001b[39margs, \u001b[39m*\u001b[39m\u001b[39m*\u001b[39mkwargs):\n\u001b[0;32m    262\u001b[0m     \u001b[39mwith\u001b[39;00m log_activity(logger, activity_name \u001b[39mor\u001b[39;00m f\u001b[39m.\u001b[39m\u001b[39m__name__\u001b[39m, activity_type, custom_dimensions):\n\u001b[1;32m--> 263\u001b[0m         \u001b[39mreturn\u001b[39;00m f(\u001b[39m*\u001b[39margs, \u001b[39m*\u001b[39m\u001b[39m*\u001b[39mkwargs)\n",
            "File \u001b[1;32m~\\AppData\\Roaming\\Python\\Python310\\site-packages\\azure\\ai\\ml\\operations\\_compute_operations.py:130\u001b[0m, in \u001b[0;36mComputeOperations.begin_create_or_update\u001b[1;34m(self, compute)\u001b[0m\n\u001b[0;32m    123\u001b[0m compute\u001b[39m.\u001b[39m_set_full_subnet_name(\n\u001b[0;32m    124\u001b[0m     \u001b[39mself\u001b[39m\u001b[39m.\u001b[39m_operation_scope\u001b[39m.\u001b[39msubscription_id,\n\u001b[0;32m    125\u001b[0m     \u001b[39mself\u001b[39m\u001b[39m.\u001b[39m_operation_scope\u001b[39m.\u001b[39mresource_group_name,\n\u001b[0;32m    126\u001b[0m )\n\u001b[0;32m    128\u001b[0m compute_rest_obj \u001b[39m=\u001b[39m compute\u001b[39m.\u001b[39m_to_rest_object()\n\u001b[1;32m--> 130\u001b[0m poller \u001b[39m=\u001b[39m \u001b[39mself\u001b[39;49m\u001b[39m.\u001b[39;49m_operation\u001b[39m.\u001b[39;49mbegin_create_or_update(\n\u001b[0;32m    131\u001b[0m     \u001b[39mself\u001b[39;49m\u001b[39m.\u001b[39;49m_operation_scope\u001b[39m.\u001b[39;49mresource_group_name,\n\u001b[0;32m    132\u001b[0m     \u001b[39mself\u001b[39;49m\u001b[39m.\u001b[39;49m_workspace_name,\n\u001b[0;32m    133\u001b[0m     compute_name\u001b[39m=\u001b[39;49mcompute\u001b[39m.\u001b[39;49mname,\n\u001b[0;32m    134\u001b[0m     parameters\u001b[39m=\u001b[39;49mcompute_rest_obj,\n\u001b[0;32m    135\u001b[0m     polling\u001b[39m=\u001b[39;49m\u001b[39mTrue\u001b[39;49;00m,\n\u001b[0;32m    136\u001b[0m     \u001b[39mcls\u001b[39;49m\u001b[39m=\u001b[39;49m\u001b[39mlambda\u001b[39;49;00m response, deserialized, headers: Compute\u001b[39m.\u001b[39;49m_from_rest_object(deserialized),\n\u001b[0;32m    137\u001b[0m )\n\u001b[0;32m    139\u001b[0m \u001b[39mreturn\u001b[39;00m poller\n",
            "File \u001b[1;32m~\\AppData\\Roaming\\Python\\Python310\\site-packages\\azure\\core\\tracing\\decorator.py:76\u001b[0m, in \u001b[0;36mdistributed_trace.<locals>.decorator.<locals>.wrapper_use_tracer\u001b[1;34m(*args, **kwargs)\u001b[0m\n\u001b[0;32m     74\u001b[0m span_impl_type \u001b[39m=\u001b[39m settings\u001b[39m.\u001b[39mtracing_implementation()\n\u001b[0;32m     75\u001b[0m \u001b[39mif\u001b[39;00m span_impl_type \u001b[39mis\u001b[39;00m \u001b[39mNone\u001b[39;00m:\n\u001b[1;32m---> 76\u001b[0m     \u001b[39mreturn\u001b[39;00m func(\u001b[39m*\u001b[39margs, \u001b[39m*\u001b[39m\u001b[39m*\u001b[39mkwargs)\n\u001b[0;32m     78\u001b[0m \u001b[39m# Merge span is parameter is set, but only if no explicit parent are passed\u001b[39;00m\n\u001b[0;32m     79\u001b[0m \u001b[39mif\u001b[39;00m merge_span \u001b[39mand\u001b[39;00m \u001b[39mnot\u001b[39;00m passed_in_parent:\n",
            "File \u001b[1;32m~\\AppData\\Roaming\\Python\\Python310\\site-packages\\azure\\ai\\ml\\_restclient\\v2022_10_01_preview\\operations\\_compute_operations.py:803\u001b[0m, in \u001b[0;36mComputeOperations.begin_create_or_update\u001b[1;34m(self, resource_group_name, workspace_name, compute_name, parameters, **kwargs)\u001b[0m\n\u001b[0;32m    801\u001b[0m cont_token \u001b[39m=\u001b[39m kwargs\u001b[39m.\u001b[39mpop(\u001b[39m'\u001b[39m\u001b[39mcontinuation_token\u001b[39m\u001b[39m'\u001b[39m, \u001b[39mNone\u001b[39;00m)  \u001b[39m# type: Optional[str]\u001b[39;00m\n\u001b[0;32m    802\u001b[0m \u001b[39mif\u001b[39;00m cont_token \u001b[39mis\u001b[39;00m \u001b[39mNone\u001b[39;00m:\n\u001b[1;32m--> 803\u001b[0m     raw_result \u001b[39m=\u001b[39m \u001b[39mself\u001b[39m\u001b[39m.\u001b[39m_create_or_update_initial(\n\u001b[0;32m    804\u001b[0m         resource_group_name\u001b[39m=\u001b[39mresource_group_name,\n\u001b[0;32m    805\u001b[0m         workspace_name\u001b[39m=\u001b[39mworkspace_name,\n\u001b[0;32m    806\u001b[0m         compute_name\u001b[39m=\u001b[39mcompute_name,\n\u001b[0;32m    807\u001b[0m         parameters\u001b[39m=\u001b[39mparameters,\n\u001b[0;32m    808\u001b[0m         api_version\u001b[39m=\u001b[39mapi_version,\n\u001b[0;32m    809\u001b[0m         content_type\u001b[39m=\u001b[39mcontent_type,\n\u001b[0;32m    810\u001b[0m         \u001b[39mcls\u001b[39m\u001b[39m=\u001b[39m\u001b[39mlambda\u001b[39;00m x,y,z: x,\n\u001b[0;32m    811\u001b[0m         \u001b[39m*\u001b[39m\u001b[39m*\u001b[39mkwargs\n\u001b[0;32m    812\u001b[0m     )\n\u001b[0;32m    813\u001b[0m kwargs\u001b[39m.\u001b[39mpop(\u001b[39m'\u001b[39m\u001b[39merror_map\u001b[39m\u001b[39m'\u001b[39m, \u001b[39mNone\u001b[39;00m)\n\u001b[0;32m    815\u001b[0m \u001b[39mdef\u001b[39;00m \u001b[39mget_long_running_output\u001b[39m(pipeline_response):\n",
            "File \u001b[1;32m~\\AppData\\Roaming\\Python\\Python310\\site-packages\\azure\\ai\\ml\\_restclient\\v2022_10_01_preview\\operations\\_compute_operations.py:738\u001b[0m, in \u001b[0;36mComputeOperations._create_or_update_initial\u001b[1;34m(self, resource_group_name, workspace_name, compute_name, parameters, **kwargs)\u001b[0m\n\u001b[0;32m    736\u001b[0m \u001b[39mif\u001b[39;00m response\u001b[39m.\u001b[39mstatus_code \u001b[39mnot\u001b[39;00m \u001b[39min\u001b[39;00m [\u001b[39m200\u001b[39m, \u001b[39m201\u001b[39m]:\n\u001b[0;32m    737\u001b[0m     map_error(status_code\u001b[39m=\u001b[39mresponse\u001b[39m.\u001b[39mstatus_code, response\u001b[39m=\u001b[39mresponse, error_map\u001b[39m=\u001b[39merror_map)\n\u001b[1;32m--> 738\u001b[0m     \u001b[39mraise\u001b[39;00m HttpResponseError(response\u001b[39m=\u001b[39mresponse, error_format\u001b[39m=\u001b[39mARMErrorFormat)\n\u001b[0;32m    740\u001b[0m response_headers \u001b[39m=\u001b[39m {}\n\u001b[0;32m    741\u001b[0m \u001b[39mif\u001b[39;00m response\u001b[39m.\u001b[39mstatus_code \u001b[39m==\u001b[39m \u001b[39m200\u001b[39m:\n",
            "\u001b[1;31mHttpResponseError\u001b[0m: Operation returned an invalid status 'The Recurrence StartTime must be in the format: yyyy-MM-ddTHH:mm:ss'\nContent: {\n  \"error\": {\n    \"code\": \"UserError\",\n    \"severity\": null,\n    \"message\": \"The Recurrence StartTime must be in the format: yyyy-MM-ddTHH:mm:ss\",\n    \"messageFormat\": null,\n    \"messageParameters\": null,\n    \"referenceCode\": null,\n    \"detailsUri\": null,\n    \"target\": null,\n    \"details\": [],\n    \"innerError\": null,\n    \"debugInfo\": null,\n    \"additionalInfo\": null\n  },\n  \"correlation\": {\n    \"operation\": \"6aa231ce2d057aa6859cce33ba7e8905\",\n    \"request\": \"75cdba3e06fa72c4\"\n  },\n  \"environment\": \"westus\",\n  \"location\": \"westus\",\n  \"time\": \"2023-05-11T06:51:48.3780309+00:00\",\n  \"componentName\": \"machinelearningcompute\"\n}"
          ]
        }
      ],
      "source": [
        "#update the compute to perform scheduled start and stop\n",
        "\n",
        "from azure.ai.ml.entities import ComputeInstance,ComputeSchedules, ComputeStartStopSchedule,RecurrenceTrigger,RecurrencePattern\n",
        "from azure.ai.ml.constants import TimeZone\n",
        "\n",
        "trigger1 = RecurrenceTrigger(start_time=\"2023-05-11 12:21:00\",time_zone=TimeZone.INDIA_STANDARD_TIME,\n",
        "                            frequency=\"week\",interval=1,\n",
        "                            schedule=RecurrencePattern(week_days=[\"Monday\"],hours=9,minutes=[10]))\n",
        "\n",
        "myschedule1 = ComputeStartStopSchedule(trigger=trigger1,action=\"start\")\n",
        "\n",
        "\n",
        "trigger2 = RecurrenceTrigger(start_time=\"yyyy-MM-ddTHH:mm:ss\",time_zone=TimeZone.INDIA_STANDARD_TIME,\n",
        "                            frequency=\"week\",interval=1,\n",
        "                            schedule=RecurrencePattern(week_days=[\"Monday\"],hours=10,minutes=[10]))\n",
        "\n",
        "myschedule2 = ComputeStartStopSchedule(trigger=trigger2,action=\"stop\")\n",
        "compute_schedule = ComputeSchedules(compute_start_stop=[myschedule1,myschedule2])\n",
        "\n",
        "\n",
        "mycompute = ComputeInstance(name=\"aml-cluster\",schedules=compute_schedule)\n",
        "ml_client.compute.begin_create_or_update(mycompute)"
      ]
    },
    {
      "cell_type": "code",
      "execution_count": 52,
      "metadata": {},
      "outputs": [],
      "source": [
        "# delete compute\n",
        "#ml_client.compute.begin_delete(\"aml-cluster\").wait()"
      ]
    },
    {
      "attachments": {},
      "cell_type": "markdown",
      "metadata": {},
      "source": [
        "* for job model path\n",
        "    azureml://jobs/<job-id>/outputs/model.pkl\n",
        "\n",
        "* registered model path\n",
        "    azureml:<model-name>:<version>"
      ]
    },
    {
      "attachments": {},
      "cell_type": "markdown",
      "metadata": {},
      "source": [
        "\n",
        "    A path on your local computer\t                    mlflow-model/model.pkl\n",
        "    A path on an Azure Machine Learning Datastore\t    azureml://datastores/<datastore-name>/paths/<path_on_datastore>\n",
        "    A path from an Azure Machine Learning job\t        azureml://jobs/<job-name>/outputs/<output-name>/paths/<path-to-model-relative-to-the-named-output-location>\n",
        "    A path from an MLflow job\t                        runs:/<run-id>/<path-to-model-relative-to-the-root-of-the-artifact-location>\n",
        "    A path from a Model Asset in Azure Machine Learning Workspace\tazureml:<model-name>:<version>\n",
        "    A path from a Model Asset in Azure Machine Learning Registry\tazureml://registries/<registry-name>/models/<model-name>/versions/<version>"
      ]
    },
    {
      "cell_type": "code",
      "execution_count": 29,
      "metadata": {},
      "outputs": [
        {
          "name": "stdout",
          "output_type": "stream",
          "text": [
            "eager_rabbit_jzpg45b5hx\n"
          ]
        }
      ],
      "source": [
        "print(returned_job.name)"
      ]
    },
    {
      "cell_type": "code",
      "execution_count": 47,
      "metadata": {},
      "outputs": [
        {
          "data": {
            "text/plain": [
              "'azureml://subscriptions/84a5808b-5549-459a-98f2-f102e84fa1bb/resourceGroups/EYMAY/workspaces/aml-anshu2/datastores/workspaceartifactstore/paths/ExperimentRun/dcid.funny_engine_hhjgb1l13c/outputs/model.pkl'"
            ]
          },
          "execution_count": 47,
          "metadata": {},
          "output_type": "execute_result"
        }
      ],
      "source": [
        "# register model\n",
        "from azure.ai.ml.entities import Model\n",
        "from azure.ai.ml.constants import AssetTypes\n",
        "path = f\"azureml://jobs/{returned_job.name}/outputs/artifacts/paths/outputs/model.pkl\"\n",
        "\n",
        "file_model = Model(path=path,type=AssetTypes.CUSTOM_MODEL,\n",
        "                   name=\"diabetes_model\")\n",
        "\n",
        "out = ml_client.models.create_or_update(file_model)\n",
        "out.path"
      ]
    },
    {
      "cell_type": "code",
      "execution_count": 48,
      "metadata": {},
      "outputs": [
        {
          "data": {
            "text/plain": [
              "'diabetes_model'"
            ]
          },
          "execution_count": 48,
          "metadata": {},
          "output_type": "execute_result"
        }
      ],
      "source": [
        "out.name"
      ]
    },
    {
      "cell_type": "code",
      "execution_count": 49,
      "metadata": {},
      "outputs": [
        {
          "data": {
            "text/plain": [
              "'3'"
            ]
          },
          "execution_count": 49,
          "metadata": {},
          "output_type": "execute_result"
        }
      ],
      "source": [
        "out.version"
      ]
    },
    {
      "attachments": {},
      "cell_type": "markdown",
      "metadata": {},
      "source": [
        "### Deployment"
      ]
    },
    {
      "attachments": {},
      "cell_type": "markdown",
      "metadata": {},
      "source": []
    },
    {
      "cell_type": "code",
      "execution_count": 93,
      "metadata": {},
      "outputs": [],
      "source": [
        "from azure.ai.ml.entities import ManagedOnlineEndpoint\n",
        "import datetime\n",
        "\n",
        "ep_name = \"endpoint-diabetes2\" \n",
        "ep = ManagedOnlineEndpoint(name = ep_name,\n",
        "                           auth_mode=\"key\")\n",
        "ep_new = ml_client.online_endpoints.begin_create_or_update(ep).result()"
      ]
    },
    {
      "cell_type": "code",
      "execution_count": 104,
      "metadata": {},
      "outputs": [],
      "source": [
        "ep = ml_client.online_endpoints.get(\"endpoint-diabetes2\")"
      ]
    },
    {
      "cell_type": "code",
      "execution_count": 105,
      "metadata": {},
      "outputs": [
        {
          "data": {
            "text/plain": [
              "azure.ai.ml.entities._endpoint.online_endpoint.ManagedOnlineEndpoint"
            ]
          },
          "execution_count": 105,
          "metadata": {},
          "output_type": "execute_result"
        }
      ],
      "source": []
    },
    {
      "cell_type": "code",
      "execution_count": 38,
      "metadata": {},
      "outputs": [
        {
          "data": {
            "text/plain": [
              "'diabetes_model'"
            ]
          },
          "execution_count": 38,
          "metadata": {},
          "output_type": "execute_result"
        }
      ],
      "source": [
        "out.name"
      ]
    },
    {
      "cell_type": "code",
      "execution_count": 50,
      "metadata": {},
      "outputs": [
        {
          "data": {
            "text/plain": [
              "'3'"
            ]
          },
          "execution_count": 50,
          "metadata": {},
          "output_type": "execute_result"
        }
      ],
      "source": [
        "out.version"
      ]
    },
    {
      "cell_type": "code",
      "execution_count": 51,
      "metadata": {},
      "outputs": [],
      "source": [
        "import os\n",
        "os.makedirs(\"score\",exist_ok=True)"
      ]
    },
    {
      "cell_type": "code",
      "execution_count": 72,
      "metadata": {},
      "outputs": [
        {
          "name": "stdout",
          "output_type": "stream",
          "text": [
            "Overwriting score/score.py\n"
          ]
        }
      ],
      "source": [
        "%%writefile score/score.py\n",
        "\n",
        "import os\n",
        "import joblib\n",
        "import json, logging, numpy\n",
        "def init():\n",
        "    global model\n",
        "    path = os.path.join(os.getenv(\"AZUREML_MODEL_DIR\"),\"./model.pkl\") # AZUREML_MODEL_DIR = ./azureml-models/MODEL_NAME/VERSION\n",
        "    model = joblib.load(path)\n",
        "    loggign.info(\"initialization completed\")\n",
        "\n",
        "def run(raw_data):\n",
        "    logging.info(\"model: request received\")\n",
        "    data = json.loads(raw_data)['data']\n",
        "    data = numpy.array(data)\n",
        "    result = model.predict(data)\n",
        "    logging.info(\"request procsesed\")\n",
        "    return json.dumps(result.tolist())\n",
        "\n"
      ]
    },
    {
      "cell_type": "code",
      "execution_count": 102,
      "metadata": {},
      "outputs": [],
      "source": [
        "# deployment configuration\n",
        "from azure.ai.ml.entities import Model,ManagedOnlineDeployment,CodeConfiguration\n",
        "from azure.ai.ml.constants import AssetTypes\n",
        "\n",
        "\n",
        "model = ml_client.models.get(name=out.name, version=out.version)\n",
        "\n",
        "# define an online deployment\n",
        "blue_deployment = ManagedOnlineDeployment(\n",
        "    name=\"blue\",\n",
        "    endpoint_name=ep_new,\n",
        "    model=model,\n",
        "    instance_type=\"Standard_DS3_v2\",\n",
        "    instance_count=1,\n",
        "    environment=\"AzureML-sklearn-0.24-ubuntu18.04-py37-cpu@latest\",\n",
        "    code_path=\"./score\",\n",
        "    scoring_script=\"score.py\"\n",
        ")"
      ]
    },
    {
      "cell_type": "code",
      "execution_count": 90,
      "metadata": {},
      "outputs": [
        {
          "data": {
            "text/plain": [
              "'d:\\\\AI\\\\MLOps\\\\EYMAY23\\\\MLOps-with-Azure'"
            ]
          },
          "execution_count": 90,
          "metadata": {},
          "output_type": "execute_result"
        }
      ],
      "source": [
        "os.getcwd()"
      ]
    },
    {
      "cell_type": "code",
      "execution_count": 103,
      "metadata": {},
      "outputs": [
        {
          "name": "stderr",
          "output_type": "stream",
          "text": [
            "Check: endpoint auth_mode: key\n",
            "id: /subscriptions/84a5808b-5549-459a-98f2-f102e84fa1bb/resourceGroups/EYMAY/providers/Microsoft.MachineLearningServices/workspaces/aml-anshu2/onlineEndpoints/endpoint-diabetes2\n",
            "identity:\n",
            "  principal_id: e59f2618-96b0-4b83-ab1c-fdf26e2b3465\n",
            "  tenant_id: 13a86542-2185-4187-8e07-7512f5525c55\n",
            "  type: system_assigned\n",
            "kind: Managed\n",
            "location: westus\n",
            "mirror_traffic: {}\n",
            "name: endpoint-diabetes2\n",
            "openapi_uri: https://endpoint-diabetes2.westus.inference.ml.azure.com/swagger.json\n",
            "properties:\n",
            "  AzureAsyncOperationUri: https://management.azure.com/subscriptions/84a5808b-5549-459a-98f2-f102e84fa1bb/providers/Microsoft.MachineLearningServices/locations/westus/mfeOperationsStatus/oe:83a32fcd-1a62-4d40-917a-38866f11f415:5b9da9f8-bb1a-4509-a796-73ee5206679b?api-version=2022-02-01-preview\n",
            "  azureml.onlineendpointid: /subscriptions/84a5808b-5549-459a-98f2-f102e84fa1bb/resourcegroups/eymay/providers/microsoft.machinelearningservices/workspaces/aml-anshu2/onlineendpoints/endpoint-diabetes2\n",
            "provisioning_state: Succeeded\n",
            "public_network_access: enabled\n",
            "scoring_uri: https://endpoint-diabetes2.westus.inference.ml.azure.com/score\n",
            "tags: {}\n",
            "traffic: {}\n",
            " exists\n",
            "Ran into a deserialization error. Ignoring since this is failsafe deserialization\n",
            "Traceback (most recent call last):\n",
            "  File \"C:\\Users\\anshu\\AppData\\Roaming\\Python\\Python310\\site-packages\\msrest\\serialization.py\", line 1436, in _deserialize\n",
            "    found_value = key_extractor(attr, attr_desc, data)\n",
            "  File \"C:\\Users\\anshu\\AppData\\Roaming\\Python\\Python310\\site-packages\\msrest\\serialization.py\", line 1180, in rest_key_extractor\n",
            "    return working_data.get(key)\n",
            "AttributeError: 'str' object has no attribute 'get'\n",
            "\n",
            "During handling of the above exception, another exception occurred:\n",
            "\n",
            "Traceback (most recent call last):\n",
            "  File \"C:\\Users\\anshu\\AppData\\Roaming\\Python\\Python310\\site-packages\\msrest\\serialization.py\", line 1509, in failsafe_deserialize\n",
            "    return self(target_obj, data, content_type=content_type)\n",
            "  File \"C:\\Users\\anshu\\AppData\\Roaming\\Python\\Python310\\site-packages\\msrest\\serialization.py\", line 1376, in __call__\n",
            "    return self._deserialize(target_obj, data)\n",
            "  File \"C:\\Users\\anshu\\AppData\\Roaming\\Python\\Python310\\site-packages\\msrest\\serialization.py\", line 1454, in _deserialize\n",
            "    raise_with_traceback(DeserializationError, msg, err)\n",
            "  File \"C:\\Users\\anshu\\AppData\\Roaming\\Python\\Python310\\site-packages\\msrest\\exceptions.py\", line 51, in raise_with_traceback\n",
            "    raise error.with_traceback(exc_traceback)\n",
            "  File \"C:\\Users\\anshu\\AppData\\Roaming\\Python\\Python310\\site-packages\\msrest\\serialization.py\", line 1436, in _deserialize\n",
            "    found_value = key_extractor(attr, attr_desc, data)\n",
            "  File \"C:\\Users\\anshu\\AppData\\Roaming\\Python\\Python310\\site-packages\\msrest\\serialization.py\", line 1180, in rest_key_extractor\n",
            "    return working_data.get(key)\n",
            "azure.core.exceptions.DeserializationError: (\"Unable to deserialize to object: type, AttributeError: 'str' object has no attribute 'get'\", AttributeError(\"'str' object has no attribute 'get'\"))\n"
          ]
        },
        {
          "ename": "HttpResponseError",
          "evalue": "Operation returned an invalid status 'Bad Request'\nContent: <!DOCTYPE HTML PUBLIC \"-//W3C//DTD HTML 4.01//EN\"\"http://www.w3.org/TR/html4/strict.dtd\">\r\n<HTML><HEAD><TITLE>Bad Request</TITLE>\r\n<META HTTP-EQUIV=\"Content-Type\" Content=\"text/html; charset=us-ascii\"></HEAD>\r\n<BODY><h2>Bad Request - Invalid URL</h2>\r\n<hr><p>HTTP Error 400. The request URL is invalid.</p>\r\n</BODY></HTML>\r\n",
          "output_type": "error",
          "traceback": [
            "\u001b[1;31m---------------------------------------------------------------------------\u001b[0m",
            "\u001b[1;31mHttpResponseError\u001b[0m                         Traceback (most recent call last)",
            "Cell \u001b[1;32mIn[103], line 1\u001b[0m\n\u001b[1;32m----> 1\u001b[0m ml_client\u001b[39m.\u001b[39;49monline_deployments\u001b[39m.\u001b[39;49mbegin_create_or_update(blue_deployment)\n",
            "File \u001b[1;32m~\\AppData\\Roaming\\Python\\Python310\\site-packages\\azure\\core\\tracing\\decorator.py:76\u001b[0m, in \u001b[0;36mdistributed_trace.<locals>.decorator.<locals>.wrapper_use_tracer\u001b[1;34m(*args, **kwargs)\u001b[0m\n\u001b[0;32m     74\u001b[0m span_impl_type \u001b[39m=\u001b[39m settings\u001b[39m.\u001b[39mtracing_implementation()\n\u001b[0;32m     75\u001b[0m \u001b[39mif\u001b[39;00m span_impl_type \u001b[39mis\u001b[39;00m \u001b[39mNone\u001b[39;00m:\n\u001b[1;32m---> 76\u001b[0m     \u001b[39mreturn\u001b[39;00m func(\u001b[39m*\u001b[39margs, \u001b[39m*\u001b[39m\u001b[39m*\u001b[39mkwargs)\n\u001b[0;32m     78\u001b[0m \u001b[39m# Merge span is parameter is set, but only if no explicit parent are passed\u001b[39;00m\n\u001b[0;32m     79\u001b[0m \u001b[39mif\u001b[39;00m merge_span \u001b[39mand\u001b[39;00m \u001b[39mnot\u001b[39;00m passed_in_parent:\n",
            "File \u001b[1;32m~\\AppData\\Roaming\\Python\\Python310\\site-packages\\azure\\ai\\ml\\_telemetry\\activity.py:263\u001b[0m, in \u001b[0;36mmonitor_with_activity.<locals>.monitor.<locals>.wrapper\u001b[1;34m(*args, **kwargs)\u001b[0m\n\u001b[0;32m    260\u001b[0m \u001b[39m@functools\u001b[39m\u001b[39m.\u001b[39mwraps(f)\n\u001b[0;32m    261\u001b[0m \u001b[39mdef\u001b[39;00m \u001b[39mwrapper\u001b[39m(\u001b[39m*\u001b[39margs, \u001b[39m*\u001b[39m\u001b[39m*\u001b[39mkwargs):\n\u001b[0;32m    262\u001b[0m     \u001b[39mwith\u001b[39;00m log_activity(logger, activity_name \u001b[39mor\u001b[39;00m f\u001b[39m.\u001b[39m\u001b[39m__name__\u001b[39m, activity_type, custom_dimensions):\n\u001b[1;32m--> 263\u001b[0m         \u001b[39mreturn\u001b[39;00m f(\u001b[39m*\u001b[39margs, \u001b[39m*\u001b[39m\u001b[39m*\u001b[39mkwargs)\n",
            "File \u001b[1;32m~\\AppData\\Roaming\\Python\\Python310\\site-packages\\azure\\ai\\ml\\operations\\_online_deployment_operations.py:198\u001b[0m, in \u001b[0;36mOnlineDeploymentOperations.begin_create_or_update\u001b[1;34m(self, deployment, local, vscode_debug, skip_script_validation, **kwargs)\u001b[0m\n\u001b[0;32m    196\u001b[0m     log_and_raise_error(ex)\n\u001b[0;32m    197\u001b[0m \u001b[39melse\u001b[39;00m:\n\u001b[1;32m--> 198\u001b[0m     \u001b[39mraise\u001b[39;00m ex\n",
            "File \u001b[1;32m~\\AppData\\Roaming\\Python\\Python310\\site-packages\\azure\\ai\\ml\\operations\\_online_deployment_operations.py:155\u001b[0m, in \u001b[0;36mOnlineDeploymentOperations.begin_create_or_update\u001b[1;34m(self, deployment, local, vscode_debug, skip_script_validation, **kwargs)\u001b[0m\n\u001b[0;32m    153\u001b[0m \u001b[39m# This get() is to ensure, the endpoint exists and fail before even start the deployment\u001b[39;00m\n\u001b[0;32m    154\u001b[0m module_logger\u001b[39m.\u001b[39minfo(\u001b[39m\"\u001b[39m\u001b[39mCheck: endpoint \u001b[39m\u001b[39m%s\u001b[39;00m\u001b[39m exists\u001b[39m\u001b[39m\"\u001b[39m, deployment\u001b[39m.\u001b[39mendpoint_name)\n\u001b[1;32m--> 155\u001b[0m \u001b[39mself\u001b[39;49m\u001b[39m.\u001b[39;49m_online_endpoint_operations\u001b[39m.\u001b[39;49mget(\n\u001b[0;32m    156\u001b[0m     resource_group_name\u001b[39m=\u001b[39;49m\u001b[39mself\u001b[39;49m\u001b[39m.\u001b[39;49m_resource_group_name,\n\u001b[0;32m    157\u001b[0m     workspace_name\u001b[39m=\u001b[39;49m\u001b[39mself\u001b[39;49m\u001b[39m.\u001b[39;49m_workspace_name,\n\u001b[0;32m    158\u001b[0m     endpoint_name\u001b[39m=\u001b[39;49mdeployment\u001b[39m.\u001b[39;49mendpoint_name,\n\u001b[0;32m    159\u001b[0m )\n\u001b[0;32m    160\u001b[0m orchestrators \u001b[39m=\u001b[39m OperationOrchestrator(\n\u001b[0;32m    161\u001b[0m     operation_container\u001b[39m=\u001b[39m\u001b[39mself\u001b[39m\u001b[39m.\u001b[39m_all_operations,\n\u001b[0;32m    162\u001b[0m     operation_scope\u001b[39m=\u001b[39m\u001b[39mself\u001b[39m\u001b[39m.\u001b[39m_operation_scope,\n\u001b[0;32m    163\u001b[0m     operation_config\u001b[39m=\u001b[39m\u001b[39mself\u001b[39m\u001b[39m.\u001b[39m_operation_config,\n\u001b[0;32m    164\u001b[0m )\n\u001b[0;32m    165\u001b[0m \u001b[39mif\u001b[39;00m deployment\u001b[39m.\u001b[39mdata_collector:\n",
            "File \u001b[1;32m~\\AppData\\Roaming\\Python\\Python310\\site-packages\\azure\\core\\tracing\\decorator.py:76\u001b[0m, in \u001b[0;36mdistributed_trace.<locals>.decorator.<locals>.wrapper_use_tracer\u001b[1;34m(*args, **kwargs)\u001b[0m\n\u001b[0;32m     74\u001b[0m span_impl_type \u001b[39m=\u001b[39m settings\u001b[39m.\u001b[39mtracing_implementation()\n\u001b[0;32m     75\u001b[0m \u001b[39mif\u001b[39;00m span_impl_type \u001b[39mis\u001b[39;00m \u001b[39mNone\u001b[39;00m:\n\u001b[1;32m---> 76\u001b[0m     \u001b[39mreturn\u001b[39;00m func(\u001b[39m*\u001b[39margs, \u001b[39m*\u001b[39m\u001b[39m*\u001b[39mkwargs)\n\u001b[0;32m     78\u001b[0m \u001b[39m# Merge span is parameter is set, but only if no explicit parent are passed\u001b[39;00m\n\u001b[0;32m     79\u001b[0m \u001b[39mif\u001b[39;00m merge_span \u001b[39mand\u001b[39;00m \u001b[39mnot\u001b[39;00m passed_in_parent:\n",
            "File \u001b[1;32m~\\AppData\\Roaming\\Python\\Python310\\site-packages\\azure\\ai\\ml\\_restclient\\v2022_02_01_preview\\operations\\_online_endpoints_operations.py:671\u001b[0m, in \u001b[0;36mOnlineEndpointsOperations.get\u001b[1;34m(self, resource_group_name, workspace_name, endpoint_name, **kwargs)\u001b[0m\n\u001b[0;32m    669\u001b[0m     map_error(status_code\u001b[39m=\u001b[39mresponse\u001b[39m.\u001b[39mstatus_code, response\u001b[39m=\u001b[39mresponse, error_map\u001b[39m=\u001b[39merror_map)\n\u001b[0;32m    670\u001b[0m     error \u001b[39m=\u001b[39m \u001b[39mself\u001b[39m\u001b[39m.\u001b[39m_deserialize\u001b[39m.\u001b[39mfailsafe_deserialize(_models\u001b[39m.\u001b[39mErrorResponse, pipeline_response)\n\u001b[1;32m--> 671\u001b[0m     \u001b[39mraise\u001b[39;00m HttpResponseError(response\u001b[39m=\u001b[39mresponse, model\u001b[39m=\u001b[39merror, error_format\u001b[39m=\u001b[39mARMErrorFormat)\n\u001b[0;32m    673\u001b[0m deserialized \u001b[39m=\u001b[39m \u001b[39mself\u001b[39m\u001b[39m.\u001b[39m_deserialize(\u001b[39m'\u001b[39m\u001b[39mOnlineEndpointData\u001b[39m\u001b[39m'\u001b[39m, pipeline_response)\n\u001b[0;32m    675\u001b[0m \u001b[39mif\u001b[39;00m \u001b[39mcls\u001b[39m:\n",
            "\u001b[1;31mHttpResponseError\u001b[0m: Operation returned an invalid status 'Bad Request'\nContent: <!DOCTYPE HTML PUBLIC \"-//W3C//DTD HTML 4.01//EN\"\"http://www.w3.org/TR/html4/strict.dtd\">\r\n<HTML><HEAD><TITLE>Bad Request</TITLE>\r\n<META HTTP-EQUIV=\"Content-Type\" Content=\"text/html; charset=us-ascii\"></HEAD>\r\n<BODY><h2>Bad Request - Invalid URL</h2>\r\n<hr><p>HTTP Error 400. The request URL is invalid.</p>\r\n</BODY></HTML>\r\n"
          ]
        }
      ],
      "source": [
        "ml_client.online_deployments.begin_create_or_update(blue_deployment)"
      ]
    },
    {
      "cell_type": "code",
      "execution_count": null,
      "metadata": {},
      "outputs": [],
      "source": []
    }
  ],
  "metadata": {
    "kernel_info": {
      "name": "python38-azureml"
    },
    "kernelspec": {
      "display_name": "base",
      "language": "python",
      "name": "python3"
    },
    "language_info": {
      "codemirror_mode": {
        "name": "ipython",
        "version": 3
      },
      "file_extension": ".py",
      "mimetype": "text/x-python",
      "name": "python",
      "nbconvert_exporter": "python",
      "pygments_lexer": "ipython3",
      "version": "3.10.9"
    },
    "microsoft": {
      "host": {
        "AzureML": {
          "notebookHasBeenCompleted": true
        }
      }
    },
    "nteract": {
      "version": "nteract-front-end@1.0.0"
    }
  },
  "nbformat": 4,
  "nbformat_minor": 2
}
