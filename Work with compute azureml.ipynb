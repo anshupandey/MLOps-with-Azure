{
  "cells": [
    {
      "attachments": {},
      "cell_type": "markdown",
      "metadata": {
        "nteract": {
          "transient": {
            "deleting": false
          }
        }
      },
      "source": [
        "# Work with Compute\n",
        "\n",
        "When you run a script as an Azure Machine Learning job, you need to define the execution context for the job run. One key configuration is the compute target on which the script will be run. This could be the local workstation (in this case the compute instance), or a remote compute target such as the Azure Machine Learning managed compute cluster that is provisioned on-demand.\n",
        "\n",
        "In this notebook, you'll create a compute cluster and explore compute targets for jobs.\n",
        "\n",
        "## Before you start\n",
        "\n",
        "You'll need the latest version of the  **azureml-ai-ml** package to run the code in this notebook. Run the cell below to verify that it is installed.\n",
        "\n",
        "> **Note**:\n",
        "> If the **azure-ai-ml** package is not installed, run `pip install azure-ai-ml` to install it."
      ]
    },
    {
      "cell_type": "code",
      "execution_count": 33,
      "metadata": {
        "gather": {
          "logged": 1665745893251
        }
      },
      "outputs": [
        {
          "name": "stdout",
          "output_type": "stream",
          "text": [
            "Name: azure-ai-ml\n",
            "Version: 1.6.0\n",
            "Summary: Microsoft Azure Machine Learning Client Library for Python\n",
            "Home-page: https://github.com/Azure/azure-sdk-for-python\n",
            "Author: Microsoft Corporation\n",
            "Author-email: azuresdkengsysadmins@microsoft.com\n",
            "License: MIT License\n",
            "Location: c:\\users\\anshu\\appdata\\roaming\\python\\python310\\site-packages\n",
            "Requires: azure-common, azure-core, azure-mgmt-core, azure-storage-blob, azure-storage-file-datalake, azure-storage-file-share, colorama, isodate, jsonschema, marshmallow, msrest, opencensus-ext-azure, pydash, pyjwt, pyyaml, strictyaml, tqdm, typing-extensions\n",
            "Required-by: \n",
            "Note: you may need to restart the kernel to use updated packages.\n"
          ]
        }
      ],
      "source": [
        "pip show azure-ai-ml"
      ]
    },
    {
      "attachments": {},
      "cell_type": "markdown",
      "metadata": {
        "nteract": {
          "transient": {
            "deleting": false
          }
        }
      },
      "source": [
        "## Connect to your workspace\n",
        "\n",
        "With the required SDK packages installed, now you're ready to connect to your workspace.\n",
        "\n",
        "To connect to a workspace, we need identifier parameters - a subscription ID, resource group name, and workspace name. The resource group name and workspace name are already filled in for you. You only need the subscription ID to complete the command.\n",
        "\n",
        "To find the necessary parameters, click on the subscription and workspace name at the top right of the Studio. A pane will open on the right.\n",
        "\n",
        "<p style=\"color:red;font-size:120%;background-color:yellow;font-weight:bold\"> Copy the subscription ID and replace **YOUR-SUBSCRIPTION-ID** with the value you copied. </p>"
      ]
    },
    {
      "cell_type": "code",
      "execution_count": 34,
      "metadata": {
        "gather": {
          "logged": 1665745927409
        },
        "jupyter": {
          "outputs_hidden": false,
          "source_hidden": false
        },
        "nteract": {
          "transient": {
            "deleting": false
          }
        }
      },
      "outputs": [],
      "source": [
        "# enter details of your AML workspace\n",
        "subscription_id = \"84a5808b-5549-459a-98f2-f102e84fa1bb\"\n",
        "resource_group = \"EYMAY\"\n",
        "workspace = \"aml-anshu2\""
      ]
    },
    {
      "cell_type": "code",
      "execution_count": 35,
      "metadata": {},
      "outputs": [],
      "source": [
        "from azure.identity import DefaultAzureCredential,InteractiveBrowserCredential\n",
        "credential = InteractiveBrowserCredential(tenant_id=\"13a86542-2185-4187-8e07-7512f5525c55\")"
      ]
    },
    {
      "cell_type": "code",
      "execution_count": 36,
      "metadata": {},
      "outputs": [],
      "source": [
        "from azure.ai.ml import MLClient\n",
        "from azure.identity import DefaultAzureCredential\n",
        "\n",
        "# get a handle to the workspace\n",
        "ml_client = MLClient(\n",
        "    credential, subscription_id, resource_group, workspace\n",
        ")"
      ]
    },
    {
      "attachments": {},
      "cell_type": "markdown",
      "metadata": {},
      "source": [
        "    # creating a new workspace with Azure ml SDK v2, authentication with interactive browser auth\n",
        "    from azure.ai.ml.entities import Workspace\n",
        "    ml_client2 = MLClient(\n",
        "        credential, subscription_id, \"EY23\", \"aml-anshu3\"\n",
        "    )\n",
        "\n",
        "    ws = Workspace(name=\"aml-anshu3\",location=\"westus\",\n",
        "                )\n",
        "\n",
        "    ws = ml_client2.workspaces.begin_create(ws)\n",
        "\n"
      ]
    },
    {
      "attachments": {},
      "cell_type": "markdown",
      "metadata": {
        "nteract": {
          "transient": {
            "deleting": false
          }
        }
      },
      "source": [
        "## Create a compute cluster\n",
        "\n",
        "In many cases, your local compute resources may not be sufficient to process a complex or long-running experiment that needs to process a large volume of data; and you may want to take advantage of the ability to dynamically create and use compute resources in the cloud. Azure Machine Learning supports a range of compute targets, which you can define in your workpace and use to run jobs; paying for the resources only when using them.\n",
        "\n",
        "You can create a compute cluster in [Azure Machine Learning studio](https://ml.azure.com), by using the Python SDK, or the Azure CLI. The following code cell checks your workspace for the existence of a compute cluster names `aml-cluster`, and if it doesn't exist, creates it."
      ]
    },
    {
      "cell_type": "code",
      "execution_count": 37,
      "metadata": {
        "gather": {
          "logged": 1665746211525
        },
        "jupyter": {
          "outputs_hidden": false,
          "source_hidden": false
        },
        "nteract": {
          "transient": {
            "deleting": false
          }
        }
      },
      "outputs": [
        {
          "name": "stdout",
          "output_type": "stream",
          "text": [
            "You already have a cluster named aml-cluster, we'll reuse it as is.\n"
          ]
        }
      ],
      "source": [
        "from azure.ai.ml.entities import AmlCompute\n",
        "\n",
        "# Name assigned to the compute cluster\n",
        "cpu_compute_target = \"aml-cluster\"\n",
        "\n",
        "try:\n",
        "    # let's see if the compute target already exists\n",
        "    cpu_cluster = ml_client.compute.get(cpu_compute_target)\n",
        "    print(\n",
        "        f\"You already have a cluster named {cpu_compute_target}, we'll reuse it as is.\"\n",
        "    )\n",
        "\n",
        "except Exception:\n",
        "    print(\"Creating a new cpu compute target...\")\n",
        "\n",
        "    # Let's create the Azure ML compute object with the intended parameters\n",
        "    cpu_cluster = AmlCompute(\n",
        "        name=cpu_compute_target,\n",
        "        # Azure ML Compute is the on-demand VM service\n",
        "        type=\"amlcompute\",\n",
        "        # VM Family\n",
        "        size=\"STANDARD_DS11_V2\",\n",
        "        # Minimum running nodes when there is no job running\n",
        "        min_instances=0,\n",
        "        # Nodes in cluster\n",
        "        max_instances=2,\n",
        "        # How many seconds will the node running after the job termination\n",
        "        idle_time_before_scale_down=120,\n",
        "        # Dedicated or LowPriority. The latter is cheaper but there is a chance of job termination\n",
        "        tier=\"Dedicated\",\n",
        "    )\n",
        "\n",
        "    # Now, we pass the object to MLClient's create_or_update method\n",
        "    cpu_cluster = ml_client.compute.begin_create_or_update(cpu_cluster)\n"
      ]
    },
    {
      "attachments": {},
      "cell_type": "markdown",
      "metadata": {
        "nteract": {
          "transient": {
            "deleting": false
          }
        }
      },
      "source": [
        "After you've created a compute cluster, you can only change the configuration for:\n",
        "\n",
        "- `min_instances`: Minimum number of nodes\n",
        "- `max_instances`: Maximum number of nodes\n",
        "- `idle_time_before_scale_down`: Idle time before scale down\n",
        "\n",
        "Currently, your compute cluster `aml-cluster` can only scale do a maximum of one node. Let's change that to two, to allow for parallel compute."
      ]
    },
    {
      "cell_type": "code",
      "execution_count": 38,
      "metadata": {
        "gather": {
          "logged": 1665746829045
        },
        "jupyter": {
          "outputs_hidden": false,
          "source_hidden": false
        },
        "nteract": {
          "transient": {
            "deleting": false
          }
        }
      },
      "outputs": [
        {
          "data": {
            "text/plain": [
              "<azure.core.polling._poller.LROPoller at 0x166ebd50520>"
            ]
          },
          "execution_count": 38,
          "metadata": {},
          "output_type": "execute_result"
        }
      ],
      "source": [
        "from azure.ai.ml.entities import AmlCompute\n",
        "\n",
        "cluster_scale = AmlCompute(\n",
        "    name=\"aml-cluster\",\n",
        "    max_instances=2,\n",
        ")\n",
        "ml_client.begin_create_or_update(cluster_scale)"
      ]
    },
    {
      "attachments": {},
      "cell_type": "markdown",
      "metadata": {
        "nteract": {
          "transient": {
            "deleting": false
          }
        }
      },
      "source": [
        "When the compute cluster is updated, you can verify its configuration by printing its attributes."
      ]
    },
    {
      "cell_type": "code",
      "execution_count": 39,
      "metadata": {
        "gather": {
          "logged": 1665747135475
        },
        "jupyter": {
          "outputs_hidden": false,
          "source_hidden": false
        },
        "nteract": {
          "transient": {
            "deleting": false
          }
        }
      },
      "outputs": [
        {
          "name": "stdout",
          "output_type": "stream",
          "text": [
            "AMLCompute with name aml-cluster has a maximum of 2 nodes\n"
          ]
        }
      ],
      "source": [
        "cpu_cluster = ml_client.compute.get(\"aml-cluster\")\n",
        "\n",
        "print (\n",
        "        f\"AMLCompute with name {cpu_cluster.name} has a maximum of {cpu_cluster.max_instances} nodes\"\n",
        "    )"
      ]
    },
    {
      "attachments": {},
      "cell_type": "markdown",
      "metadata": {},
      "source": [
        "## Create a script to train a model\n",
        "\n",
        "To train a model, you'll first create the **diabetes_training.py** script in the **src** folder. The script uses the **diabetes.csv** file in the same folder as the training data."
      ]
    },
    {
      "cell_type": "code",
      "execution_count": 40,
      "metadata": {},
      "outputs": [
        {
          "ename": "FileExistsError",
          "evalue": "[WinError 183] Cannot create a file when that file already exists: 'src'",
          "output_type": "error",
          "traceback": [
            "\u001b[1;31m---------------------------------------------------------------------------\u001b[0m",
            "\u001b[1;31mFileExistsError\u001b[0m                           Traceback (most recent call last)",
            "Cell \u001b[1;32mIn[40], line 2\u001b[0m\n\u001b[0;32m      1\u001b[0m \u001b[39mimport\u001b[39;00m \u001b[39mos\u001b[39;00m\n\u001b[1;32m----> 2\u001b[0m os\u001b[39m.\u001b[39;49mmkdir(\u001b[39m\"\u001b[39;49m\u001b[39msrc\u001b[39;49m\u001b[39m\"\u001b[39;49m)\n",
            "\u001b[1;31mFileExistsError\u001b[0m: [WinError 183] Cannot create a file when that file already exists: 'src'"
          ]
        }
      ],
      "source": [
        "import os\n",
        "os.mkdir(\"src\")"
      ]
    },
    {
      "cell_type": "code",
      "execution_count": null,
      "metadata": {},
      "outputs": [
        {
          "name": "stdout",
          "output_type": "stream",
          "text": [
            "Writing src/diabetes-training.py\n"
          ]
        }
      ],
      "source": [
        "%%writefile src/diabetes-training.py\n",
        "# import libraries\n",
        "import pandas as pd\n",
        "import numpy as np\n",
        "from sklearn.model_selection import train_test_split\n",
        "from sklearn.linear_model import LogisticRegression\n",
        "from sklearn.metrics import roc_auc_score\n",
        "from sklearn.metrics import roc_curve\n",
        "\n",
        "# load the diabetes dataset\n",
        "print(\"Loading Data...\")\n",
        "diabetes = pd.read_csv('diabetes.csv')\n",
        "\n",
        "# separate features and labels\n",
        "X, y = diabetes[['Pregnancies','PlasmaGlucose','DiastolicBloodPressure','TricepsThickness','SerumInsulin','BMI','DiabetesPedigree','Age']].values, diabetes['Diabetic'].values\n",
        "\n",
        "# split data into training set and test set\n",
        "X_train, X_test, y_train, y_test = train_test_split(X, y, test_size=0.30, random_state=0)\n",
        "\n",
        "# set regularization hyperparameter\n",
        "reg = 0.01\n",
        "\n",
        "# train a logistic regression model\n",
        "print('Training a logistic regression model with regularization rate of', reg)\n",
        "model = LogisticRegression(C=1/reg, solver=\"liblinear\").fit(X_train, y_train)\n",
        "\n",
        "# calculate accuracy\n",
        "y_hat = model.predict(X_test)\n",
        "acc = np.average(y_hat == y_test)\n",
        "print('Accuracy:', acc)\n",
        "\n",
        "# calculate AUC\n",
        "y_scores = model.predict_proba(X_test)\n",
        "auc = roc_auc_score(y_test,y_scores[:,1])\n",
        "print('AUC: ' + str(auc))"
      ]
    },
    {
      "attachments": {},
      "cell_type": "markdown",
      "metadata": {},
      "source": [
        "## Working with Environment"
      ]
    },
    {
      "cell_type": "code",
      "execution_count": null,
      "metadata": {},
      "outputs": [
        {
          "name": "stdout",
          "output_type": "stream",
          "text": [
            "churn-aci-env\n",
            "AzureML-ACPT-pytorch-1.13-py38-cuda11.7-gpu\n",
            "AzureML-ACPT-pytorch-1.12-py38-cuda11.6-gpu\n",
            "AzureML-ACPT-pytorch-1.12-py39-cuda11.6-gpu\n",
            "AzureML-ACPT-pytorch-1.11-py38-cuda11.5-gpu\n",
            "AzureML-ACPT-pytorch-1.11-py38-cuda11.3-gpu\n",
            "AzureML-responsibleai-0.21-ubuntu20.04-py38-cpu\n",
            "AzureML-responsibleai-0.20-ubuntu20.04-py38-cpu\n",
            "AzureML-tensorflow-2.5-ubuntu20.04-py38-cuda11-gpu\n",
            "AzureML-tensorflow-2.6-ubuntu20.04-py38-cuda11-gpu\n",
            "AzureML-tensorflow-2.7-ubuntu20.04-py38-cuda11-gpu\n",
            "AzureML-sklearn-1.0-ubuntu20.04-py38-cpu\n",
            "AzureML-pytorch-1.10-ubuntu18.04-py38-cuda11-gpu\n",
            "AzureML-pytorch-1.9-ubuntu18.04-py37-cuda11-gpu\n",
            "AzureML-pytorch-1.8-ubuntu18.04-py37-cuda11-gpu\n",
            "AzureML-sklearn-0.24-ubuntu18.04-py37-cpu\n",
            "AzureML-lightgbm-3.2-ubuntu18.04-py37-cpu\n",
            "AzureML-pytorch-1.7-ubuntu18.04-py37-cuda11-gpu\n",
            "AzureML-tensorflow-2.4-ubuntu18.04-py37-cuda11-gpu\n",
            "AzureML-Triton\n",
            "AzureML-Designer-Score\n",
            "AzureML-VowpalWabbit-8.8.0\n",
            "AzureML-PyTorch-1.3-CPU\n"
          ]
        }
      ],
      "source": [
        "#list all existing environment options\n",
        "env_list = ml_client.environments.list()\n",
        "for env in env_list:\n",
        "    print(env.name)"
      ]
    },
    {
      "cell_type": "code",
      "execution_count": null,
      "metadata": {},
      "outputs": [
        {
          "name": "stdout",
          "output_type": "stream",
          "text": [
            "An environment for tasks such as regression, clustering, and classification with Scikit-learn. Contains the Azure ML SDK and additional python packages. {'Scikit-learn': '0.24.1', 'OS': 'Ubuntu18.04', 'Training': ''}\n"
          ]
        }
      ],
      "source": [
        "myenv = ml_client.environments.get(\"AzureML-sklearn-0.24-ubuntu18.04-py37-cpu\",version=44)\n",
        "print(myenv.description,myenv.tags)"
      ]
    },
    {
      "cell_type": "code",
      "execution_count": null,
      "metadata": {},
      "outputs": [],
      "source": [
        "%%writefile src/conda-env.yml\n",
        "name:basic-env-cpu\n",
        "channel:\n",
        "- conda-forge\n",
        "dependencies:\n",
        "- python=3.7\n",
        "- scikit-learn\n",
        "- pandas\n",
        "- numpy \n",
        "- matplotlib\n",
        "- tensorflow"
      ]
    },
    {
      "cell_type": "code",
      "execution_count": null,
      "metadata": {},
      "outputs": [],
      "source": [
        "# custom env\n",
        "\n",
        "base_img = \"mcr.microsoft.com/azureml/minimal-ubuntu18.04-py37-cpu-inference:latest\"\n",
        "\n",
        "from azure.ai.ml.entities import Environment\n",
        "\n",
        "myenv = Environment(image=base_img,\n",
        "                    name='sample_env',\n",
        "                    conda_file=\"src/conda-env.yml\")\n",
        "\n",
        "ml_client.environments.create_or_update(myenv)"
      ]
    },
    {
      "attachments": {},
      "cell_type": "markdown",
      "metadata": {
        "nteract": {
          "transient": {
            "deleting": false
          }
        }
      },
      "source": [
        "## Run a job on a compute cluster\n",
        "\n",
        "Now, you're ready to run the job on the compute cluster you created.\n",
        "\n",
        "> **Note**:\n",
        "> The job will take some time to start as the compute cluster will need to scale from zero to one node. Once the compute cluster is ready, the script will be run. When the job has finished, the compute cluster will scale back down to zero nodes. You can review the compute cluster's status in the **Compute** page."
      ]
    },
    {
      "cell_type": "code",
      "execution_count": 32,
      "metadata": {},
      "outputs": [
        {
          "name": "stdout",
          "output_type": "stream",
          "text": [
            "Writing src/conda-env.yml\n"
          ]
        }
      ],
      "source": []
    },
    {
      "cell_type": "code",
      "execution_count": 42,
      "metadata": {
        "gather": {
          "logged": 1665750791983
        },
        "jupyter": {
          "outputs_hidden": false,
          "source_hidden": false
        },
        "nteract": {
          "transient": {
            "deleting": false
          }
        }
      },
      "outputs": [
        {
          "name": "stderr",
          "output_type": "stream",
          "text": [
            "\u001b[32mUploading src (0.53 MBs): 100%|##########| 529079/529079 [00:05<00:00, 98537.77it/s] \n",
            "\u001b[39m\n",
            "\n"
          ]
        },
        {
          "name": "stdout",
          "output_type": "stream",
          "text": [
            "Monitor your job at https://ml.azure.com/runs/heroic_rainbow_sgmr2f7215?wsid=/subscriptions/84a5808b-5549-459a-98f2-f102e84fa1bb/resourcegroups/EYMAY/workspaces/aml-anshu2&tid=13a86542-2185-4187-8e07-7512f5525c55\n"
          ]
        }
      ],
      "source": [
        "from azure.ai.ml import command\n",
        "\n",
        "# configure job\n",
        "job = command(\n",
        "    code=\"./src\",\n",
        "    command=\"python diabetes-training.py\",\n",
        "    environment=\"AzureML-sklearn-0.24-ubuntu18.04-py37-cpu@latest\",\n",
        "    compute=\"aml-cluster\",\n",
        "    display_name=\"diabetes-train-cluster\",\n",
        "    experiment_name=\"diabetes-training\"\n",
        "    )\n",
        "\n",
        "# submit job\n",
        "returned_job = ml_client.create_or_update(job)\n",
        "aml_url = returned_job.studio_url\n",
        "print(\"Monitor your job at\", aml_url)"
      ]
    },
    {
      "cell_type": "code",
      "execution_count": 49,
      "metadata": {},
      "outputs": [
        {
          "ename": "HttpResponseError",
          "evalue": "Operation returned an invalid status 'The Recurrence StartTime must be in the format: yyyy-MM-ddTHH:mm:ss'\nContent: {\n  \"error\": {\n    \"code\": \"UserError\",\n    \"severity\": null,\n    \"message\": \"The Recurrence StartTime must be in the format: yyyy-MM-ddTHH:mm:ss\",\n    \"messageFormat\": null,\n    \"messageParameters\": null,\n    \"referenceCode\": null,\n    \"detailsUri\": null,\n    \"target\": null,\n    \"details\": [],\n    \"innerError\": null,\n    \"debugInfo\": null,\n    \"additionalInfo\": null\n  },\n  \"correlation\": {\n    \"operation\": \"6aa231ce2d057aa6859cce33ba7e8905\",\n    \"request\": \"75cdba3e06fa72c4\"\n  },\n  \"environment\": \"westus\",\n  \"location\": \"westus\",\n  \"time\": \"2023-05-11T06:51:48.3780309+00:00\",\n  \"componentName\": \"machinelearningcompute\"\n}",
          "output_type": "error",
          "traceback": [
            "\u001b[1;31m---------------------------------------------------------------------------\u001b[0m",
            "\u001b[1;31mHttpResponseError\u001b[0m                         Traceback (most recent call last)",
            "Cell \u001b[1;32mIn[49], line 22\u001b[0m\n\u001b[0;32m     18\u001b[0m compute_schedule \u001b[39m=\u001b[39m ComputeSchedules(compute_start_stop\u001b[39m=\u001b[39m[myschedule1,myschedule2])\n\u001b[0;32m     21\u001b[0m mycompute \u001b[39m=\u001b[39m ComputeInstance(name\u001b[39m=\u001b[39m\u001b[39m\"\u001b[39m\u001b[39maml-cluster\u001b[39m\u001b[39m\"\u001b[39m,schedules\u001b[39m=\u001b[39mcompute_schedule)\n\u001b[1;32m---> 22\u001b[0m ml_client\u001b[39m.\u001b[39;49mcompute\u001b[39m.\u001b[39;49mbegin_create_or_update(mycompute)\n",
            "File \u001b[1;32m~\\AppData\\Roaming\\Python\\Python310\\site-packages\\azure\\core\\tracing\\decorator.py:76\u001b[0m, in \u001b[0;36mdistributed_trace.<locals>.decorator.<locals>.wrapper_use_tracer\u001b[1;34m(*args, **kwargs)\u001b[0m\n\u001b[0;32m     74\u001b[0m span_impl_type \u001b[39m=\u001b[39m settings\u001b[39m.\u001b[39mtracing_implementation()\n\u001b[0;32m     75\u001b[0m \u001b[39mif\u001b[39;00m span_impl_type \u001b[39mis\u001b[39;00m \u001b[39mNone\u001b[39;00m:\n\u001b[1;32m---> 76\u001b[0m     \u001b[39mreturn\u001b[39;00m func(\u001b[39m*\u001b[39margs, \u001b[39m*\u001b[39m\u001b[39m*\u001b[39mkwargs)\n\u001b[0;32m     78\u001b[0m \u001b[39m# Merge span is parameter is set, but only if no explicit parent are passed\u001b[39;00m\n\u001b[0;32m     79\u001b[0m \u001b[39mif\u001b[39;00m merge_span \u001b[39mand\u001b[39;00m \u001b[39mnot\u001b[39;00m passed_in_parent:\n",
            "File \u001b[1;32m~\\AppData\\Roaming\\Python\\Python310\\site-packages\\azure\\ai\\ml\\_telemetry\\activity.py:263\u001b[0m, in \u001b[0;36mmonitor_with_activity.<locals>.monitor.<locals>.wrapper\u001b[1;34m(*args, **kwargs)\u001b[0m\n\u001b[0;32m    260\u001b[0m \u001b[39m@functools\u001b[39m\u001b[39m.\u001b[39mwraps(f)\n\u001b[0;32m    261\u001b[0m \u001b[39mdef\u001b[39;00m \u001b[39mwrapper\u001b[39m(\u001b[39m*\u001b[39margs, \u001b[39m*\u001b[39m\u001b[39m*\u001b[39mkwargs):\n\u001b[0;32m    262\u001b[0m     \u001b[39mwith\u001b[39;00m log_activity(logger, activity_name \u001b[39mor\u001b[39;00m f\u001b[39m.\u001b[39m\u001b[39m__name__\u001b[39m, activity_type, custom_dimensions):\n\u001b[1;32m--> 263\u001b[0m         \u001b[39mreturn\u001b[39;00m f(\u001b[39m*\u001b[39margs, \u001b[39m*\u001b[39m\u001b[39m*\u001b[39mkwargs)\n",
            "File \u001b[1;32m~\\AppData\\Roaming\\Python\\Python310\\site-packages\\azure\\ai\\ml\\operations\\_compute_operations.py:130\u001b[0m, in \u001b[0;36mComputeOperations.begin_create_or_update\u001b[1;34m(self, compute)\u001b[0m\n\u001b[0;32m    123\u001b[0m compute\u001b[39m.\u001b[39m_set_full_subnet_name(\n\u001b[0;32m    124\u001b[0m     \u001b[39mself\u001b[39m\u001b[39m.\u001b[39m_operation_scope\u001b[39m.\u001b[39msubscription_id,\n\u001b[0;32m    125\u001b[0m     \u001b[39mself\u001b[39m\u001b[39m.\u001b[39m_operation_scope\u001b[39m.\u001b[39mresource_group_name,\n\u001b[0;32m    126\u001b[0m )\n\u001b[0;32m    128\u001b[0m compute_rest_obj \u001b[39m=\u001b[39m compute\u001b[39m.\u001b[39m_to_rest_object()\n\u001b[1;32m--> 130\u001b[0m poller \u001b[39m=\u001b[39m \u001b[39mself\u001b[39;49m\u001b[39m.\u001b[39;49m_operation\u001b[39m.\u001b[39;49mbegin_create_or_update(\n\u001b[0;32m    131\u001b[0m     \u001b[39mself\u001b[39;49m\u001b[39m.\u001b[39;49m_operation_scope\u001b[39m.\u001b[39;49mresource_group_name,\n\u001b[0;32m    132\u001b[0m     \u001b[39mself\u001b[39;49m\u001b[39m.\u001b[39;49m_workspace_name,\n\u001b[0;32m    133\u001b[0m     compute_name\u001b[39m=\u001b[39;49mcompute\u001b[39m.\u001b[39;49mname,\n\u001b[0;32m    134\u001b[0m     parameters\u001b[39m=\u001b[39;49mcompute_rest_obj,\n\u001b[0;32m    135\u001b[0m     polling\u001b[39m=\u001b[39;49m\u001b[39mTrue\u001b[39;49;00m,\n\u001b[0;32m    136\u001b[0m     \u001b[39mcls\u001b[39;49m\u001b[39m=\u001b[39;49m\u001b[39mlambda\u001b[39;49;00m response, deserialized, headers: Compute\u001b[39m.\u001b[39;49m_from_rest_object(deserialized),\n\u001b[0;32m    137\u001b[0m )\n\u001b[0;32m    139\u001b[0m \u001b[39mreturn\u001b[39;00m poller\n",
            "File \u001b[1;32m~\\AppData\\Roaming\\Python\\Python310\\site-packages\\azure\\core\\tracing\\decorator.py:76\u001b[0m, in \u001b[0;36mdistributed_trace.<locals>.decorator.<locals>.wrapper_use_tracer\u001b[1;34m(*args, **kwargs)\u001b[0m\n\u001b[0;32m     74\u001b[0m span_impl_type \u001b[39m=\u001b[39m settings\u001b[39m.\u001b[39mtracing_implementation()\n\u001b[0;32m     75\u001b[0m \u001b[39mif\u001b[39;00m span_impl_type \u001b[39mis\u001b[39;00m \u001b[39mNone\u001b[39;00m:\n\u001b[1;32m---> 76\u001b[0m     \u001b[39mreturn\u001b[39;00m func(\u001b[39m*\u001b[39margs, \u001b[39m*\u001b[39m\u001b[39m*\u001b[39mkwargs)\n\u001b[0;32m     78\u001b[0m \u001b[39m# Merge span is parameter is set, but only if no explicit parent are passed\u001b[39;00m\n\u001b[0;32m     79\u001b[0m \u001b[39mif\u001b[39;00m merge_span \u001b[39mand\u001b[39;00m \u001b[39mnot\u001b[39;00m passed_in_parent:\n",
            "File \u001b[1;32m~\\AppData\\Roaming\\Python\\Python310\\site-packages\\azure\\ai\\ml\\_restclient\\v2022_10_01_preview\\operations\\_compute_operations.py:803\u001b[0m, in \u001b[0;36mComputeOperations.begin_create_or_update\u001b[1;34m(self, resource_group_name, workspace_name, compute_name, parameters, **kwargs)\u001b[0m\n\u001b[0;32m    801\u001b[0m cont_token \u001b[39m=\u001b[39m kwargs\u001b[39m.\u001b[39mpop(\u001b[39m'\u001b[39m\u001b[39mcontinuation_token\u001b[39m\u001b[39m'\u001b[39m, \u001b[39mNone\u001b[39;00m)  \u001b[39m# type: Optional[str]\u001b[39;00m\n\u001b[0;32m    802\u001b[0m \u001b[39mif\u001b[39;00m cont_token \u001b[39mis\u001b[39;00m \u001b[39mNone\u001b[39;00m:\n\u001b[1;32m--> 803\u001b[0m     raw_result \u001b[39m=\u001b[39m \u001b[39mself\u001b[39m\u001b[39m.\u001b[39m_create_or_update_initial(\n\u001b[0;32m    804\u001b[0m         resource_group_name\u001b[39m=\u001b[39mresource_group_name,\n\u001b[0;32m    805\u001b[0m         workspace_name\u001b[39m=\u001b[39mworkspace_name,\n\u001b[0;32m    806\u001b[0m         compute_name\u001b[39m=\u001b[39mcompute_name,\n\u001b[0;32m    807\u001b[0m         parameters\u001b[39m=\u001b[39mparameters,\n\u001b[0;32m    808\u001b[0m         api_version\u001b[39m=\u001b[39mapi_version,\n\u001b[0;32m    809\u001b[0m         content_type\u001b[39m=\u001b[39mcontent_type,\n\u001b[0;32m    810\u001b[0m         \u001b[39mcls\u001b[39m\u001b[39m=\u001b[39m\u001b[39mlambda\u001b[39;00m x,y,z: x,\n\u001b[0;32m    811\u001b[0m         \u001b[39m*\u001b[39m\u001b[39m*\u001b[39mkwargs\n\u001b[0;32m    812\u001b[0m     )\n\u001b[0;32m    813\u001b[0m kwargs\u001b[39m.\u001b[39mpop(\u001b[39m'\u001b[39m\u001b[39merror_map\u001b[39m\u001b[39m'\u001b[39m, \u001b[39mNone\u001b[39;00m)\n\u001b[0;32m    815\u001b[0m \u001b[39mdef\u001b[39;00m \u001b[39mget_long_running_output\u001b[39m(pipeline_response):\n",
            "File \u001b[1;32m~\\AppData\\Roaming\\Python\\Python310\\site-packages\\azure\\ai\\ml\\_restclient\\v2022_10_01_preview\\operations\\_compute_operations.py:738\u001b[0m, in \u001b[0;36mComputeOperations._create_or_update_initial\u001b[1;34m(self, resource_group_name, workspace_name, compute_name, parameters, **kwargs)\u001b[0m\n\u001b[0;32m    736\u001b[0m \u001b[39mif\u001b[39;00m response\u001b[39m.\u001b[39mstatus_code \u001b[39mnot\u001b[39;00m \u001b[39min\u001b[39;00m [\u001b[39m200\u001b[39m, \u001b[39m201\u001b[39m]:\n\u001b[0;32m    737\u001b[0m     map_error(status_code\u001b[39m=\u001b[39mresponse\u001b[39m.\u001b[39mstatus_code, response\u001b[39m=\u001b[39mresponse, error_map\u001b[39m=\u001b[39merror_map)\n\u001b[1;32m--> 738\u001b[0m     \u001b[39mraise\u001b[39;00m HttpResponseError(response\u001b[39m=\u001b[39mresponse, error_format\u001b[39m=\u001b[39mARMErrorFormat)\n\u001b[0;32m    740\u001b[0m response_headers \u001b[39m=\u001b[39m {}\n\u001b[0;32m    741\u001b[0m \u001b[39mif\u001b[39;00m response\u001b[39m.\u001b[39mstatus_code \u001b[39m==\u001b[39m \u001b[39m200\u001b[39m:\n",
            "\u001b[1;31mHttpResponseError\u001b[0m: Operation returned an invalid status 'The Recurrence StartTime must be in the format: yyyy-MM-ddTHH:mm:ss'\nContent: {\n  \"error\": {\n    \"code\": \"UserError\",\n    \"severity\": null,\n    \"message\": \"The Recurrence StartTime must be in the format: yyyy-MM-ddTHH:mm:ss\",\n    \"messageFormat\": null,\n    \"messageParameters\": null,\n    \"referenceCode\": null,\n    \"detailsUri\": null,\n    \"target\": null,\n    \"details\": [],\n    \"innerError\": null,\n    \"debugInfo\": null,\n    \"additionalInfo\": null\n  },\n  \"correlation\": {\n    \"operation\": \"6aa231ce2d057aa6859cce33ba7e8905\",\n    \"request\": \"75cdba3e06fa72c4\"\n  },\n  \"environment\": \"westus\",\n  \"location\": \"westus\",\n  \"time\": \"2023-05-11T06:51:48.3780309+00:00\",\n  \"componentName\": \"machinelearningcompute\"\n}"
          ]
        }
      ],
      "source": [
        "#update the compute to perform scheduled start and stop\n",
        "\n",
        "from azure.ai.ml.entities import ComputeInstance,ComputeSchedules, ComputeStartStopSchedule,RecurrenceTrigger,RecurrencePattern\n",
        "from azure.ai.ml.constants import TimeZone\n",
        "\n",
        "trigger1 = RecurrenceTrigger(start_time=\"2023-05-11 12:21:00\",time_zone=TimeZone.INDIA_STANDARD_TIME,\n",
        "                            frequency=\"week\",interval=1,\n",
        "                            schedule=RecurrencePattern(week_days=[\"Monday\"],hours=9,minutes=[10]))\n",
        "\n",
        "myschedule1 = ComputeStartStopSchedule(trigger=trigger1,action=\"start\")\n",
        "\n",
        "\n",
        "trigger2 = RecurrenceTrigger(start_time=\"yyyy-MM-ddTHH:mm:ss\",time_zone=TimeZone.INDIA_STANDARD_TIME,\n",
        "                            frequency=\"week\",interval=1,\n",
        "                            schedule=RecurrencePattern(week_days=[\"Monday\"],hours=10,minutes=[10]))\n",
        "\n",
        "myschedule2 = ComputeStartStopSchedule(trigger=trigger2,action=\"stop\")\n",
        "compute_schedule = ComputeSchedules(compute_start_stop=[myschedule1,myschedule2])\n",
        "\n",
        "\n",
        "mycompute = ComputeInstance(name=\"aml-cluster\",schedules=compute_schedule)\n",
        "ml_client.compute.begin_create_or_update(mycompute)"
      ]
    },
    {
      "cell_type": "code",
      "execution_count": 52,
      "metadata": {},
      "outputs": [],
      "source": [
        "# delete compute\n",
        "ml_client.compute.begin_delete(\"aml-cluster\").wait()"
      ]
    },
    {
      "cell_type": "code",
      "execution_count": null,
      "metadata": {},
      "outputs": [],
      "source": []
    }
  ],
  "metadata": {
    "kernel_info": {
      "name": "python38-azureml"
    },
    "kernelspec": {
      "display_name": "base",
      "language": "python",
      "name": "python3"
    },
    "language_info": {
      "codemirror_mode": {
        "name": "ipython",
        "version": 3
      },
      "file_extension": ".py",
      "mimetype": "text/x-python",
      "name": "python",
      "nbconvert_exporter": "python",
      "pygments_lexer": "ipython3",
      "version": "3.10.9"
    },
    "microsoft": {
      "host": {
        "AzureML": {
          "notebookHasBeenCompleted": true
        }
      }
    },
    "nteract": {
      "version": "nteract-front-end@1.0.0"
    }
  },
  "nbformat": 4,
  "nbformat_minor": 2
}
