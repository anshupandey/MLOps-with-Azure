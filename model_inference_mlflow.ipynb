{
 "cells": [
  {
   "attachments": {},
   "cell_type": "markdown",
   "metadata": {},
   "source": [
    "# Inference by accessing model from mlflow model registry"
   ]
  },
  {
   "cell_type": "code",
   "execution_count": 21,
   "metadata": {},
   "outputs": [
    {
     "data": {
      "text/plain": [
       "array([1], dtype=int64)"
      ]
     },
     "execution_count": 21,
     "metadata": {},
     "output_type": "execute_result"
    }
   ],
   "source": [
    "import mlflow.pyfunc\n",
    "\n",
    "model_name = \"churn_prediction_name\"\n",
    "model_version=\"staging\"\n",
    "\n",
    "model = mlflow.pyfunc.load_model(model_uri=f\"models:/{model_name}/{model_version}\")\n",
    "data = {\"CreditScore\":654,\"Geography\":\"France\",\"Gender\":\"Female\",\"Age\":45,\"Balance\":452663.0,\n",
    "        \"NumOfProducts\":2,\"IsActiveMember\":0}\n",
    "\n",
    "import pandas\n",
    "data = pandas.DataFrame([data])\n",
    "data['IsActiveMember'] = data['IsActiveMember'].astype('int32')\n",
    "model.predict(data)"
   ]
  },
  {
   "cell_type": "code",
   "execution_count": 11,
   "metadata": {},
   "outputs": [],
   "source": [
    "from mlflow.tracking import MlflowClient\n",
    "from pprint import pprint"
   ]
  },
  {
   "cell_type": "code",
   "execution_count": 13,
   "metadata": {},
   "outputs": [
    {
     "name": "stdout",
     "output_type": "stream",
     "text": [
      "{'aliases': {},\n",
      " 'creation_timestamp': 1683614035504,\n",
      " 'description': '',\n",
      " 'last_updated_timestamp': 1683614035824,\n",
      " 'latest_versions': [<ModelVersion: aliases=[], creation_timestamp=1683614035824, current_stage='None', description='', last_updated_timestamp=1683614035824, name='churn_model', run_id='e9ad5e069a3c4e538c05babdbd969c9b', run_link='', source='file:///d:/AI/MLOps/EYMAY23/MLOps-with-Azure/mlruns/292143052935320181/e9ad5e069a3c4e538c05babdbd969c9b/artifacts/model', status='READY', status_message=None, tags={}, user_id=None, version=1>],\n",
      " 'name': 'churn_model',\n",
      " 'tags': {}}\n",
      "{'aliases': {},\n",
      " 'creation_timestamp': 1683612505599,\n",
      " 'description': None,\n",
      " 'last_updated_timestamp': 1683613755879,\n",
      " 'latest_versions': [<ModelVersion: aliases=[], creation_timestamp=1683613755879, current_stage='None', description='', last_updated_timestamp=1683613755879, name='churn_prediction_name', run_id='5441d28dbeea4fc7829b5224b745fa16', run_link='', source='file:///d:/AI/MLOps/EYMAY23/MLOps-with-Azure/mlruns/292143052935320181/5441d28dbeea4fc7829b5224b745fa16/artifacts/model', status='READY', status_message=None, tags={}, user_id=None, version=2>],\n",
      " 'name': 'churn_prediction_name',\n",
      " 'tags': {}}\n"
     ]
    }
   ],
   "source": [
    "client = MlflowClient()\n",
    "for md in client.search_registered_models():\n",
    "    pprint(dict(md))"
   ]
  },
  {
   "cell_type": "code",
   "execution_count": 16,
   "metadata": {},
   "outputs": [
    {
     "name": "stdout",
     "output_type": "stream",
     "text": [
      "{'aliases': [],\n",
      " 'creation_timestamp': 1683613755879,\n",
      " 'current_stage': 'None',\n",
      " 'description': '',\n",
      " 'last_updated_timestamp': 1683613755879,\n",
      " 'name': 'churn_prediction_name',\n",
      " 'run_id': '5441d28dbeea4fc7829b5224b745fa16',\n",
      " 'run_link': '',\n",
      " 'source': 'file:///d:/AI/MLOps/EYMAY23/MLOps-with-Azure/mlruns/292143052935320181/5441d28dbeea4fc7829b5224b745fa16/artifacts/model',\n",
      " 'status': 'READY',\n",
      " 'status_message': None,\n",
      " 'tags': {},\n",
      " 'user_id': None,\n",
      " 'version': 2}\n",
      "{'aliases': [],\n",
      " 'creation_timestamp': 1683612505617,\n",
      " 'current_stage': 'None',\n",
      " 'description': None,\n",
      " 'last_updated_timestamp': 1683612505617,\n",
      " 'name': 'churn_prediction_name',\n",
      " 'run_id': '6a8a6f76dcf0482a877913af15707b21',\n",
      " 'run_link': None,\n",
      " 'source': 'file:///d:/AI/MLOps/EYMAY23/MLOps-with-Azure/mlruns/292143052935320181/6a8a6f76dcf0482a877913af15707b21/artifacts/churn_model',\n",
      " 'status': 'READY',\n",
      " 'status_message': None,\n",
      " 'tags': {},\n",
      " 'user_id': None,\n",
      " 'version': 1}\n"
     ]
    }
   ],
   "source": [
    "for mv in client.search_model_versions(\"name='churn_prediction_name'\"):\n",
    "    pprint(dict(mv))"
   ]
  },
  {
   "cell_type": "code",
   "execution_count": 17,
   "metadata": {},
   "outputs": [
    {
     "data": {
      "text/plain": [
       "<ModelVersion: aliases=[], creation_timestamp=1683613755879, current_stage='Staging', description='', last_updated_timestamp=1683614217356, name='churn_prediction_name', run_id='5441d28dbeea4fc7829b5224b745fa16', run_link='', source='file:///d:/AI/MLOps/EYMAY23/MLOps-with-Azure/mlruns/292143052935320181/5441d28dbeea4fc7829b5224b745fa16/artifacts/model', status='READY', status_message=None, tags={}, user_id=None, version=2>"
      ]
     },
     "execution_count": 17,
     "metadata": {},
     "output_type": "execute_result"
    }
   ],
   "source": [
    "client.transition_model_version_stage(name=\"churn_prediction_name\",version=2,stage=\"staging\")"
   ]
  },
  {
   "cell_type": "code",
   "execution_count": 22,
   "metadata": {},
   "outputs": [
    {
     "data": {
      "text/plain": [
       "<ModelVersion: aliases=[], creation_timestamp=1683612505617, current_stage='Archived', description=None, last_updated_timestamp=1683614361622, name='churn_prediction_name', run_id='6a8a6f76dcf0482a877913af15707b21', run_link=None, source='file:///d:/AI/MLOps/EYMAY23/MLOps-with-Azure/mlruns/292143052935320181/6a8a6f76dcf0482a877913af15707b21/artifacts/churn_model', status='READY', status_message=None, tags={}, user_id=None, version=1>"
      ]
     },
     "execution_count": 22,
     "metadata": {},
     "output_type": "execute_result"
    }
   ],
   "source": [
    "client.transition_model_version_stage(name=\"churn_prediction_name\",version=1,stage=\"Archived\")"
   ]
  },
  {
   "cell_type": "code",
   "execution_count": 23,
   "metadata": {},
   "outputs": [
    {
     "data": {
      "text/plain": [
       "<ModelVersion: aliases=[], creation_timestamp=1683613755879, current_stage='Production', description='', last_updated_timestamp=1683614399562, name='churn_prediction_name', run_id='5441d28dbeea4fc7829b5224b745fa16', run_link='', source='file:///d:/AI/MLOps/EYMAY23/MLOps-with-Azure/mlruns/292143052935320181/5441d28dbeea4fc7829b5224b745fa16/artifacts/model', status='READY', status_message=None, tags={}, user_id=None, version=2>"
      ]
     },
     "execution_count": 23,
     "metadata": {},
     "output_type": "execute_result"
    }
   ],
   "source": [
    "client.transition_model_version_stage(name=\"churn_prediction_name\",version=2,stage=\"production\")"
   ]
  },
  {
   "cell_type": "code",
   "execution_count": null,
   "metadata": {},
   "outputs": [],
   "source": []
  },
  {
   "cell_type": "code",
   "execution_count": 1,
   "metadata": {},
   "outputs": [
    {
     "name": "stderr",
     "output_type": "stream",
     "text": [
      "c:\\ProgramData\\anaconda3\\lib\\site-packages\\paramiko\\transport.py:219: CryptographyDeprecationWarning: Blowfish has been deprecated\n",
      "  \"class\": algorithms.Blowfish,\n"
     ]
    }
   ],
   "source": [
    "from azureml.core import Workspace\n",
    "ws = Workspace.get(name=\"aml-anshu\",\n",
    "                        subscription_id=\"84a5808b-5549-459a-98f2-f102e84fa1bb\",\n",
    "                        resource_group=\"EY23\")"
   ]
  },
  {
   "cell_type": "code",
   "execution_count": 2,
   "metadata": {},
   "outputs": [],
   "source": [
    "import mlflow\n",
    "mlflow.set_tracking_uri(ws.get_mlflow_tracking_uri())"
   ]
  },
  {
   "cell_type": "code",
   "execution_count": 4,
   "metadata": {},
   "outputs": [
    {
     "data": {
      "text/plain": [
       "array([1], dtype=int64)"
      ]
     },
     "execution_count": 4,
     "metadata": {},
     "output_type": "execute_result"
    }
   ],
   "source": [
    "import mlflow.pyfunc\n",
    "\n",
    "model_name = \"churn_prediction_name\"\n",
    "model_version=1\n",
    "\n",
    "model = mlflow.pyfunc.load_model(model_uri=f\"models:/{model_name}/{model_version}\")\n",
    "data = {\"CreditScore\":654.0,\"Geography\":\"France\",\"Gender\":\"Female\",\"Age\":45.0,\"Balance\":452663.0,\n",
    "        \"NumOfProducts\":2.0,\"IsActiveMember\":0}\n",
    "\n",
    "import pandas\n",
    "data = pandas.DataFrame([data])\n",
    "data['IsActiveMember'] = data['IsActiveMember'].astype('int32')\n",
    "model.predict(data)"
   ]
  },
  {
   "cell_type": "code",
   "execution_count": null,
   "metadata": {},
   "outputs": [],
   "source": []
  }
 ],
 "metadata": {
  "kernelspec": {
   "display_name": "base",
   "language": "python",
   "name": "python3"
  },
  "language_info": {
   "codemirror_mode": {
    "name": "ipython",
    "version": 3
   },
   "file_extension": ".py",
   "mimetype": "text/x-python",
   "name": "python",
   "nbconvert_exporter": "python",
   "pygments_lexer": "ipython3",
   "version": "3.10.9"
  },
  "orig_nbformat": 4
 },
 "nbformat": 4,
 "nbformat_minor": 2
}
