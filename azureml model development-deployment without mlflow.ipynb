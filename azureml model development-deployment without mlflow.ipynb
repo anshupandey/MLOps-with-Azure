{
  "cells": [
    {
      "attachments": {},
      "cell_type": "markdown",
      "metadata": {
        "nteract": {
          "transient": {
            "deleting": false
          }
        }
      },
      "source": [
        "# ML model development and Deployment using azureML (without mlflow)\n",
        "\n",
        "When you run a script as an Azure Machine Learning job, you need to define the execution context for the job run. One key configuration is the compute target on which the script will be run. This could be the local workstation (in this case the compute instance), or a remote compute target such as the Azure Machine Learning managed compute cluster that is provisioned on-demand.\n",
        "\n",
        "In this notebook, you'll create a compute cluster and explore compute targets for jobs.\n",
        "\n",
        "## Before you start\n",
        "\n",
        "You'll need the latest version of the  **azureml-ai-ml** package to run the code in this notebook. Run the cell below to verify that it is installed.\n",
        "\n",
        "> **Note**:\n",
        "> If the **azure-ai-ml** package is not installed, run `pip install azure-ai-ml` to install it."
      ]
    },
    {
      "cell_type": "code",
      "execution_count": 33,
      "metadata": {
        "gather": {
          "logged": 1665745893251
        }
      },
      "outputs": [
        {
          "name": "stdout",
          "output_type": "stream",
          "text": [
            "Name: azure-ai-ml\n",
            "Version: 1.6.0\n",
            "Summary: Microsoft Azure Machine Learning Client Library for Python\n",
            "Home-page: https://github.com/Azure/azure-sdk-for-python\n",
            "Author: Microsoft Corporation\n",
            "Author-email: azuresdkengsysadmins@microsoft.com\n",
            "License: MIT License\n",
            "Location: c:\\users\\anshu\\appdata\\roaming\\python\\python310\\site-packages\n",
            "Requires: azure-common, azure-core, azure-mgmt-core, azure-storage-blob, azure-storage-file-datalake, azure-storage-file-share, colorama, isodate, jsonschema, marshmallow, msrest, opencensus-ext-azure, pydash, pyjwt, pyyaml, strictyaml, tqdm, typing-extensions\n",
            "Required-by: \n",
            "Note: you may need to restart the kernel to use updated packages.\n"
          ]
        }
      ],
      "source": [
        "pip show azure-ai-ml"
      ]
    },
    {
      "attachments": {},
      "cell_type": "markdown",
      "metadata": {
        "nteract": {
          "transient": {
            "deleting": false
          }
        }
      },
      "source": [
        "## Connect to your workspace\n",
        "\n",
        "With the required SDK packages installed, now you're ready to connect to your workspace.\n",
        "\n",
        "To connect to a workspace, we need identifier parameters - a subscription ID, resource group name, and workspace name. The resource group name and workspace name are already filled in for you. You only need the subscription ID to complete the command.\n",
        "\n",
        "To find the necessary parameters, click on the subscription and workspace name at the top right of the Studio. A pane will open on the right.\n",
        "\n",
        "<p style=\"color:red;font-size:120%;background-color:yellow;font-weight:bold\"> Copy the subscription ID and replace **YOUR-SUBSCRIPTION-ID** with the value you copied. </p>"
      ]
    },
    {
      "cell_type": "code",
      "execution_count": 1,
      "metadata": {
        "gather": {
          "logged": 1665745927409
        },
        "jupyter": {
          "outputs_hidden": false,
          "source_hidden": false
        },
        "nteract": {
          "transient": {
            "deleting": false
          }
        }
      },
      "outputs": [],
      "source": [
        "# enter details of your AML workspace\n",
        "subscription_id = \"84a5808b-5549-459a-98f2-f102e84fa1bb\"\n",
        "resource_group = \"EYMAY\"\n",
        "workspace = \"aml-anshu2\""
      ]
    },
    {
      "cell_type": "code",
      "execution_count": 2,
      "metadata": {},
      "outputs": [],
      "source": [
        "from azure.identity import DefaultAzureCredential,InteractiveBrowserCredential\n",
        "credential = InteractiveBrowserCredential(tenant_id=\"13a86542-2185-4187-8e07-7512f5525c55\")"
      ]
    },
    {
      "cell_type": "code",
      "execution_count": 3,
      "metadata": {},
      "outputs": [
        {
          "name": "stderr",
          "output_type": "stream",
          "text": [
            "Class FeatureStoreOperations: This is an experimental class, and may change at any time. Please see https://aka.ms/azuremlexperimental for more information.\n",
            "Class FeatureSetOperations: This is an experimental class, and may change at any time. Please see https://aka.ms/azuremlexperimental for more information.\n",
            "Class FeatureStoreEntityOperations: This is an experimental class, and may change at any time. Please see https://aka.ms/azuremlexperimental for more information.\n"
          ]
        }
      ],
      "source": [
        "from azure.ai.ml import MLClient\n",
        "from azure.identity import DefaultAzureCredential\n",
        "\n",
        "# get a handle to the workspace\n",
        "ml_client = MLClient(\n",
        "    credential, subscription_id, resource_group, workspace\n",
        ")"
      ]
    },
    {
      "cell_type": "code",
      "execution_count": 4,
      "metadata": {},
      "outputs": [],
      "source": [
        "from azure.ai.ml.entities import Workspace"
      ]
    },
    {
      "cell_type": "code",
      "execution_count": 5,
      "metadata": {},
      "outputs": [
        {
          "name": "stderr",
          "output_type": "stream",
          "text": [
            "Class ManagedNetwork: This is an experimental class, and may change at any time. Please see https://aka.ms/azuremlexperimental for more information.\n",
            "The deployment request aml-anshu2-7799711 was accepted. ARM deployment URI for reference: \n",
            "https://portal.azure.com//#blade/HubsExtension/DeploymentDetailsBlade/overview/id/%2Fsubscriptions%2F84a5808b-5549-459a-98f2-f102e84fa1bb%2FresourceGroups%2FEYMAY%2Fproviders%2FMicrosoft.Resources%2Fdeployments%2Faml-anshu2-7799711\n"
          ]
        }
      ],
      "source": [
        "try:\n",
        "    ws = Workspace(name=\"aml-anshu2\",location=\"centralindia\",\n",
        "                )\n",
        "\n",
        "    ws = ml_client.workspaces.begin_create(ws)\n",
        "except:\n",
        "    print(\"workspace already exists\")\n"
      ]
    },
    {
      "attachments": {},
      "cell_type": "markdown",
      "metadata": {
        "nteract": {
          "transient": {
            "deleting": false
          }
        }
      },
      "source": [
        "## Create a compute cluster\n",
        "\n",
        "In many cases, your local compute resources may not be sufficient to process a complex or long-running experiment that needs to process a large volume of data; and you may want to take advantage of the ability to dynamically create and use compute resources in the cloud. Azure Machine Learning supports a range of compute targets, which you can define in your workpace and use to run jobs; paying for the resources only when using them.\n",
        "\n",
        "You can create a compute cluster in [Azure Machine Learning studio](https://ml.azure.com), by using the Python SDK, or the Azure CLI. The following code cell checks your workspace for the existence of a compute cluster names `aml-cluster`, and if it doesn't exist, creates it."
      ]
    },
    {
      "cell_type": "code",
      "execution_count": 6,
      "metadata": {
        "gather": {
          "logged": 1665746211525
        },
        "jupyter": {
          "outputs_hidden": false,
          "source_hidden": false
        },
        "nteract": {
          "transient": {
            "deleting": false
          }
        }
      },
      "outputs": [
        {
          "name": "stdout",
          "output_type": "stream",
          "text": [
            "Creating a new cpu compute target...\n"
          ]
        }
      ],
      "source": [
        "from azure.ai.ml.entities import AmlCompute\n",
        "\n",
        "# Name assigned to the compute cluster\n",
        "cpu_compute_target = \"aml-cluster\"\n",
        "\n",
        "try:\n",
        "    # let's see if the compute target already exists\n",
        "    cpu_cluster = ml_client.compute.get(cpu_compute_target)\n",
        "    print(\n",
        "        f\"You already have a cluster named {cpu_compute_target}, we'll reuse it as is.\"\n",
        "    )\n",
        "\n",
        "except Exception:\n",
        "    print(\"Creating a new cpu compute target...\")\n",
        "\n",
        "    # Let's create the Azure ML compute object with the intended parameters\n",
        "    cpu_cluster = AmlCompute(\n",
        "        name=cpu_compute_target,\n",
        "        # Azure ML Compute is the on-demand VM service\n",
        "        type=\"amlcompute\",\n",
        "        # VM Family\n",
        "        size=\"STANDARD_DS11_V2\",\n",
        "        # Minimum running nodes when there is no job running\n",
        "        min_instances=0,\n",
        "        # Nodes in cluster\n",
        "        max_instances=2,\n",
        "        # How many seconds will the node running after the job termination\n",
        "        idle_time_before_scale_down=120,\n",
        "        # Dedicated or LowPriority. The latter is cheaper but there is a chance of job termination\n",
        "        tier=\"Dedicated\",\n",
        "    )\n",
        "\n",
        "    # Now, we pass the object to MLClient's create_or_update method\n",
        "    cpu_cluster = ml_client.compute.begin_create_or_update(cpu_cluster)\n"
      ]
    },
    {
      "attachments": {},
      "cell_type": "markdown",
      "metadata": {
        "nteract": {
          "transient": {
            "deleting": false
          }
        }
      },
      "source": [
        "After you've created a compute cluster, you can only change the configuration for:\n",
        "\n",
        "- `min_instances`: Minimum number of nodes\n",
        "- `max_instances`: Maximum number of nodes\n",
        "- `idle_time_before_scale_down`: Idle time before scale down\n",
        "\n",
        "Currently, your compute cluster `aml-cluster` can only scale do a maximum of one node. Let's change that to two, to allow for parallel compute."
      ]
    },
    {
      "cell_type": "code",
      "execution_count": 7,
      "metadata": {
        "gather": {
          "logged": 1665746829045
        },
        "jupyter": {
          "outputs_hidden": false,
          "source_hidden": false
        },
        "nteract": {
          "transient": {
            "deleting": false
          }
        }
      },
      "outputs": [
        {
          "data": {
            "text/plain": [
              "<azure.core.polling._poller.LROPoller at 0x21d7a946020>"
            ]
          },
          "execution_count": 7,
          "metadata": {},
          "output_type": "execute_result"
        }
      ],
      "source": [
        "from azure.ai.ml.entities import AmlCompute\n",
        "\n",
        "cluster_scale = AmlCompute(\n",
        "    name=\"aml-cluster\",\n",
        "    max_instances=2,\n",
        ")\n",
        "ml_client.begin_create_or_update(cluster_scale)"
      ]
    },
    {
      "attachments": {},
      "cell_type": "markdown",
      "metadata": {
        "nteract": {
          "transient": {
            "deleting": false
          }
        }
      },
      "source": [
        "When the compute cluster is updated, you can verify its configuration by printing its attributes."
      ]
    },
    {
      "cell_type": "code",
      "execution_count": 8,
      "metadata": {
        "gather": {
          "logged": 1665747135475
        },
        "jupyter": {
          "outputs_hidden": false,
          "source_hidden": false
        },
        "nteract": {
          "transient": {
            "deleting": false
          }
        }
      },
      "outputs": [
        {
          "name": "stdout",
          "output_type": "stream",
          "text": [
            "AMLCompute with name aml-cluster has a maximum of 2 nodes\n"
          ]
        }
      ],
      "source": [
        "cpu_cluster = ml_client.compute.get(\"aml-cluster\")\n",
        "\n",
        "print (\n",
        "        f\"AMLCompute with name {cpu_cluster.name} has a maximum of {cpu_cluster.max_instances} nodes\"\n",
        "    )"
      ]
    },
    {
      "attachments": {},
      "cell_type": "markdown",
      "metadata": {},
      "source": [
        "## Create a script to train a model\n",
        "\n",
        "To train a model, you'll first create the **diabetes_training.py** script in the **src** folder. The script uses the **diabetes.csv** file in the same folder as the training data."
      ]
    },
    {
      "cell_type": "code",
      "execution_count": 9,
      "metadata": {},
      "outputs": [],
      "source": [
        "import os\n",
        "os.makedirs(\"src\",exist_ok=True)"
      ]
    },
    {
      "cell_type": "code",
      "execution_count": 10,
      "metadata": {},
      "outputs": [
        {
          "name": "stdout",
          "output_type": "stream",
          "text": [
            "Overwriting src/diabetes-training.py\n"
          ]
        }
      ],
      "source": [
        "%%writefile src/diabetes-training.py\n",
        "# import libraries\n",
        "import pandas as pd\n",
        "import numpy as np\n",
        "from sklearn.model_selection import train_test_split\n",
        "from sklearn.linear_model import LogisticRegression\n",
        "from sklearn.metrics import roc_auc_score\n",
        "from sklearn.metrics import roc_curve\n",
        "\n",
        "# load the diabetes dataset\n",
        "print(\"Loading Data...\")\n",
        "diabetes = pd.read_csv('diabetes.csv')\n",
        "\n",
        "# separate features and labels\n",
        "X, y = diabetes[['Pregnancies','PlasmaGlucose','DiastolicBloodPressure','TricepsThickness','SerumInsulin','BMI','DiabetesPedigree','Age']].values, diabetes['Diabetic'].values\n",
        "\n",
        "# split data into training set and test set\n",
        "X_train, X_test, y_train, y_test = train_test_split(X, y, test_size=0.30, random_state=0)\n",
        "\n",
        "\n",
        "\n",
        "# set regularization hyperparameter\n",
        "reg = 0.01\n",
        "\n",
        "# train a logistic regression model\n",
        "print('Training a logistic regression model with regularization rate of', reg)\n",
        "model = LogisticRegression(C=1/reg, solver=\"liblinear\").fit(X_train, y_train)\n",
        "\n",
        "# calculate accuracy\n",
        "y_hat = model.predict(X_test)\n",
        "acc = np.average(y_hat == y_test)\n",
        "print('Accuracy:', acc)\n",
        "\n",
        "# calculate AUC\n",
        "y_scores = model.predict_proba(X_test)\n",
        "auc = roc_auc_score(y_test,y_scores[:,1])\n",
        "print('AUC: ' + str(auc))\n",
        "\n",
        "import os\n",
        "import joblib\n",
        "os.makedirs('outputs', exist_ok=True)\n",
        "joblib.dump(value=model, filename='outputs/model.pkl')\n"
      ]
    },
    {
      "attachments": {},
      "cell_type": "markdown",
      "metadata": {
        "nteract": {
          "transient": {
            "deleting": false
          }
        }
      },
      "source": [
        "## Run a job on a compute cluster\n",
        "\n",
        "Now, you're ready to run the job on the compute cluster you created.\n",
        "\n",
        "> **Note**:\n",
        "> The job will take some time to start as the compute cluster will need to scale from zero to one node. Once the compute cluster is ready, the script will be run. When the job has finished, the compute cluster will scale back down to zero nodes. You can review the compute cluster's status in the **Compute** page."
      ]
    },
    {
      "cell_type": "code",
      "execution_count": 11,
      "metadata": {
        "gather": {
          "logged": 1665750791983
        },
        "jupyter": {
          "outputs_hidden": false,
          "source_hidden": false
        },
        "nteract": {
          "transient": {
            "deleting": false
          }
        }
      },
      "outputs": [
        {
          "name": "stderr",
          "output_type": "stream",
          "text": [
            "Class IntellectualPropertySchema: This is an experimental class, and may change at any time. Please see https://aka.ms/azuremlexperimental for more information.\n",
            "Class ProtectionLevelSchema: This is an experimental class, and may change at any time. Please see https://aka.ms/azuremlexperimental for more information.\n",
            "Class BaseIntellectualPropertySchema: This is an experimental class, and may change at any time. Please see https://aka.ms/azuremlexperimental for more information.\n",
            "\u001b[32mUploading src (0.53 MBs): 100%|##########| 530055/530055 [00:00<00:00, 1589044.72it/s]\n",
            "\u001b[39m\n",
            "\n"
          ]
        },
        {
          "name": "stdout",
          "output_type": "stream",
          "text": [
            "Monitor your job at https://ml.azure.com/runs/helpful_malanga_jhdrp6kx27?wsid=/subscriptions/84a5808b-5549-459a-98f2-f102e84fa1bb/resourcegroups/EYMAY/workspaces/aml-anshu2&tid=13a86542-2185-4187-8e07-7512f5525c55\n"
          ]
        }
      ],
      "source": [
        "from azure.ai.ml import command\n",
        "\n",
        "# configure job\n",
        "job = command(\n",
        "    code=\"./src\",\n",
        "    command=\"python diabetes-training.py\",\n",
        "    environment=\"AzureML-sklearn-0.24-ubuntu18.04-py37-cpu@latest\",\n",
        "    compute=\"aml-cluster\",\n",
        "    display_name=\"diabetes-train-cluster\",\n",
        "    experiment_name=\"diabetes-training\"\n",
        "    )\n",
        "\n",
        "# submit job\n",
        "returned_job = ml_client.create_or_update(job)\n",
        "aml_url = returned_job.studio_url\n",
        "print(\"Monitor your job at\", aml_url)"
      ]
    },
    {
      "attachments": {},
      "cell_type": "markdown",
      "metadata": {},
      "source": [
        "<h4 style=\"background-color:Tomato;\">wait till the job runs successfully, </h4>"
      ]
    },
    {
      "cell_type": "code",
      "execution_count": 12,
      "metadata": {},
      "outputs": [
        {
          "name": "stdout",
          "output_type": "stream",
          "text": [
            "diabetes-train-cluster type: command\n",
            "outputs:\n",
            "  default:\n",
            "    mode: rw_mount\n",
            "    type: uri_folder\n",
            "    path: azureml://datastores/workspaceartifactstore/ExperimentRun/dcid.helpful_malanga_jhdrp6kx27\n",
            "environment: azureml:AzureML-sklearn-0.24-ubuntu18.04-py37-cpu@latest\n",
            "resources:\n",
            "  instance_count: 1\n",
            "  shm_size: 2g\n",
            "services:\n",
            "  Tracking:\n",
            "    endpoint: azureml://centralindia.api.azureml.ms/mlflow/v1.0/subscriptions/84a5808b-5549-459a-98f2-f102e84fa1bb/resourceGroups/EYMAY/providers/Microsoft.MachineLearningServices/workspaces/aml-anshu2?\n",
            "    type: Tracking\n",
            "  Studio:\n",
            "    endpoint: https://ml.azure.com/runs/helpful_malanga_jhdrp6kx27?wsid=/subscriptions/84a5808b-5549-459a-98f2-f102e84fa1bb/resourcegroups/EYMAY/workspaces/aml-anshu2&tid=13a86542-2185-4187-8e07-7512f5525c55\n",
            "    type: Studio\n",
            "compute: azureml:aml-cluster\n",
            "component:\n",
            "  name: helpful_malanga_jhdrp6kx27\n",
            "  display_name: diabetes-train-cluster\n",
            "  type: command\n",
            "  outputs:\n",
            "    default:\n",
            "      type: uri_folder\n",
            "      mode: rw_mount\n",
            "  command: python diabetes-training.py\n",
            "  environment: azureml:AzureML-sklearn-0.24-ubuntu18.04-py37-cpu@latest\n",
            "  code: azureml:/subscriptions/84a5808b-5549-459a-98f2-f102e84fa1bb/resourceGroups/EYMAY/providers/Microsoft.MachineLearningServices/workspaces/aml-anshu2/codes/7164c8a1-cff2-4983-8193-227f1786fcf2/versions/1\n",
            "  creation_context:\n",
            "    created_at: '2023-05-14T02:24:33.498051+00:00'\n",
            "    created_by: Anshu Pandey\n",
            "    created_by_type: User\n",
            "  is_deterministic: true\n",
            "properties:\n",
            "  mlflow.source.git.repoURL: https://github.com/anshupandey/MLOps-with-Azure\n",
            "  mlflow.source.git.branch: main\n",
            "  mlflow.source.git.commit: d77da7c8f5d622f03bb95f3d3187a0ca65526a69\n",
            "  azureml.git.dirty: 'True'\n",
            "  _azureml.ComputeTargetType: amlctrain\n",
            "  ContentSnapshotId: 77c5c074-dcfd-47cd-a004-39680aa65876\n",
            " helpful_malanga_jhdrp6kx27\n"
          ]
        }
      ],
      "source": [
        "print(returned_job.display_name,returned_job,returned_job.name)"
      ]
    },
    {
      "attachments": {},
      "cell_type": "markdown",
      "metadata": {},
      "source": [
        "\n",
        "    A path on your local computer\t                    mlflow-model/model.pkl\n",
        "    A path on an Azure Machine Learning Datastore\t    azureml://datastores/<datastore-name>/paths/<path_on_datastore>\n",
        "    A path from an Azure Machine Learning job\t        azureml://jobs/<job-name>/outputs/<output-name>/paths/<path-to-model-relative-to-the-named-output-location>\n",
        "    A path from an MLflow job\t                        runs:/<run-id>/<path-to-model-relative-to-the-root-of-the-artifact-location>\n",
        "    A path from a Model Asset in Azure Machine Learning Workspace\tazureml:<model-name>:<version>\n",
        "    A path from a Model Asset in Azure Machine Learning Registry\tazureml://registries/<registry-name>/models/<model-name>/versions/<version>"
      ]
    },
    {
      "cell_type": "code",
      "execution_count": 13,
      "metadata": {},
      "outputs": [
        {
          "data": {
            "text/plain": [
              "'azureml://subscriptions/84a5808b-5549-459a-98f2-f102e84fa1bb/resourceGroups/EYMAY/workspaces/aml-anshu2/datastores/workspaceartifactstore/paths/ExperimentRun/dcid.helpful_malanga_jhdrp6kx27/outputs/model.pkl'"
            ]
          },
          "execution_count": 13,
          "metadata": {},
          "output_type": "execute_result"
        }
      ],
      "source": [
        "# register model\n",
        "from azure.ai.ml.entities import Model\n",
        "from azure.ai.ml.constants import AssetTypes\n",
        "path = f\"azureml://jobs/{returned_job.name}/outputs/artifacts/paths/outputs/model.pkl\"\n",
        "\n",
        "file_model = Model(path=path,type=AssetTypes.CUSTOM_MODEL,\n",
        "                   name=\"diabetes_model\")\n",
        "\n",
        "out = ml_client.models.create_or_update(file_model)\n",
        "out.path"
      ]
    },
    {
      "cell_type": "code",
      "execution_count": 14,
      "metadata": {},
      "outputs": [
        {
          "data": {
            "text/plain": [
              "'diabetes_model'"
            ]
          },
          "execution_count": 14,
          "metadata": {},
          "output_type": "execute_result"
        }
      ],
      "source": [
        "out.name"
      ]
    },
    {
      "cell_type": "code",
      "execution_count": 15,
      "metadata": {},
      "outputs": [
        {
          "data": {
            "text/plain": [
              "'1'"
            ]
          },
          "execution_count": 15,
          "metadata": {},
          "output_type": "execute_result"
        }
      ],
      "source": [
        "out.version"
      ]
    },
    {
      "attachments": {},
      "cell_type": "markdown",
      "metadata": {},
      "source": [
        "# Deployment: Real time online deployment"
      ]
    },
    {
      "attachments": {},
      "cell_type": "markdown",
      "metadata": {},
      "source": []
    },
    {
      "cell_type": "code",
      "execution_count": 26,
      "metadata": {},
      "outputs": [],
      "source": [
        "from azure.ai.ml.entities import ManagedOnlineEndpoint\n",
        "import datetime\n",
        "\n",
        "ep_name = \"endpoint-diabetes\" \n",
        "ep = ManagedOnlineEndpoint(name = ep_name,\n",
        "                           auth_mode=\"key\")\n",
        "ep_result = ml_client.online_endpoints.begin_create_or_update(ep).result()"
      ]
    },
    {
      "cell_type": "code",
      "execution_count": 29,
      "metadata": {},
      "outputs": [],
      "source": [
        "ep = ml_client.online_endpoints.get(name=\"endpoint-diabetes\")"
      ]
    },
    {
      "cell_type": "code",
      "execution_count": 30,
      "metadata": {},
      "outputs": [],
      "source": [
        "import os\n",
        "os.makedirs(\"score\",exist_ok=True)"
      ]
    },
    {
      "cell_type": "code",
      "execution_count": 47,
      "metadata": {},
      "outputs": [
        {
          "name": "stdout",
          "output_type": "stream",
          "text": [
            "Overwriting score/score.py\n"
          ]
        }
      ],
      "source": [
        "%%writefile score/score.py\n",
        "\n",
        "import os\n",
        "import joblib\n",
        "import json \n",
        "import logging\n",
        "import numpy\n",
        "def init():\n",
        "    global model\n",
        "    path = os.path.join(os.getenv(\"AZUREML_MODEL_DIR\"),\"model.pkl\") # AZUREML_MODEL_DIR = ./azureml-models/MODEL_NAME/VERSION\n",
        "    logging.info(path)\n",
        "    try:\n",
        "        model = joblib.load(path)\n",
        "    except Exception as e:\n",
        "        logging.info(\"Error occurred\")\n",
        "        logging.info(e)\n",
        "        logging.info(\"error end\")\n",
        "    logging.info(\"initialization completed\")\n",
        "\n",
        "def run(raw_data):\n",
        "    logging.info(\"model: request received\")\n",
        "    data = json.loads(raw_data)[\"data\"]\n",
        "    data = numpy.array(data)\n",
        "    result = model.predict(data)\n",
        "    logging.info(\"request procsesed\")\n",
        "    return result.tolist()"
      ]
    },
    {
      "cell_type": "code",
      "execution_count": 48,
      "metadata": {},
      "outputs": [
        {
          "name": "stdout",
          "output_type": "stream",
          "text": [
            "Overwriting score/conda.yml\n"
          ]
        }
      ],
      "source": [
        "%%writefile score/conda.yml\n",
        "name: model-env\n",
        "channels:\n",
        "  - conda-forge\n",
        "dependencies:\n",
        "  - python=3.7\n",
        "  - numpy=1.21.2\n",
        "  - pip=21.2.4\n",
        "  - scikit-learn=0.24.2\n",
        "  - scipy=1.7.1\n",
        "  - numpy\n",
        "  - pandas\n",
        "  - pip:\n",
        "    - azureml-defaults==1.47.0\n",
        "    - applicationinsights\n",
        "    - inference-schema[numpy-support]==1.5\n",
        "    - joblib==1.0.1"
      ]
    },
    {
      "cell_type": "code",
      "execution_count": 49,
      "metadata": {},
      "outputs": [],
      "source": [
        "# deployment configuration\n",
        "from azure.ai.ml.entities import Model,ManagedOnlineDeployment,CodeConfiguration\n",
        "from azure.ai.ml.constants import AssetTypes\n",
        "\n",
        "# configure an environment\n",
        "from azure.ai.ml.entities import Environment\n",
        "env = Environment(\n",
        "    conda_file=\"score/conda.yml\",\n",
        "    image=\"mcr.microsoft.com/azureml/openmpi3.1.2-ubuntu18.04:20210727.v1\",\n",
        ")\n",
        "\n",
        "# configure an inference configuration with a scoring script\n",
        "from azure.ai.ml.entities import CodeConfiguration\n",
        "code_config = CodeConfiguration(\n",
        "        code=\"score\", scoring_script=\"score.py\"\n",
        "    )\n",
        "\n",
        "model = ml_client.models.get(name=out.name, version=out.version)\n",
        "\n",
        "# define an online deployment\n",
        "blue_deployment = ManagedOnlineDeployment(\n",
        "    name=\"blue\",\n",
        "    endpoint_name=ep_name,\n",
        "    model=model,\n",
        "    instance_type=\"Standard_DS1_v2\",\n",
        "    instance_count=1,\n",
        "    environment=env,\n",
        "    code_configuration=code_config\n",
        ")"
      ]
    },
    {
      "cell_type": "code",
      "execution_count": 46,
      "metadata": {},
      "outputs": [
        {
          "name": "stderr",
          "output_type": "stream",
          "text": [
            "Instance type Standard_DS1_v2 may be too small for compute resources. Minimum recommended compute SKU is Standard_DS3_v2 for general purpose endpoints. Learn more about SKUs here: https://learn.microsoft.com/en-us/azure/machine-learning/referencemanaged-online-endpoints-vm-sku-list\n",
            "Check: endpoint endpoint-diabetes exists\n",
            "\u001b[32mUploading score (0.0 MBs): 100%|##########| 1017/1017 [00:00<00:00, 3203.99it/s]\n",
            "\u001b[39m\n",
            "\n",
            "data_collector is not a known attribute of class <class 'azure.ai.ml._restclient.v2022_02_01_preview.models._models_py3.ManagedOnlineDeployment'> and will be ignored\n"
          ]
        },
        {
          "name": "stdout",
          "output_type": "stream",
          "text": [
            ".............................."
          ]
        },
        {
          "ename": "HttpResponseError",
          "evalue": "(None) ResourceNotReady: User container has crashed or terminated: Liveness probe failed: Get http://10.66.0.5:5001/: net/http: request canceled (Client.Timeout exceeded while awaiting headers). Please see troubleshooting guide, available here: https://aka.ms/oe-tsg#error-resourcenotready\nCode: None\nMessage: ResourceNotReady: User container has crashed or terminated: Liveness probe failed: Get http://10.66.0.5:5001/: net/http: request canceled (Client.Timeout exceeded while awaiting headers). Please see troubleshooting guide, available here: https://aka.ms/oe-tsg#error-resourcenotready",
          "output_type": "error",
          "traceback": [
            "\u001b[1;31m---------------------------------------------------------------------------\u001b[0m",
            "\u001b[1;31mOperationFailed\u001b[0m                           Traceback (most recent call last)",
            "File \u001b[1;32m~\\AppData\\Roaming\\Python\\Python310\\site-packages\\azure\\core\\polling\\base_polling.py:466\u001b[0m, in \u001b[0;36mLROBasePolling.run\u001b[1;34m(self)\u001b[0m\n\u001b[0;32m    465\u001b[0m \u001b[39mtry\u001b[39;00m:\n\u001b[1;32m--> 466\u001b[0m     \u001b[39mself\u001b[39;49m\u001b[39m.\u001b[39;49m_poll()\n\u001b[0;32m    468\u001b[0m \u001b[39mexcept\u001b[39;00m BadStatus \u001b[39mas\u001b[39;00m err:\n",
            "File \u001b[1;32m~\\AppData\\Roaming\\Python\\Python310\\site-packages\\azure\\core\\polling\\base_polling.py:500\u001b[0m, in \u001b[0;36mLROBasePolling._poll\u001b[1;34m(self)\u001b[0m\n\u001b[0;32m    499\u001b[0m \u001b[39mif\u001b[39;00m _failed(\u001b[39mself\u001b[39m\u001b[39m.\u001b[39mstatus()):\n\u001b[1;32m--> 500\u001b[0m     \u001b[39mraise\u001b[39;00m OperationFailed(\u001b[39m\"\u001b[39m\u001b[39mOperation failed or canceled\u001b[39m\u001b[39m\"\u001b[39m)\n\u001b[0;32m    502\u001b[0m final_get_url \u001b[39m=\u001b[39m \u001b[39mself\u001b[39m\u001b[39m.\u001b[39m_operation\u001b[39m.\u001b[39mget_final_get_url(\u001b[39mself\u001b[39m\u001b[39m.\u001b[39m_pipeline_response)\n",
            "\u001b[1;31mOperationFailed\u001b[0m: Operation failed or canceled",
            "\nDuring handling of the above exception, another exception occurred:\n",
            "\u001b[1;31mHttpResponseError\u001b[0m                         Traceback (most recent call last)",
            "Cell \u001b[1;32mIn[46], line 1\u001b[0m\n\u001b[1;32m----> 1\u001b[0m blue_deploy_result \u001b[39m=\u001b[39m ml_client\u001b[39m.\u001b[39;49monline_deployments\u001b[39m.\u001b[39;49mbegin_create_or_update(blue_deployment)\u001b[39m.\u001b[39;49mresult()\n",
            "File \u001b[1;32m~\\AppData\\Roaming\\Python\\Python310\\site-packages\\azure\\core\\polling\\_poller.py:230\u001b[0m, in \u001b[0;36mLROPoller.result\u001b[1;34m(self, timeout)\u001b[0m\n\u001b[0;32m    222\u001b[0m \u001b[39mdef\u001b[39;00m \u001b[39mresult\u001b[39m(\u001b[39mself\u001b[39m, timeout: Optional[\u001b[39mfloat\u001b[39m] \u001b[39m=\u001b[39m \u001b[39mNone\u001b[39;00m) \u001b[39m-\u001b[39m\u001b[39m>\u001b[39m PollingReturnType:\n\u001b[0;32m    223\u001b[0m     \u001b[39m\"\"\"Return the result of the long running operation, or\u001b[39;00m\n\u001b[0;32m    224\u001b[0m \u001b[39m    the result available after the specified timeout.\u001b[39;00m\n\u001b[0;32m    225\u001b[0m \n\u001b[1;32m   (...)\u001b[0m\n\u001b[0;32m    228\u001b[0m \u001b[39m    :raises ~azure.core.exceptions.HttpResponseError: Server problem with the query.\u001b[39;00m\n\u001b[0;32m    229\u001b[0m \u001b[39m    \"\"\"\u001b[39;00m\n\u001b[1;32m--> 230\u001b[0m     \u001b[39mself\u001b[39;49m\u001b[39m.\u001b[39;49mwait(timeout)\n\u001b[0;32m    231\u001b[0m     \u001b[39mreturn\u001b[39;00m \u001b[39mself\u001b[39m\u001b[39m.\u001b[39m_polling_method\u001b[39m.\u001b[39mresource()\n",
            "File \u001b[1;32m~\\AppData\\Roaming\\Python\\Python310\\site-packages\\azure\\core\\tracing\\decorator.py:76\u001b[0m, in \u001b[0;36mdistributed_trace.<locals>.decorator.<locals>.wrapper_use_tracer\u001b[1;34m(*args, **kwargs)\u001b[0m\n\u001b[0;32m     74\u001b[0m span_impl_type \u001b[39m=\u001b[39m settings\u001b[39m.\u001b[39mtracing_implementation()\n\u001b[0;32m     75\u001b[0m \u001b[39mif\u001b[39;00m span_impl_type \u001b[39mis\u001b[39;00m \u001b[39mNone\u001b[39;00m:\n\u001b[1;32m---> 76\u001b[0m     \u001b[39mreturn\u001b[39;00m func(\u001b[39m*\u001b[39margs, \u001b[39m*\u001b[39m\u001b[39m*\u001b[39mkwargs)\n\u001b[0;32m     78\u001b[0m \u001b[39m# Merge span is parameter is set, but only if no explicit parent are passed\u001b[39;00m\n\u001b[0;32m     79\u001b[0m \u001b[39mif\u001b[39;00m merge_span \u001b[39mand\u001b[39;00m \u001b[39mnot\u001b[39;00m passed_in_parent:\n",
            "File \u001b[1;32m~\\AppData\\Roaming\\Python\\Python310\\site-packages\\azure\\core\\polling\\_poller.py:249\u001b[0m, in \u001b[0;36mLROPoller.wait\u001b[1;34m(self, timeout)\u001b[0m\n\u001b[0;32m    245\u001b[0m \u001b[39mself\u001b[39m\u001b[39m.\u001b[39m_thread\u001b[39m.\u001b[39mjoin(timeout\u001b[39m=\u001b[39mtimeout)\n\u001b[0;32m    246\u001b[0m \u001b[39mtry\u001b[39;00m:\n\u001b[0;32m    247\u001b[0m     \u001b[39m# Let's handle possible None in forgiveness here\u001b[39;00m\n\u001b[0;32m    248\u001b[0m     \u001b[39m# https://github.com/python/mypy/issues/8165\u001b[39;00m\n\u001b[1;32m--> 249\u001b[0m     \u001b[39mraise\u001b[39;00m \u001b[39mself\u001b[39m\u001b[39m.\u001b[39m_exception  \u001b[39m# type: ignore\u001b[39;00m\n\u001b[0;32m    250\u001b[0m \u001b[39mexcept\u001b[39;00m \u001b[39mTypeError\u001b[39;00m:  \u001b[39m# Was None\u001b[39;00m\n\u001b[0;32m    251\u001b[0m     \u001b[39mpass\u001b[39;00m\n",
            "File \u001b[1;32m~\\AppData\\Roaming\\Python\\Python310\\site-packages\\azure\\core\\polling\\_poller.py:169\u001b[0m, in \u001b[0;36mLROPoller._start\u001b[1;34m(self)\u001b[0m\n\u001b[0;32m    162\u001b[0m \u001b[39m\"\"\"Start the long running operation.\u001b[39;00m\n\u001b[0;32m    163\u001b[0m \u001b[39mOn completion, runs any callbacks.\u001b[39;00m\n\u001b[0;32m    164\u001b[0m \n\u001b[0;32m    165\u001b[0m \u001b[39m:param callable update_cmd: The API request to check the status of\u001b[39;00m\n\u001b[0;32m    166\u001b[0m \u001b[39m the operation.\u001b[39;00m\n\u001b[0;32m    167\u001b[0m \u001b[39m\"\"\"\u001b[39;00m\n\u001b[0;32m    168\u001b[0m \u001b[39mtry\u001b[39;00m:\n\u001b[1;32m--> 169\u001b[0m     \u001b[39mself\u001b[39;49m\u001b[39m.\u001b[39;49m_polling_method\u001b[39m.\u001b[39;49mrun()\n\u001b[0;32m    170\u001b[0m \u001b[39mexcept\u001b[39;00m AzureError \u001b[39mas\u001b[39;00m error:\n\u001b[0;32m    171\u001b[0m     \u001b[39mif\u001b[39;00m \u001b[39mnot\u001b[39;00m error\u001b[39m.\u001b[39mcontinuation_token:\n",
            "File \u001b[1;32m~\\AppData\\Roaming\\Python\\Python310\\site-packages\\azure\\core\\polling\\base_polling.py:481\u001b[0m, in \u001b[0;36mLROBasePolling.run\u001b[1;34m(self)\u001b[0m\n\u001b[0;32m    474\u001b[0m     \u001b[39mraise\u001b[39;00m HttpResponseError(\n\u001b[0;32m    475\u001b[0m         response\u001b[39m=\u001b[39m\u001b[39mself\u001b[39m\u001b[39m.\u001b[39m_pipeline_response\u001b[39m.\u001b[39mhttp_response,\n\u001b[0;32m    476\u001b[0m         message\u001b[39m=\u001b[39m\u001b[39mstr\u001b[39m(err),\n\u001b[0;32m    477\u001b[0m         error\u001b[39m=\u001b[39merr,\n\u001b[0;32m    478\u001b[0m     )\n\u001b[0;32m    480\u001b[0m \u001b[39mexcept\u001b[39;00m OperationFailed \u001b[39mas\u001b[39;00m err:\n\u001b[1;32m--> 481\u001b[0m     \u001b[39mraise\u001b[39;00m HttpResponseError(response\u001b[39m=\u001b[39m\u001b[39mself\u001b[39m\u001b[39m.\u001b[39m_pipeline_response\u001b[39m.\u001b[39mhttp_response, error\u001b[39m=\u001b[39merr)\n",
            "\u001b[1;31mHttpResponseError\u001b[0m: (None) ResourceNotReady: User container has crashed or terminated: Liveness probe failed: Get http://10.66.0.5:5001/: net/http: request canceled (Client.Timeout exceeded while awaiting headers). Please see troubleshooting guide, available here: https://aka.ms/oe-tsg#error-resourcenotready\nCode: None\nMessage: ResourceNotReady: User container has crashed or terminated: Liveness probe failed: Get http://10.66.0.5:5001/: net/http: request canceled (Client.Timeout exceeded while awaiting headers). Please see troubleshooting guide, available here: https://aka.ms/oe-tsg#error-resourcenotready"
          ]
        }
      ],
      "source": [
        "blue_deploy_result = ml_client.online_deployments.begin_create_or_update(blue_deployment).result()"
      ]
    },
    {
      "cell_type": "code",
      "execution_count": null,
      "metadata": {},
      "outputs": [],
      "source": [
        "# blue deployment takes 100 traffic\n",
        "ep.traffic = {\"blue\": 100}\n",
        "ml_client.online_endpoints.begin_create_or_update(ep)"
      ]
    },
    {
      "attachments": {},
      "cell_type": "markdown",
      "metadata": {},
      "source": [
        "#### Check the status of the endpoint\n",
        "You can check the status of the endpoint to see whether the model was deployed without error:\n"
      ]
    },
    {
      "cell_type": "code",
      "execution_count": null,
      "metadata": {},
      "outputs": [],
      "source": [
        "\n",
        "# return an object that contains metadata for the endpoint\n",
        "endpoint = ml_client.online_endpoints.get(name=online_endpoint_name)\n",
        "\n",
        "# print a selection of the endpoint's metadata\n",
        "print(\n",
        "    f\"Name: {endpoint.name}\\nStatus: {endpoint.provisioning_state}\\nDescription: {endpoint.description}\"\n",
        ")\n"
      ]
    },
    {
      "cell_type": "code",
      "execution_count": null,
      "metadata": {},
      "outputs": [],
      "source": [
        "# existing traffic details\n",
        "print(endpoint.traffic)"
      ]
    },
    {
      "attachments": {},
      "cell_type": "markdown",
      "metadata": {},
      "source": [
        "### Inference"
      ]
    },
    {
      "cell_type": "code",
      "execution_count": null,
      "metadata": {},
      "outputs": [],
      "source": [
        "os.makedirs(\"testing\",exist_ok=True)"
      ]
    },
    {
      "cell_type": "code",
      "execution_count": null,
      "metadata": {},
      "outputs": [],
      "source": [
        "%%writefile sample-request.json\n",
        "{\"data\": [\n",
        " [9,103,78,25,304,29.58219193,1.282869847,43], \n",
        " [7,115,47,52,35,41.51152348,0.079018568,23]\n",
        "]}"
      ]
    },
    {
      "cell_type": "code",
      "execution_count": 35,
      "metadata": {},
      "outputs": [
        {
          "data": {
            "text/plain": [
              "ManagedOnlineEndpoint({'public_network_access': 'Enabled', 'provisioning_state': 'Succeeded', 'scoring_uri': 'https://endpoint-diabetes2.westus.inference.ml.azure.com/score', 'openapi_uri': 'https://endpoint-diabetes2.westus.inference.ml.azure.com/swagger.json', 'name': 'endpoint-diabetes2', 'description': None, 'tags': {}, 'properties': {'azureml.onlineendpointid': '/subscriptions/84a5808b-5549-459a-98f2-f102e84fa1bb/resourcegroups/eymay/providers/microsoft.machinelearningservices/workspaces/aml-anshu2/onlineendpoints/endpoint-diabetes2', 'AzureAsyncOperationUri': 'https://management.azure.com/subscriptions/84a5808b-5549-459a-98f2-f102e84fa1bb/providers/Microsoft.MachineLearningServices/locations/westus/mfeOperationsStatus/oe:c8702cfe-ee2e-4ded-a217-a1310873a604:c712df0f-58c7-4277-ac31-b80dc00119cd?api-version=2022-02-01-preview'}, 'print_as_yaml': True, 'id': '/subscriptions/84a5808b-5549-459a-98f2-f102e84fa1bb/resourceGroups/EYMAY/providers/Microsoft.MachineLearningServices/workspaces/aml-anshu2/onlineEndpoints/endpoint-diabetes2', 'Resource__source_path': None, 'base_path': 'd:\\\\AI\\\\MLOps\\\\EYMAY23\\\\MLOps-with-Azure', 'creation_context': None, 'serialize': <msrest.serialization.Serializer object at 0x000001D65302AC80>, 'auth_mode': 'key', 'location': 'westus', 'identity': <azure.ai.ml.entities._credentials.IdentityConfiguration object at 0x000001D6521FC880>, 'traffic': {}, 'mirror_traffic': {}, 'kind': 'Managed'})"
            ]
          },
          "execution_count": 35,
          "metadata": {},
          "output_type": "execute_result"
        }
      ],
      "source": [
        "# using json file to send a request using ml client\n",
        "# test the blue deployment with some sample data\n",
        "ml_client.online_endpoints.invoke(\n",
        "    endpoint_name=ep_name,\n",
        "    deployment_name=\"blue\",\n",
        "    request_file=\"testing/sample-request.json\",\n",
        ")"
      ]
    },
    {
      "cell_type": "code",
      "execution_count": null,
      "metadata": {},
      "outputs": [],
      "source": [
        "print(\"Scoring URI:\", ep.scoring_uri)"
      ]
    },
    {
      "cell_type": "code",
      "execution_count": null,
      "metadata": {},
      "outputs": [],
      "source": [
        "# sample testing via rest API"
      ]
    },
    {
      "cell_type": "code",
      "execution_count": null,
      "metadata": {},
      "outputs": [],
      "source": [
        "# delete the endpoint and deployment\n",
        "ml_client.online_endpoints.begin_delete(name=ep_name)"
      ]
    },
    {
      "cell_type": "code",
      "execution_count": null,
      "metadata": {},
      "outputs": [],
      "source": []
    }
  ],
  "metadata": {
    "kernel_info": {
      "name": "python38-azureml"
    },
    "kernelspec": {
      "display_name": "base",
      "language": "python",
      "name": "python3"
    },
    "language_info": {
      "codemirror_mode": {
        "name": "ipython",
        "version": 3
      },
      "file_extension": ".py",
      "mimetype": "text/x-python",
      "name": "python",
      "nbconvert_exporter": "python",
      "pygments_lexer": "ipython3",
      "version": "3.10.9"
    },
    "microsoft": {
      "host": {
        "AzureML": {
          "notebookHasBeenCompleted": true
        }
      }
    },
    "nteract": {
      "version": "nteract-front-end@1.0.0"
    }
  },
  "nbformat": 4,
  "nbformat_minor": 2
}
