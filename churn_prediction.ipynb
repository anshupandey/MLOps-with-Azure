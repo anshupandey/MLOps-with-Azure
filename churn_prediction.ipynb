{
 "cells": [
  {
   "cell_type": "code",
   "execution_count": 2,
   "metadata": {},
   "outputs": [],
   "source": [
    "import pandas  as pd\n",
    "import matplotlib.pyplot as plt \n",
    "import numpy as np \n",
    "import seaborn as sns \n",
    "import mlflow \n",
    "import mlflow.sklearn"
   ]
  },
  {
   "attachments": {},
   "cell_type": "markdown",
   "metadata": {},
   "source": [
    "## Data Collection and Exploration"
   ]
  },
  {
   "cell_type": "code",
   "execution_count": 3,
   "metadata": {},
   "outputs": [
    {
     "data": {
      "text/plain": [
       "(10000, 14)"
      ]
     },
     "execution_count": 3,
     "metadata": {},
     "output_type": "execute_result"
    }
   ],
   "source": [
    "df = pd.read_csv(r\"Bank_churn_modelling.csv\")\n",
    "df.shape"
   ]
  },
  {
   "cell_type": "code",
   "execution_count": 4,
   "metadata": {},
   "outputs": [
    {
     "data": {
      "text/html": [
       "<div>\n",
       "<style scoped>\n",
       "    .dataframe tbody tr th:only-of-type {\n",
       "        vertical-align: middle;\n",
       "    }\n",
       "\n",
       "    .dataframe tbody tr th {\n",
       "        vertical-align: top;\n",
       "    }\n",
       "\n",
       "    .dataframe thead th {\n",
       "        text-align: right;\n",
       "    }\n",
       "</style>\n",
       "<table border=\"1\" class=\"dataframe\">\n",
       "  <thead>\n",
       "    <tr style=\"text-align: right;\">\n",
       "      <th></th>\n",
       "      <th>RowNumber</th>\n",
       "      <th>CustomerId</th>\n",
       "      <th>Surname</th>\n",
       "      <th>CreditScore</th>\n",
       "      <th>Geography</th>\n",
       "      <th>Gender</th>\n",
       "      <th>Age</th>\n",
       "      <th>Tenure</th>\n",
       "      <th>Balance</th>\n",
       "      <th>NumOfProducts</th>\n",
       "      <th>HasCrCard</th>\n",
       "      <th>IsActiveMember</th>\n",
       "      <th>EstimatedSalary</th>\n",
       "      <th>Exited</th>\n",
       "    </tr>\n",
       "  </thead>\n",
       "  <tbody>\n",
       "    <tr>\n",
       "      <th>0</th>\n",
       "      <td>1</td>\n",
       "      <td>15634602</td>\n",
       "      <td>Hargrave</td>\n",
       "      <td>619</td>\n",
       "      <td>France</td>\n",
       "      <td>Female</td>\n",
       "      <td>42</td>\n",
       "      <td>2</td>\n",
       "      <td>0.00</td>\n",
       "      <td>1</td>\n",
       "      <td>1</td>\n",
       "      <td>1</td>\n",
       "      <td>101348.88</td>\n",
       "      <td>1</td>\n",
       "    </tr>\n",
       "    <tr>\n",
       "      <th>1</th>\n",
       "      <td>2</td>\n",
       "      <td>15647311</td>\n",
       "      <td>Hill</td>\n",
       "      <td>608</td>\n",
       "      <td>Spain</td>\n",
       "      <td>Female</td>\n",
       "      <td>41</td>\n",
       "      <td>1</td>\n",
       "      <td>83807.86</td>\n",
       "      <td>1</td>\n",
       "      <td>0</td>\n",
       "      <td>1</td>\n",
       "      <td>112542.58</td>\n",
       "      <td>0</td>\n",
       "    </tr>\n",
       "  </tbody>\n",
       "</table>\n",
       "</div>"
      ],
      "text/plain": [
       "   RowNumber  CustomerId   Surname  CreditScore Geography  Gender  Age  \\\n",
       "0          1    15634602  Hargrave          619    France  Female   42   \n",
       "1          2    15647311      Hill          608     Spain  Female   41   \n",
       "\n",
       "   Tenure   Balance  NumOfProducts  HasCrCard  IsActiveMember  \\\n",
       "0       2      0.00              1          1               1   \n",
       "1       1  83807.86              1          0               1   \n",
       "\n",
       "   EstimatedSalary  Exited  \n",
       "0        101348.88       1  \n",
       "1        112542.58       0  "
      ]
     },
     "execution_count": 4,
     "metadata": {},
     "output_type": "execute_result"
    }
   ],
   "source": [
    "df.head(2)"
   ]
  },
  {
   "cell_type": "code",
   "execution_count": 5,
   "metadata": {},
   "outputs": [
    {
     "data": {
      "text/html": [
       "<div>\n",
       "<style scoped>\n",
       "    .dataframe tbody tr th:only-of-type {\n",
       "        vertical-align: middle;\n",
       "    }\n",
       "\n",
       "    .dataframe tbody tr th {\n",
       "        vertical-align: top;\n",
       "    }\n",
       "\n",
       "    .dataframe thead th {\n",
       "        text-align: right;\n",
       "    }\n",
       "</style>\n",
       "<table border=\"1\" class=\"dataframe\">\n",
       "  <thead>\n",
       "    <tr style=\"text-align: right;\">\n",
       "      <th></th>\n",
       "      <th>RowNumber</th>\n",
       "      <th>CustomerId</th>\n",
       "      <th>CreditScore</th>\n",
       "      <th>Age</th>\n",
       "      <th>Tenure</th>\n",
       "      <th>Balance</th>\n",
       "      <th>NumOfProducts</th>\n",
       "      <th>HasCrCard</th>\n",
       "      <th>IsActiveMember</th>\n",
       "      <th>EstimatedSalary</th>\n",
       "      <th>Exited</th>\n",
       "    </tr>\n",
       "  </thead>\n",
       "  <tbody>\n",
       "    <tr>\n",
       "      <th>count</th>\n",
       "      <td>10000.00000</td>\n",
       "      <td>1.000000e+04</td>\n",
       "      <td>10000.000000</td>\n",
       "      <td>10000.000000</td>\n",
       "      <td>10000.000000</td>\n",
       "      <td>10000.000000</td>\n",
       "      <td>10000.000000</td>\n",
       "      <td>10000.00000</td>\n",
       "      <td>10000.000000</td>\n",
       "      <td>10000.000000</td>\n",
       "      <td>10000.000000</td>\n",
       "    </tr>\n",
       "    <tr>\n",
       "      <th>mean</th>\n",
       "      <td>5000.50000</td>\n",
       "      <td>1.569094e+07</td>\n",
       "      <td>650.528800</td>\n",
       "      <td>38.921800</td>\n",
       "      <td>5.012800</td>\n",
       "      <td>76485.889288</td>\n",
       "      <td>1.530200</td>\n",
       "      <td>0.70550</td>\n",
       "      <td>0.515100</td>\n",
       "      <td>100090.239881</td>\n",
       "      <td>0.203700</td>\n",
       "    </tr>\n",
       "    <tr>\n",
       "      <th>std</th>\n",
       "      <td>2886.89568</td>\n",
       "      <td>7.193619e+04</td>\n",
       "      <td>96.653299</td>\n",
       "      <td>10.487806</td>\n",
       "      <td>2.892174</td>\n",
       "      <td>62397.405202</td>\n",
       "      <td>0.581654</td>\n",
       "      <td>0.45584</td>\n",
       "      <td>0.499797</td>\n",
       "      <td>57510.492818</td>\n",
       "      <td>0.402769</td>\n",
       "    </tr>\n",
       "    <tr>\n",
       "      <th>min</th>\n",
       "      <td>1.00000</td>\n",
       "      <td>1.556570e+07</td>\n",
       "      <td>350.000000</td>\n",
       "      <td>18.000000</td>\n",
       "      <td>0.000000</td>\n",
       "      <td>0.000000</td>\n",
       "      <td>1.000000</td>\n",
       "      <td>0.00000</td>\n",
       "      <td>0.000000</td>\n",
       "      <td>11.580000</td>\n",
       "      <td>0.000000</td>\n",
       "    </tr>\n",
       "    <tr>\n",
       "      <th>25%</th>\n",
       "      <td>2500.75000</td>\n",
       "      <td>1.562853e+07</td>\n",
       "      <td>584.000000</td>\n",
       "      <td>32.000000</td>\n",
       "      <td>3.000000</td>\n",
       "      <td>0.000000</td>\n",
       "      <td>1.000000</td>\n",
       "      <td>0.00000</td>\n",
       "      <td>0.000000</td>\n",
       "      <td>51002.110000</td>\n",
       "      <td>0.000000</td>\n",
       "    </tr>\n",
       "    <tr>\n",
       "      <th>50%</th>\n",
       "      <td>5000.50000</td>\n",
       "      <td>1.569074e+07</td>\n",
       "      <td>652.000000</td>\n",
       "      <td>37.000000</td>\n",
       "      <td>5.000000</td>\n",
       "      <td>97198.540000</td>\n",
       "      <td>1.000000</td>\n",
       "      <td>1.00000</td>\n",
       "      <td>1.000000</td>\n",
       "      <td>100193.915000</td>\n",
       "      <td>0.000000</td>\n",
       "    </tr>\n",
       "    <tr>\n",
       "      <th>75%</th>\n",
       "      <td>7500.25000</td>\n",
       "      <td>1.575323e+07</td>\n",
       "      <td>718.000000</td>\n",
       "      <td>44.000000</td>\n",
       "      <td>7.000000</td>\n",
       "      <td>127644.240000</td>\n",
       "      <td>2.000000</td>\n",
       "      <td>1.00000</td>\n",
       "      <td>1.000000</td>\n",
       "      <td>149388.247500</td>\n",
       "      <td>0.000000</td>\n",
       "    </tr>\n",
       "    <tr>\n",
       "      <th>max</th>\n",
       "      <td>10000.00000</td>\n",
       "      <td>1.581569e+07</td>\n",
       "      <td>850.000000</td>\n",
       "      <td>92.000000</td>\n",
       "      <td>10.000000</td>\n",
       "      <td>250898.090000</td>\n",
       "      <td>4.000000</td>\n",
       "      <td>1.00000</td>\n",
       "      <td>1.000000</td>\n",
       "      <td>199992.480000</td>\n",
       "      <td>1.000000</td>\n",
       "    </tr>\n",
       "  </tbody>\n",
       "</table>\n",
       "</div>"
      ],
      "text/plain": [
       "         RowNumber    CustomerId   CreditScore           Age        Tenure  \\\n",
       "count  10000.00000  1.000000e+04  10000.000000  10000.000000  10000.000000   \n",
       "mean    5000.50000  1.569094e+07    650.528800     38.921800      5.012800   \n",
       "std     2886.89568  7.193619e+04     96.653299     10.487806      2.892174   \n",
       "min        1.00000  1.556570e+07    350.000000     18.000000      0.000000   \n",
       "25%     2500.75000  1.562853e+07    584.000000     32.000000      3.000000   \n",
       "50%     5000.50000  1.569074e+07    652.000000     37.000000      5.000000   \n",
       "75%     7500.25000  1.575323e+07    718.000000     44.000000      7.000000   \n",
       "max    10000.00000  1.581569e+07    850.000000     92.000000     10.000000   \n",
       "\n",
       "             Balance  NumOfProducts    HasCrCard  IsActiveMember  \\\n",
       "count   10000.000000   10000.000000  10000.00000    10000.000000   \n",
       "mean    76485.889288       1.530200      0.70550        0.515100   \n",
       "std     62397.405202       0.581654      0.45584        0.499797   \n",
       "min         0.000000       1.000000      0.00000        0.000000   \n",
       "25%         0.000000       1.000000      0.00000        0.000000   \n",
       "50%     97198.540000       1.000000      1.00000        1.000000   \n",
       "75%    127644.240000       2.000000      1.00000        1.000000   \n",
       "max    250898.090000       4.000000      1.00000        1.000000   \n",
       "\n",
       "       EstimatedSalary        Exited  \n",
       "count     10000.000000  10000.000000  \n",
       "mean     100090.239881      0.203700  \n",
       "std       57510.492818      0.402769  \n",
       "min          11.580000      0.000000  \n",
       "25%       51002.110000      0.000000  \n",
       "50%      100193.915000      0.000000  \n",
       "75%      149388.247500      0.000000  \n",
       "max      199992.480000      1.000000  "
      ]
     },
     "execution_count": 5,
     "metadata": {},
     "output_type": "execute_result"
    }
   ],
   "source": [
    "df.describe()"
   ]
  },
  {
   "attachments": {},
   "cell_type": "markdown",
   "metadata": {},
   "source": [
    "## Data Cleaning"
   ]
  },
  {
   "cell_type": "code",
   "execution_count": 6,
   "metadata": {},
   "outputs": [
    {
     "data": {
      "text/plain": [
       "RowNumber          0\n",
       "CustomerId         0\n",
       "Surname            0\n",
       "CreditScore        0\n",
       "Geography          0\n",
       "Gender             0\n",
       "Age                0\n",
       "Tenure             0\n",
       "Balance            0\n",
       "NumOfProducts      0\n",
       "HasCrCard          0\n",
       "IsActiveMember     0\n",
       "EstimatedSalary    0\n",
       "Exited             0\n",
       "dtype: int64"
      ]
     },
     "execution_count": 6,
     "metadata": {},
     "output_type": "execute_result"
    }
   ],
   "source": [
    "#check for missing values\n",
    "df.isnull().sum()"
   ]
  },
  {
   "cell_type": "code",
   "execution_count": 7,
   "metadata": {},
   "outputs": [
    {
     "data": {
      "text/plain": [
       "0"
      ]
     },
     "execution_count": 7,
     "metadata": {},
     "output_type": "execute_result"
    }
   ],
   "source": [
    "# check for duplicates\n",
    "df.duplicated().sum()"
   ]
  },
  {
   "cell_type": "code",
   "execution_count": 8,
   "metadata": {},
   "outputs": [
    {
     "name": "stderr",
     "output_type": "stream",
     "text": [
      "C:\\Users\\anshu\\AppData\\Local\\Temp\\ipykernel_21348\\3256115495.py:2: FutureWarning: The default value of numeric_only in DataFrame.skew is deprecated. In a future version, it will default to False. In addition, specifying 'numeric_only=None' is deprecated. Select only valid columns or specify the value of numeric_only to silence this warning.\n",
      "  df.skew()\n"
     ]
    },
    {
     "data": {
      "text/plain": [
       "RowNumber          0.000000\n",
       "CustomerId         0.001149\n",
       "CreditScore       -0.071607\n",
       "Age                1.011320\n",
       "Tenure             0.010991\n",
       "Balance           -0.141109\n",
       "NumOfProducts      0.745568\n",
       "HasCrCard         -0.901812\n",
       "IsActiveMember    -0.060437\n",
       "EstimatedSalary    0.002085\n",
       "Exited             1.471611\n",
       "dtype: float64"
      ]
     },
     "execution_count": 8,
     "metadata": {},
     "output_type": "execute_result"
    }
   ],
   "source": [
    "# check for outliers\n",
    "df.skew()"
   ]
  },
  {
   "cell_type": "code",
   "execution_count": 9,
   "metadata": {},
   "outputs": [
    {
     "data": {
      "text/plain": [
       "Index(['RowNumber', 'CustomerId', 'Surname', 'CreditScore', 'Geography',\n",
       "       'Gender', 'Age', 'Tenure', 'Balance', 'NumOfProducts', 'HasCrCard',\n",
       "       'IsActiveMember', 'EstimatedSalary', 'Exited'],\n",
       "      dtype='object')"
      ]
     },
     "execution_count": 9,
     "metadata": {},
     "output_type": "execute_result"
    }
   ],
   "source": [
    "# drop unwanted columns\n",
    "df.columns"
   ]
  },
  {
   "cell_type": "code",
   "execution_count": 10,
   "metadata": {},
   "outputs": [
    {
     "data": {
      "text/plain": [
       "(10000, 11)"
      ]
     },
     "execution_count": 10,
     "metadata": {},
     "output_type": "execute_result"
    }
   ],
   "source": [
    "df.drop(columns=['RowNumber','CustomerId','Surname'],inplace=True)\n",
    "df.shape"
   ]
  },
  {
   "attachments": {},
   "cell_type": "markdown",
   "metadata": {},
   "source": [
    "## Feature Selection"
   ]
  },
  {
   "attachments": {},
   "cell_type": "markdown",
   "metadata": {},
   "source": [
    "### ANOVA\n",
    "- to assess whether the distribution of a numeric attribute is similar across groups or not (exited and not exited)\n",
    "\n",
    "NUll Hypothesis: distribution of numeric attribute across two groups is similar\n",
    "consider CI = 95%, significance level, alpha = 5% = 0.05\n",
    "\n",
    "- if pvalue>alpha = we fail to reject null hypothesis = feature is not informative\n",
    "- if pvalue<alpha = we successfully reject null hypothesis = feature is informative\n"
   ]
  },
  {
   "cell_type": "code",
   "execution_count": 11,
   "metadata": {},
   "outputs": [
    {
     "name": "stdout",
     "output_type": "stream",
     "text": [
      "CreditScore 0.006738213892258643\n",
      "Age 1.2399313093415039e-186\n",
      "Tenure 0.1615268494952801\n",
      "Balance 1.275563319153163e-32\n",
      "NumOfProducts 1.7173330048040421e-06\n",
      "EstimatedSalary 0.22644042802376574\n"
     ]
    }
   ],
   "source": [
    "# ANOVA \n",
    "nums = ['CreditScore', 'Age', 'Tenure', 'Balance', 'NumOfProducts', 'EstimatedSalary']\n",
    "xnum = df[nums]\n",
    "y = df['Exited']\n",
    "\n",
    "from sklearn.feature_selection import f_classif\n",
    "fscore,pvalue = f_classif(xnum,y)\n",
    "\n",
    "for i in range(len(nums)):print(nums[i],pvalue[i])"
   ]
  },
  {
   "attachments": {},
   "cell_type": "markdown",
   "metadata": {},
   "source": [
    "### Chi Square test\n",
    "- to assess whether the distribution of a categoric attribute is similar across groups or not (exited and not exited)\n",
    "\n",
    "NUll Hypothesis: distribution of categoric attribute across two groups is similar\n",
    "consider CI = 95%, significance level, alpha = 5% = 0.05\n",
    "\n",
    "- if pvalue>alpha = we fail to reject null hypothesis = feature is not informative\n",
    "- if pvalue<alpha = we successfully reject null hypothesis = feature is informative\n"
   ]
  },
  {
   "cell_type": "code",
   "execution_count": 12,
   "metadata": {},
   "outputs": [
    {
     "name": "stdout",
     "output_type": "stream",
     "text": [
      "Geography 0.0005756078382573235\n",
      "Gender 7.015574513879596e-13\n",
      "HasCrCard 0.6984962089530451\n",
      "IsActiveMember 1.5680362405434552e-27\n"
     ]
    },
    {
     "name": "stderr",
     "output_type": "stream",
     "text": [
      "C:\\Users\\anshu\\AppData\\Local\\Temp\\ipykernel_21348\\1466486295.py:5: SettingWithCopyWarning: \n",
      "A value is trying to be set on a copy of a slice from a DataFrame.\n",
      "Try using .loc[row_indexer,col_indexer] = value instead\n",
      "\n",
      "See the caveats in the documentation: https://pandas.pydata.org/pandas-docs/stable/user_guide/indexing.html#returning-a-view-versus-a-copy\n",
      "  xcat['Gender'] = LabelEncoder().fit_transform(xcat['Gender'])\n",
      "C:\\Users\\anshu\\AppData\\Local\\Temp\\ipykernel_21348\\1466486295.py:6: SettingWithCopyWarning: \n",
      "A value is trying to be set on a copy of a slice from a DataFrame.\n",
      "Try using .loc[row_indexer,col_indexer] = value instead\n",
      "\n",
      "See the caveats in the documentation: https://pandas.pydata.org/pandas-docs/stable/user_guide/indexing.html#returning-a-view-versus-a-copy\n",
      "  xcat['Geography'] = LabelEncoder().fit_transform(xcat['Geography'])\n"
     ]
    }
   ],
   "source": [
    "cats = [ 'Geography', 'Gender', 'HasCrCard', 'IsActiveMember']\n",
    "xcat = df[cats]\n",
    "y = df['Exited']\n",
    "from sklearn.preprocessing import LabelEncoder\n",
    "xcat['Gender'] = LabelEncoder().fit_transform(xcat['Gender'])\n",
    "xcat['Geography'] = LabelEncoder().fit_transform(xcat['Geography'])\n",
    "\n",
    "from sklearn.feature_selection import chi2\n",
    "cscore,pvalue = chi2(xcat,y)\n",
    "for i in range(len(cats)):print(cats[i],pvalue[i])"
   ]
  },
  {
   "cell_type": "code",
   "execution_count": 13,
   "metadata": {},
   "outputs": [],
   "source": [
    "x = df[['CreditScore', 'Geography', 'Gender', 'Age', 'Balance', 'NumOfProducts', 'IsActiveMember']]\n",
    "y =df['Exited']"
   ]
  },
  {
   "cell_type": "code",
   "execution_count": 14,
   "metadata": {},
   "outputs": [
    {
     "name": "stdout",
     "output_type": "stream",
     "text": [
      "(10000, 7) (8000, 7) (2000, 7)\n",
      "(10000,) (8000,) (2000,)\n"
     ]
    }
   ],
   "source": [
    "from sklearn.model_selection import train_test_split\n",
    "xtrain,xtest,ytrain,ytest = train_test_split(x,y,test_size=0.2,stratify=y,random_state=5)\n",
    "print(x.shape,xtrain.shape,xtest.shape)\n",
    "print(y.shape,ytrain.shape,ytest.shape)"
   ]
  },
  {
   "attachments": {},
   "cell_type": "markdown",
   "metadata": {},
   "source": [
    "### Preprocessing"
   ]
  },
  {
   "cell_type": "code",
   "execution_count": 15,
   "metadata": {},
   "outputs": [
    {
     "data": {
      "text/html": [
       "<div>\n",
       "<style scoped>\n",
       "    .dataframe tbody tr th:only-of-type {\n",
       "        vertical-align: middle;\n",
       "    }\n",
       "\n",
       "    .dataframe tbody tr th {\n",
       "        vertical-align: top;\n",
       "    }\n",
       "\n",
       "    .dataframe thead th {\n",
       "        text-align: right;\n",
       "    }\n",
       "</style>\n",
       "<table border=\"1\" class=\"dataframe\">\n",
       "  <thead>\n",
       "    <tr style=\"text-align: right;\">\n",
       "      <th></th>\n",
       "      <th>CreditScore</th>\n",
       "      <th>Geography</th>\n",
       "      <th>Gender</th>\n",
       "      <th>Age</th>\n",
       "      <th>Balance</th>\n",
       "      <th>NumOfProducts</th>\n",
       "      <th>IsActiveMember</th>\n",
       "    </tr>\n",
       "  </thead>\n",
       "  <tbody>\n",
       "    <tr>\n",
       "      <th>0</th>\n",
       "      <td>619</td>\n",
       "      <td>France</td>\n",
       "      <td>Female</td>\n",
       "      <td>42</td>\n",
       "      <td>0.00</td>\n",
       "      <td>1</td>\n",
       "      <td>1</td>\n",
       "    </tr>\n",
       "    <tr>\n",
       "      <th>1</th>\n",
       "      <td>608</td>\n",
       "      <td>Spain</td>\n",
       "      <td>Female</td>\n",
       "      <td>41</td>\n",
       "      <td>83807.86</td>\n",
       "      <td>1</td>\n",
       "      <td>1</td>\n",
       "    </tr>\n",
       "    <tr>\n",
       "      <th>2</th>\n",
       "      <td>502</td>\n",
       "      <td>France</td>\n",
       "      <td>Female</td>\n",
       "      <td>42</td>\n",
       "      <td>159660.80</td>\n",
       "      <td>3</td>\n",
       "      <td>0</td>\n",
       "    </tr>\n",
       "    <tr>\n",
       "      <th>3</th>\n",
       "      <td>699</td>\n",
       "      <td>France</td>\n",
       "      <td>Female</td>\n",
       "      <td>39</td>\n",
       "      <td>0.00</td>\n",
       "      <td>2</td>\n",
       "      <td>0</td>\n",
       "    </tr>\n",
       "    <tr>\n",
       "      <th>4</th>\n",
       "      <td>850</td>\n",
       "      <td>Spain</td>\n",
       "      <td>Female</td>\n",
       "      <td>43</td>\n",
       "      <td>125510.82</td>\n",
       "      <td>1</td>\n",
       "      <td>1</td>\n",
       "    </tr>\n",
       "  </tbody>\n",
       "</table>\n",
       "</div>"
      ],
      "text/plain": [
       "   CreditScore Geography  Gender  Age    Balance  NumOfProducts  \\\n",
       "0          619    France  Female   42       0.00              1   \n",
       "1          608     Spain  Female   41   83807.86              1   \n",
       "2          502    France  Female   42  159660.80              3   \n",
       "3          699    France  Female   39       0.00              2   \n",
       "4          850     Spain  Female   43  125510.82              1   \n",
       "\n",
       "   IsActiveMember  \n",
       "0               1  \n",
       "1               1  \n",
       "2               0  \n",
       "3               0  \n",
       "4               1  "
      ]
     },
     "execution_count": 15,
     "metadata": {},
     "output_type": "execute_result"
    }
   ],
   "source": [
    "x.head()"
   ]
  },
  {
   "cell_type": "code",
   "execution_count": 16,
   "metadata": {},
   "outputs": [
    {
     "name": "stdout",
     "output_type": "stream",
     "text": [
      "(8000, 8)\n"
     ]
    }
   ],
   "source": [
    "from sklearn.compose import ColumnTransformer\n",
    "from sklearn.preprocessing import OneHotEncoder\n",
    "\n",
    "transformer = ColumnTransformer([('ohe',OneHotEncoder(drop=\"first\"),[1,2]),],remainder='passthrough')\n",
    "transformer.fit(xtrain)\n",
    "xtrain = transformer.transform(xtrain)\n",
    "xtest = transformer.transform(xtest)\n",
    "print(xtrain.shape)"
   ]
  },
  {
   "attachments": {},
   "cell_type": "markdown",
   "metadata": {},
   "source": [
    "# Modelling"
   ]
  },
  {
   "cell_type": "code",
   "execution_count": 17,
   "metadata": {},
   "outputs": [
    {
     "data": {
      "text/plain": [
       "<Experiment: artifact_location='file:///d:/AI/MLOps/EYMAY23/MLOps-with-Azure/mlruns/738194057631278017', creation_time=1683524677966, experiment_id='738194057631278017', last_update_time=1683524677966, lifecycle_stage='active', name='churn_prediction', tags={}>"
      ]
     },
     "execution_count": 17,
     "metadata": {},
     "output_type": "execute_result"
    }
   ],
   "source": [
    "mlflow.set_experiment(\"churn_prediction\")"
   ]
  },
  {
   "attachments": {},
   "cell_type": "markdown",
   "metadata": {},
   "source": [
    "### Manual Tracking"
   ]
  },
  {
   "cell_type": "code",
   "execution_count": 18,
   "metadata": {},
   "outputs": [],
   "source": [
    "from sklearn import metrics"
   ]
  },
  {
   "cell_type": "code",
   "execution_count": 21,
   "metadata": {},
   "outputs": [
    {
     "name": "stderr",
     "output_type": "stream",
     "text": [
      "c:\\ProgramData\\anaconda3\\lib\\site-packages\\_distutils_hack\\__init__.py:33: UserWarning: Setuptools is replacing distutils.\n",
      "  warnings.warn(\"Setuptools is replacing distutils.\")\n"
     ]
    },
    {
     "data": {
      "image/png": "[encoded data removed]",
      "text/plain": [
       "<Figure size 800x600 with 1 Axes>"
      ]
     },
     "metadata": {},
     "output_type": "display_data"
    }
   ],
   "source": [
    "from sklearn.tree import DecisionTreeClassifier\n",
    "\n",
    "with mlflow.start_run():\n",
    "    # log params\n",
    "    mlflow.log_param(\"max_depth\",8)\n",
    "    mlflow.log_param(\"min_samples_leaf\",20)\n",
    "    mlflow.log_param(\"criterion\",'gini')\n",
    "    model = DecisionTreeClassifier(criterion='gini',min_samples_leaf=20,max_depth=8,\n",
    "                               class_weight='balanced',random_state=5)\n",
    "    model.fit(xtrain,ytrain)\n",
    "\n",
    "    ypred = model.predict(xtest)\n",
    "    # log metrics\n",
    "    mlflow.log_metric(\"accuracy\",metrics.accuracy_score(ytest,ypred))\n",
    "    mlflow.log_metric(\"F1 Score\",metrics.f1_score(ytest,ypred))\n",
    "\n",
    "    #log artifacts\n",
    "    #mlflow.log_artifact(\"Bank_churn_modelling.csv\",\"Churn_dataset_v1\")\n",
    "\n",
    "    # log artifacts\n",
    "    # ROC Curve\n",
    "    ypred_proba = model.predict_proba(xtest)\n",
    "    fpr,tpr,thresh = metrics.roc_curve(ytest,ypred_proba[:,1])\n",
    "    fig = plt.figure(figsize=(8,6))\n",
    "    plt.plot([0,1],[1,0],'k--')\n",
    "    plt.plot(fpr,tpr)\n",
    "    plt.xlabel(\"False Positive rate\")\n",
    "    plt.ylabel(\"True Positive Rate\")\n",
    "    plt.title(\"ROC Curve\")\n",
    "    plt.savefig(\"ROC-Curve.png\")\n",
    "    mlflow.log_artifact(\"ROC-Curve.png\")\n",
    "    mlflow.sklearn.log_model(model,\"churn_model\")\n",
    "\n",
    "    "
   ]
  },
  {
   "cell_type": "code",
   "execution_count": 19,
   "metadata": {},
   "outputs": [
    {
     "name": "stdout",
     "output_type": "stream",
     "text": [
      "              precision    recall  f1-score   support\n",
      "\n",
      "           0       0.92      0.77      0.84      1593\n",
      "           1       0.46      0.74      0.56       407\n",
      "\n",
      "    accuracy                           0.77      2000\n",
      "   macro avg       0.69      0.76      0.70      2000\n",
      "weighted avg       0.83      0.77      0.78      2000\n",
      "\n"
     ]
    }
   ],
   "source": [
    "from sklearn import metrics\n",
    "print(metrics.classification_report(ytest,model.predict(xtest)))"
   ]
  },
  {
   "cell_type": "code",
   "execution_count": 20,
   "metadata": {},
   "outputs": [
    {
     "data": {
      "text/plain": [
       "'file:///d:/AI/MLOps/EYMAY23/MLOps-with-Azure/mlruns'"
      ]
     },
     "execution_count": 20,
     "metadata": {},
     "output_type": "execute_result"
    }
   ],
   "source": [
    "mlflow.get_tracking_uri()"
   ]
  },
  {
   "cell_type": "code",
   "execution_count": 21,
   "metadata": {},
   "outputs": [
    {
     "name": "stderr",
     "output_type": "stream",
     "text": [
      "'mlflow' is not recognized as an internal or external command,\n",
      "operable program or batch file.\n"
     ]
    }
   ],
   "source": [
    "!mlflow ui"
   ]
  },
  {
   "cell_type": "code",
   "execution_count": 39,
   "metadata": {},
   "outputs": [],
   "source": [
    "from mlflow.models import make_metric"
   ]
  },
  {
   "cell_type": "code",
   "execution_count": null,
   "metadata": {},
   "outputs": [],
   "source": []
  },
  {
   "cell_type": "code",
   "execution_count": 42,
   "metadata": {},
   "outputs": [
    {
     "name": "stderr",
     "output_type": "stream",
     "text": [
      "2023/05/08 12:44:30 INFO mlflow.models.evaluation.base: Evaluating the model with the default evaluator.\n",
      "c:\\ProgramData\\anaconda3\\lib\\site-packages\\sklearn\\base.py:413: UserWarning: X has feature names, but DecisionTreeClassifier was fitted without feature names\n",
      "  warnings.warn(\n",
      "2023/05/08 12:44:30 INFO mlflow.models.evaluation.default_evaluator: The evaluation dataset is inferred as binary dataset, positive label is 1, negative label is 0.\n"
     ]
    },
    {
     "name": "stdout",
     "output_type": "stream",
     "text": [
      "file:///d:/AI/MLOps/EYMAY23/MLOps-with-Azure/mlruns/738194057631278017/45dc6fab744342a7bd5bf2290391f742/artifacts/model\n"
     ]
    },
    {
     "name": "stderr",
     "output_type": "stream",
     "text": [
      "c:\\ProgramData\\anaconda3\\lib\\site-packages\\sklearn\\base.py:413: UserWarning: X has feature names, but DecisionTreeClassifier was fitted without feature names\n",
      "  warnings.warn(\n",
      "c:\\ProgramData\\anaconda3\\lib\\site-packages\\sklearn\\base.py:413: UserWarning: X has feature names, but DecisionTreeClassifier was fitted without feature names\n",
      "  warnings.warn(\n"
     ]
    },
    {
     "ename": "TypeError",
     "evalue": "custom_metric_1() takes 1 positional argument but 2 were given",
     "output_type": "error",
     "traceback": [
      "\u001b[1;31m---------------------------------------------------------------------------\u001b[0m",
      "\u001b[1;31mTypeError\u001b[0m                                 Traceback (most recent call last)",
      "Cell \u001b[1;32mIn[42], line 18\u001b[0m\n\u001b[0;32m     16\u001b[0m evaldata \u001b[39m=\u001b[39m pd\u001b[39m.\u001b[39mDataFrame(xtest,columns\u001b[39m=\u001b[39mtransformer\u001b[39m.\u001b[39mget_feature_names_out())\n\u001b[0;32m     17\u001b[0m evaldata[\u001b[39m'\u001b[39m\u001b[39mlabel\u001b[39m\u001b[39m'\u001b[39m] \u001b[39m=\u001b[39m ytest\u001b[39m.\u001b[39mvalues\u001b[39m.\u001b[39mtolist()\n\u001b[1;32m---> 18\u001b[0m result \u001b[39m=\u001b[39m mlflow\u001b[39m.\u001b[39;49mevaluate(model\u001b[39m=\u001b[39;49mmodel_uri,data\u001b[39m=\u001b[39;49mevaldata,\n\u001b[0;32m     19\u001b[0m                          targets\u001b[39m=\u001b[39;49m\u001b[39m\"\u001b[39;49m\u001b[39mlabel\u001b[39;49m\u001b[39m\"\u001b[39;49m,model_type\u001b[39m=\u001b[39;49m\u001b[39m'\u001b[39;49m\u001b[39mclassifier\u001b[39;49m\u001b[39m'\u001b[39;49m,\n\u001b[0;32m     20\u001b[0m                          evaluators\u001b[39m=\u001b[39;49m[\u001b[39m'\u001b[39;49m\u001b[39mdefault\u001b[39;49m\u001b[39m'\u001b[39;49m],\n\u001b[0;32m     21\u001b[0m                          custom_metrics\u001b[39m=\u001b[39;49m[make_metric(eval_fn \u001b[39m=\u001b[39;49m custom_metric_1,\n\u001b[0;32m     22\u001b[0m                                                      greater_is_better\u001b[39m=\u001b[39;49m\u001b[39mTrue\u001b[39;49;00m),]\n\u001b[0;32m     23\u001b[0m                          )\n",
      "File \u001b[1;32m~\\AppData\\Roaming\\Python\\Python310\\site-packages\\mlflow\\models\\evaluation\\base.py:1346\u001b[0m, in \u001b[0;36mevaluate\u001b[1;34m(model, data, targets, model_type, dataset_path, feature_names, evaluators, evaluator_config, custom_metrics, custom_artifacts, validation_thresholds, baseline_model, env_manager)\u001b[0m\n\u001b[0;32m   1344\u001b[0m \u001b[39mwith\u001b[39;00m _start_run_or_reuse_active_run() \u001b[39mas\u001b[39;00m run_id:\n\u001b[0;32m   1345\u001b[0m     \u001b[39mtry\u001b[39;00m:\n\u001b[1;32m-> 1346\u001b[0m         evaluate_result \u001b[39m=\u001b[39m _evaluate(\n\u001b[0;32m   1347\u001b[0m             model\u001b[39m=\u001b[39;49mmodel,\n\u001b[0;32m   1348\u001b[0m             model_type\u001b[39m=\u001b[39;49mmodel_type,\n\u001b[0;32m   1349\u001b[0m             dataset\u001b[39m=\u001b[39;49mdataset,\n\u001b[0;32m   1350\u001b[0m             run_id\u001b[39m=\u001b[39;49mrun_id,\n\u001b[0;32m   1351\u001b[0m             evaluator_name_list\u001b[39m=\u001b[39;49mevaluator_name_list,\n\u001b[0;32m   1352\u001b[0m             evaluator_name_to_conf_map\u001b[39m=\u001b[39;49mevaluator_name_to_conf_map,\n\u001b[0;32m   1353\u001b[0m             custom_metrics\u001b[39m=\u001b[39;49mcustom_metrics,\n\u001b[0;32m   1354\u001b[0m             custom_artifacts\u001b[39m=\u001b[39;49mcustom_artifacts,\n\u001b[0;32m   1355\u001b[0m             baseline_model\u001b[39m=\u001b[39;49mbaseline_model,\n\u001b[0;32m   1356\u001b[0m         )\n\u001b[0;32m   1357\u001b[0m     \u001b[39mfinally\u001b[39;00m:\n\u001b[0;32m   1358\u001b[0m         \u001b[39mif\u001b[39;00m \u001b[39misinstance\u001b[39m(model, _ServedPyFuncModel):\n",
      "File \u001b[1;32m~\\AppData\\Roaming\\Python\\Python310\\site-packages\\mlflow\\models\\evaluation\\base.py:934\u001b[0m, in \u001b[0;36m_evaluate\u001b[1;34m(model, model_type, dataset, run_id, evaluator_name_list, evaluator_name_to_conf_map, custom_metrics, custom_artifacts, baseline_model)\u001b[0m\n\u001b[0;32m    932\u001b[0m     \u001b[39mif\u001b[39;00m evaluator\u001b[39m.\u001b[39mcan_evaluate(model_type\u001b[39m=\u001b[39mmodel_type, evaluator_config\u001b[39m=\u001b[39mconfig):\n\u001b[0;32m    933\u001b[0m         _logger\u001b[39m.\u001b[39minfo(\u001b[39mf\u001b[39m\u001b[39m\"\u001b[39m\u001b[39mEvaluating the model with the \u001b[39m\u001b[39m{\u001b[39;00mevaluator_name\u001b[39m}\u001b[39;00m\u001b[39m evaluator.\u001b[39m\u001b[39m\"\u001b[39m)\n\u001b[1;32m--> 934\u001b[0m         eval_result \u001b[39m=\u001b[39m evaluator\u001b[39m.\u001b[39;49mevaluate(\n\u001b[0;32m    935\u001b[0m             model\u001b[39m=\u001b[39;49mmodel,\n\u001b[0;32m    936\u001b[0m             model_type\u001b[39m=\u001b[39;49mmodel_type,\n\u001b[0;32m    937\u001b[0m             dataset\u001b[39m=\u001b[39;49mdataset,\n\u001b[0;32m    938\u001b[0m             run_id\u001b[39m=\u001b[39;49mrun_id,\n\u001b[0;32m    939\u001b[0m             evaluator_config\u001b[39m=\u001b[39;49mconfig,\n\u001b[0;32m    940\u001b[0m             custom_metrics\u001b[39m=\u001b[39;49mcustom_metrics,\n\u001b[0;32m    941\u001b[0m             custom_artifacts\u001b[39m=\u001b[39;49mcustom_artifacts,\n\u001b[0;32m    942\u001b[0m             baseline_model\u001b[39m=\u001b[39;49mbaseline_model,\n\u001b[0;32m    943\u001b[0m         )\n\u001b[0;32m    944\u001b[0m         eval_results\u001b[39m.\u001b[39mappend(eval_result)\n\u001b[0;32m    946\u001b[0m _last_failed_evaluator \u001b[39m=\u001b[39m \u001b[39mNone\u001b[39;00m\n",
      "File \u001b[1;32m~\\AppData\\Roaming\\Python\\Python310\\site-packages\\mlflow\\models\\evaluation\\default_evaluator.py:1262\u001b[0m, in \u001b[0;36mDefaultEvaluator.evaluate\u001b[1;34m(self, model, model_type, dataset, run_id, evaluator_config, custom_metrics, custom_artifacts, baseline_model, **kwargs)\u001b[0m\n\u001b[0;32m   1260\u001b[0m     \u001b[39mif\u001b[39;00m baseline_model:\n\u001b[0;32m   1261\u001b[0m         _logger\u001b[39m.\u001b[39minfo(\u001b[39m\"\u001b[39m\u001b[39mEvaluating candidate model:\u001b[39m\u001b[39m\"\u001b[39m)\n\u001b[1;32m-> 1262\u001b[0m     evaluation_result \u001b[39m=\u001b[39m \u001b[39mself\u001b[39;49m\u001b[39m.\u001b[39;49m_evaluate(model, is_baseline_model\u001b[39m=\u001b[39;49m\u001b[39mFalse\u001b[39;49;00m)\n\u001b[0;32m   1264\u001b[0m \u001b[39mif\u001b[39;00m \u001b[39mnot\u001b[39;00m baseline_model:\n\u001b[0;32m   1265\u001b[0m     \u001b[39mreturn\u001b[39;00m evaluation_result\n",
      "File \u001b[1;32m~\\AppData\\Roaming\\Python\\Python310\\site-packages\\mlflow\\models\\evaluation\\default_evaluator.py:1210\u001b[0m, in \u001b[0;36mDefaultEvaluator._evaluate\u001b[1;34m(self, model, is_baseline_model, **kwargs)\u001b[0m\n\u001b[0;32m   1208\u001b[0m \u001b[39mself\u001b[39m\u001b[39m.\u001b[39m_generate_model_predictions()\n\u001b[0;32m   1209\u001b[0m \u001b[39mself\u001b[39m\u001b[39m.\u001b[39m_compute_builtin_metrics()\n\u001b[1;32m-> 1210\u001b[0m \u001b[39mself\u001b[39;49m\u001b[39m.\u001b[39;49m_evaluate_custom_metrics_and_log_produced_artifacts(\n\u001b[0;32m   1211\u001b[0m     log_to_mlflow_tracking\u001b[39m=\u001b[39;49m\u001b[39mnot\u001b[39;49;00m is_baseline_model\n\u001b[0;32m   1212\u001b[0m )\n\u001b[0;32m   1213\u001b[0m metric_prefix \u001b[39m=\u001b[39m \u001b[39mself\u001b[39m\u001b[39m.\u001b[39mevaluator_config\u001b[39m.\u001b[39mget(\u001b[39m\"\u001b[39m\u001b[39mmetric_prefix\u001b[39m\u001b[39m\"\u001b[39m)\n\u001b[0;32m   1214\u001b[0m \u001b[39mif\u001b[39;00m metric_prefix \u001b[39mis\u001b[39;00m \u001b[39mnot\u001b[39;00m \u001b[39mNone\u001b[39;00m:\n",
      "File \u001b[1;32m~\\AppData\\Roaming\\Python\\Python310\\site-packages\\mlflow\\models\\evaluation\\default_evaluator.py:1019\u001b[0m, in \u001b[0;36mDefaultEvaluator._evaluate_custom_metrics_and_log_produced_artifacts\u001b[1;34m(self, log_to_mlflow_tracking)\u001b[0m\n\u001b[0;32m   1011\u001b[0m \u001b[39mfor\u001b[39;00m index, custom_metric \u001b[39min\u001b[39;00m \u001b[39menumerate\u001b[39m(\u001b[39mself\u001b[39m\u001b[39m.\u001b[39mcustom_metrics \u001b[39mor\u001b[39;00m []):\n\u001b[0;32m   1012\u001b[0m     \u001b[39m# deepcopying eval_df and builtin_metrics for each custom metric function call,\u001b[39;00m\n\u001b[0;32m   1013\u001b[0m     \u001b[39m# in case the user modifies them inside their function(s).\u001b[39;00m\n\u001b[0;32m   1014\u001b[0m     custom_metric_tuple \u001b[39m=\u001b[39m _CustomMetric(\n\u001b[0;32m   1015\u001b[0m         function\u001b[39m=\u001b[39mcustom_metric\u001b[39m.\u001b[39meval_fn,\n\u001b[0;32m   1016\u001b[0m         index\u001b[39m=\u001b[39mindex,\n\u001b[0;32m   1017\u001b[0m         name\u001b[39m=\u001b[39mcustom_metric\u001b[39m.\u001b[39mname,\n\u001b[0;32m   1018\u001b[0m     )\n\u001b[1;32m-> 1019\u001b[0m     metric_result \u001b[39m=\u001b[39m _evaluate_custom_metric(\n\u001b[0;32m   1020\u001b[0m         custom_metric_tuple,\n\u001b[0;32m   1021\u001b[0m         eval_df\u001b[39m.\u001b[39;49mcopy(),\n\u001b[0;32m   1022\u001b[0m         copy\u001b[39m.\u001b[39;49mdeepcopy(builtin_metrics),\n\u001b[0;32m   1023\u001b[0m     )\n\u001b[0;32m   1024\u001b[0m     \u001b[39mself\u001b[39m\u001b[39m.\u001b[39mmetrics\u001b[39m.\u001b[39mupdate({custom_metric\u001b[39m.\u001b[39mname: metric_result})\n\u001b[0;32m   1026\u001b[0m \u001b[39mfor\u001b[39;00m index, custom_artifact \u001b[39min\u001b[39;00m \u001b[39menumerate\u001b[39m(\u001b[39mself\u001b[39m\u001b[39m.\u001b[39mcustom_artifacts \u001b[39mor\u001b[39;00m []):\n",
      "File \u001b[1;32m~\\AppData\\Roaming\\Python\\Python310\\site-packages\\mlflow\\models\\evaluation\\default_evaluator.py:476\u001b[0m, in \u001b[0;36m_evaluate_custom_metric\u001b[1;34m(custom_metric_tuple, eval_df, builtin_metrics)\u001b[0m\n\u001b[0;32m    460\u001b[0m \u001b[39m\"\"\"\u001b[39;00m\n\u001b[0;32m    461\u001b[0m \u001b[39mThis function calls the `custom_metric` function and performs validations on the returned\u001b[39;00m\n\u001b[0;32m    462\u001b[0m \u001b[39mresult to ensure that they are in the expected format. It will raise a MlflowException if\u001b[39;00m\n\u001b[1;32m   (...)\u001b[0m\n\u001b[0;32m    469\u001b[0m \u001b[39m:return: A scalar metric value.\u001b[39;00m\n\u001b[0;32m    470\u001b[0m \u001b[39m\"\"\"\u001b[39;00m\n\u001b[0;32m    471\u001b[0m exception_header \u001b[39m=\u001b[39m (\n\u001b[0;32m    472\u001b[0m     \u001b[39mf\u001b[39m\u001b[39m\"\u001b[39m\u001b[39mCustom metric \u001b[39m\u001b[39m'\u001b[39m\u001b[39m{\u001b[39;00mcustom_metric_tuple\u001b[39m.\u001b[39mname\u001b[39m}\u001b[39;00m\u001b[39m'\u001b[39m\u001b[39m at index \u001b[39m\u001b[39m{\u001b[39;00mcustom_metric_tuple\u001b[39m.\u001b[39mindex\u001b[39m}\u001b[39;00m\u001b[39m\"\u001b[39m\n\u001b[0;32m    473\u001b[0m     \u001b[39m\"\u001b[39m\u001b[39m in the `custom_metrics` parameter\u001b[39m\u001b[39m\"\u001b[39m\n\u001b[0;32m    474\u001b[0m )\n\u001b[1;32m--> 476\u001b[0m metric \u001b[39m=\u001b[39m custom_metric_tuple\u001b[39m.\u001b[39;49mfunction(eval_df, builtin_metrics)\n\u001b[0;32m    478\u001b[0m \u001b[39mif\u001b[39;00m metric \u001b[39mis\u001b[39;00m \u001b[39mNone\u001b[39;00m:\n\u001b[0;32m    479\u001b[0m     \u001b[39mraise\u001b[39;00m MlflowException(\u001b[39mf\u001b[39m\u001b[39m\"\u001b[39m\u001b[39m{\u001b[39;00mexception_header\u001b[39m}\u001b[39;00m\u001b[39m returned None.\u001b[39m\u001b[39m\"\u001b[39m)\n",
      "\u001b[1;31mTypeError\u001b[0m: custom_metric_1() takes 1 positional argument but 2 were given"
     ]
    }
   ],
   "source": [
    "from sklearn.tree import DecisionTreeClassifier\n",
    "\n",
    "mlflow.sklearn.autolog()\n",
    "with mlflow.start_run(run_name=\"myAutoLogRun\"):\n",
    "    model = DecisionTreeClassifier(criterion='gini',min_samples_leaf=20,max_depth=8,\n",
    "                               class_weight='balanced',random_state=5)\n",
    "    model.fit(xtrain,ytrain)\n",
    " \n",
    "    model_uri = mlflow.get_artifact_uri(\"model\")\n",
    "    print(model_uri)\n",
    "\n",
    "    def custom_metric_1(evaldata):\n",
    "        return 0.5\n",
    "\n",
    "    # evaluate model\n",
    "    evaldata = pd.DataFrame(xtest,columns=transformer.get_feature_names_out())\n",
    "    evaldata['label'] = ytest.values.tolist()\n",
    "    result = mlflow.evaluate(model=model_uri,data=evaldata,\n",
    "                             targets=\"label\",model_type='classifier',\n",
    "                             evaluators=['default'],\n",
    "                             custom_metrics=[make_metric(eval_fn = custom_metric_1,\n",
    "                                                         greater_is_better=True),]\n",
    "                             )\n",
    "    \n",
    "    \n",
    "\n",
    "    "
   ]
  },
  {
   "cell_type": "code",
   "execution_count": 34,
   "metadata": {},
   "outputs": [
    {
     "data": {
      "text/plain": [
       "'96b76e47bf9546e7bebec7d63588ee4a'"
      ]
     },
     "execution_count": 34,
     "metadata": {},
     "output_type": "execute_result"
    }
   ],
   "source": [
    "runid = mlflow.last_active_run()\n",
    "runid.to_dictionary()['info']['run_uuid']"
   ]
  },
  {
   "cell_type": "code",
   "execution_count": 37,
   "metadata": {},
   "outputs": [
    {
     "name": "stdout",
     "output_type": "stream",
     "text": [
      "file:///d:/AI/MLOps/EYMAY23/MLOps-with-Azure/mlruns/738194057631278017/96b76e47bf9546e7bebec7d63588ee4a/artifacts/model\n"
     ]
    },
    {
     "ename": "OSError",
     "evalue": "No such file or directory: 'D:\\AI\\MLOps\\EYMAY23\\MLOps-with-Azure\\mlruns\\738194057631278017\\96b76e47bf9546e7bebec7d63588ee4a\\artifacts\\model'",
     "output_type": "error",
     "traceback": [
      "\u001b[1;31m---------------------------------------------------------------------------\u001b[0m",
      "\u001b[1;31mOSError\u001b[0m                                   Traceback (most recent call last)",
      "Cell \u001b[1;32mIn[37], line 8\u001b[0m\n\u001b[0;32m      6\u001b[0m evaldata \u001b[39m=\u001b[39m pd\u001b[39m.\u001b[39mDataFrame(xtest,columns\u001b[39m=\u001b[39mtransformer\u001b[39m.\u001b[39mget_feature_names_out())\n\u001b[0;32m      7\u001b[0m evaldata[\u001b[39m'\u001b[39m\u001b[39mlabel\u001b[39m\u001b[39m'\u001b[39m] \u001b[39m=\u001b[39m ytest\u001b[39m.\u001b[39mvalues\u001b[39m.\u001b[39mtolist()\n\u001b[1;32m----> 8\u001b[0m result \u001b[39m=\u001b[39m mlflow\u001b[39m.\u001b[39;49mevaluate(model\u001b[39m=\u001b[39;49mmodel_uri,data\u001b[39m=\u001b[39;49mevaldata,\n\u001b[0;32m      9\u001b[0m                          targets\u001b[39m=\u001b[39;49m\u001b[39m\"\u001b[39;49m\u001b[39mlabel\u001b[39;49m\u001b[39m\"\u001b[39;49m,model_type\u001b[39m=\u001b[39;49m\u001b[39m'\u001b[39;49m\u001b[39mclassifier\u001b[39;49m\u001b[39m'\u001b[39;49m,\n\u001b[0;32m     10\u001b[0m                          evaluators\u001b[39m=\u001b[39;49m[\u001b[39m'\u001b[39;49m\u001b[39mdefault\u001b[39;49m\u001b[39m'\u001b[39;49m]\n\u001b[0;32m     11\u001b[0m                          )\n",
      "File \u001b[1;32m~\\AppData\\Roaming\\Python\\Python310\\site-packages\\mlflow\\models\\evaluation\\base.py:1286\u001b[0m, in \u001b[0;36mevaluate\u001b[1;34m(model, data, targets, model_type, dataset_path, feature_names, evaluators, evaluator_config, custom_metrics, custom_artifacts, validation_thresholds, baseline_model, env_manager)\u001b[0m\n\u001b[0;32m   1283\u001b[0m _EnvManager\u001b[39m.\u001b[39mvalidate(env_manager)\n\u001b[0;32m   1285\u001b[0m \u001b[39mif\u001b[39;00m \u001b[39misinstance\u001b[39m(model, \u001b[39mstr\u001b[39m):\n\u001b[1;32m-> 1286\u001b[0m     model \u001b[39m=\u001b[39m _load_model_or_server(model, env_manager)\n\u001b[0;32m   1287\u001b[0m \u001b[39melif\u001b[39;00m env_manager \u001b[39m!=\u001b[39m _EnvManager\u001b[39m.\u001b[39mLOCAL:\n\u001b[0;32m   1288\u001b[0m     \u001b[39mraise\u001b[39;00m MlflowException(\n\u001b[0;32m   1289\u001b[0m         message\u001b[39m=\u001b[39m\u001b[39m\"\u001b[39m\u001b[39mThe model argument must be a string URI referring to an MLflow model when a \u001b[39m\u001b[39m\"\u001b[39m\n\u001b[0;32m   1290\u001b[0m         \u001b[39m\"\u001b[39m\u001b[39mnon-local env_manager is specified.\u001b[39m\u001b[39m\"\u001b[39m,\n\u001b[0;32m   1291\u001b[0m         error_code\u001b[39m=\u001b[39mINVALID_PARAMETER_VALUE,\n\u001b[0;32m   1292\u001b[0m     )\n",
      "File \u001b[1;32m~\\AppData\\Roaming\\Python\\Python310\\site-packages\\mlflow\\pyfunc\\__init__.py:635\u001b[0m, in \u001b[0;36m_load_model_or_server\u001b[1;34m(model_uri, env_manager)\u001b[0m\n\u001b[0;32m    632\u001b[0m \u001b[39mfrom\u001b[39;00m \u001b[39mmlflow\u001b[39;00m\u001b[39m.\u001b[39;00m\u001b[39mpyfunc\u001b[39;00m\u001b[39m.\u001b[39;00m\u001b[39mscoring_server\u001b[39;00m\u001b[39m.\u001b[39;00m\u001b[39mclient\u001b[39;00m \u001b[39mimport\u001b[39;00m ScoringServerClient, StdinScoringServerClient\n\u001b[0;32m    634\u001b[0m \u001b[39mif\u001b[39;00m env_manager \u001b[39m==\u001b[39m _EnvManager\u001b[39m.\u001b[39mLOCAL:\n\u001b[1;32m--> 635\u001b[0m     \u001b[39mreturn\u001b[39;00m load_model(model_uri)\n\u001b[0;32m    637\u001b[0m _logger\u001b[39m.\u001b[39minfo(\u001b[39m\"\u001b[39m\u001b[39mStarting model server for model environment restoration.\u001b[39m\u001b[39m\"\u001b[39m)\n\u001b[0;32m    639\u001b[0m local_path \u001b[39m=\u001b[39m _download_artifact_from_uri(artifact_uri\u001b[39m=\u001b[39mmodel_uri)\n",
      "File \u001b[1;32m~\\AppData\\Roaming\\Python\\Python310\\site-packages\\mlflow\\pyfunc\\__init__.py:577\u001b[0m, in \u001b[0;36mload_model\u001b[1;34m(model_uri, suppress_warnings, dst_path)\u001b[0m\n\u001b[0;32m    549\u001b[0m \u001b[39mdef\u001b[39;00m \u001b[39mload_model\u001b[39m(\n\u001b[0;32m    550\u001b[0m     model_uri: \u001b[39mstr\u001b[39m,\n\u001b[0;32m    551\u001b[0m     suppress_warnings: \u001b[39mbool\u001b[39m \u001b[39m=\u001b[39m \u001b[39mFalse\u001b[39;00m,\n\u001b[0;32m    552\u001b[0m     dst_path: \u001b[39mstr\u001b[39m \u001b[39m=\u001b[39m \u001b[39mNone\u001b[39;00m,\n\u001b[0;32m    553\u001b[0m ) \u001b[39m-\u001b[39m\u001b[39m>\u001b[39m PyFuncModel:\n\u001b[0;32m    554\u001b[0m     \u001b[39m\"\"\"\u001b[39;00m\n\u001b[0;32m    555\u001b[0m \u001b[39m    Load a model stored in Python function format.\u001b[39;00m\n\u001b[0;32m    556\u001b[0m \n\u001b[1;32m   (...)\u001b[0m\n\u001b[0;32m    575\u001b[0m \u001b[39m                     path will be created.\u001b[39;00m\n\u001b[0;32m    576\u001b[0m \u001b[39m    \"\"\"\u001b[39;00m\n\u001b[1;32m--> 577\u001b[0m     local_path \u001b[39m=\u001b[39m _download_artifact_from_uri(artifact_uri\u001b[39m=\u001b[39;49mmodel_uri, output_path\u001b[39m=\u001b[39;49mdst_path)\n\u001b[0;32m    579\u001b[0m     \u001b[39mif\u001b[39;00m \u001b[39mnot\u001b[39;00m suppress_warnings:\n\u001b[0;32m    580\u001b[0m         _warn_dependency_requirement_mismatches(local_path)\n",
      "File \u001b[1;32m~\\AppData\\Roaming\\Python\\Python310\\site-packages\\mlflow\\tracking\\artifact_utils.py:100\u001b[0m, in \u001b[0;36m_download_artifact_from_uri\u001b[1;34m(artifact_uri, output_path)\u001b[0m\n\u001b[0;32m     94\u001b[0m \u001b[39m\"\"\"\u001b[39;00m\n\u001b[0;32m     95\u001b[0m \u001b[39m:param artifact_uri: The *absolute* URI of the artifact to download.\u001b[39;00m\n\u001b[0;32m     96\u001b[0m \u001b[39m:param output_path: The local filesystem path to which to download the artifact. If unspecified,\u001b[39;00m\n\u001b[0;32m     97\u001b[0m \u001b[39m                    a local output path will be created.\u001b[39;00m\n\u001b[0;32m     98\u001b[0m \u001b[39m\"\"\"\u001b[39;00m\n\u001b[0;32m     99\u001b[0m root_uri, artifact_path \u001b[39m=\u001b[39m _get_root_uri_and_artifact_path(artifact_uri)\n\u001b[1;32m--> 100\u001b[0m \u001b[39mreturn\u001b[39;00m get_artifact_repository(artifact_uri\u001b[39m=\u001b[39;49mroot_uri)\u001b[39m.\u001b[39;49mdownload_artifacts(\n\u001b[0;32m    101\u001b[0m     artifact_path\u001b[39m=\u001b[39;49martifact_path, dst_path\u001b[39m=\u001b[39;49moutput_path\n\u001b[0;32m    102\u001b[0m )\n",
      "File \u001b[1;32m~\\AppData\\Roaming\\Python\\Python310\\site-packages\\mlflow\\store\\artifact\\local_artifact_repo.py:79\u001b[0m, in \u001b[0;36mLocalArtifactRepository.download_artifacts\u001b[1;34m(self, artifact_path, dst_path)\u001b[0m\n\u001b[0;32m     77\u001b[0m local_artifact_path \u001b[39m=\u001b[39m os\u001b[39m.\u001b[39mpath\u001b[39m.\u001b[39mjoin(\u001b[39mself\u001b[39m\u001b[39m.\u001b[39martifact_dir, os\u001b[39m.\u001b[39mpath\u001b[39m.\u001b[39mnormpath(artifact_path))\n\u001b[0;32m     78\u001b[0m \u001b[39mif\u001b[39;00m \u001b[39mnot\u001b[39;00m os\u001b[39m.\u001b[39mpath\u001b[39m.\u001b[39mexists(local_artifact_path):\n\u001b[1;32m---> 79\u001b[0m     \u001b[39mraise\u001b[39;00m \u001b[39mOSError\u001b[39;00m(\u001b[39mf\u001b[39m\u001b[39m\"\u001b[39m\u001b[39mNo such file or directory: \u001b[39m\u001b[39m'\u001b[39m\u001b[39m{\u001b[39;00mlocal_artifact_path\u001b[39m}\u001b[39;00m\u001b[39m'\u001b[39m\u001b[39m\"\u001b[39m)\n\u001b[0;32m     80\u001b[0m \u001b[39mreturn\u001b[39;00m os\u001b[39m.\u001b[39mpath\u001b[39m.\u001b[39mabspath(local_artifact_path)\n",
      "\u001b[1;31mOSError\u001b[0m: No such file or directory: 'D:\\AI\\MLOps\\EYMAY23\\MLOps-with-Azure\\mlruns\\738194057631278017\\96b76e47bf9546e7bebec7d63588ee4a\\artifacts\\model'"
     ]
    }
   ],
   "source": [
    "with mlflow.start_run(run_id='96b76e47bf9546e7bebec7d63588ee4a') as run:\n",
    "    model_uri = mlflow.get_artifact_uri(\"model\")\n",
    "    print(model_uri)\n",
    "\n",
    "    # evaluate model\n",
    "    evaldata = pd.DataFrame(xtest,columns=transformer.get_feature_names_out())\n",
    "    evaldata['label'] = ytest.values.tolist()\n",
    "    result = mlflow.evaluate(model=model_uri,data=evaldata,\n",
    "                             targets=\"label\",model_type='classifier',\n",
    "                             evaluators=['default']\n",
    "                             )"
   ]
  },
  {
   "cell_type": "code",
   "execution_count": 28,
   "metadata": {},
   "outputs": [
    {
     "data": {
      "text/plain": [
       "array([[0.0000000e+00, 0.0000000e+00, 0.0000000e+00, ..., 0.0000000e+00,\n",
       "        1.0000000e+00, 1.0000000e+00],\n",
       "       [1.0000000e+00, 0.0000000e+00, 1.0000000e+00, ..., 8.6350870e+04,\n",
       "        2.0000000e+00, 0.0000000e+00],\n",
       "       [1.0000000e+00, 0.0000000e+00, 0.0000000e+00, ..., 1.3225322e+05,\n",
       "        1.0000000e+00, 0.0000000e+00],\n",
       "       ...,\n",
       "       [0.0000000e+00, 0.0000000e+00, 1.0000000e+00, ..., 0.0000000e+00,\n",
       "        1.0000000e+00, 0.0000000e+00],\n",
       "       [0.0000000e+00, 0.0000000e+00, 0.0000000e+00, ..., 1.3235269e+05,\n",
       "        1.0000000e+00, 0.0000000e+00],\n",
       "       [0.0000000e+00, 1.0000000e+00, 0.0000000e+00, ..., 0.0000000e+00,\n",
       "        2.0000000e+00, 0.0000000e+00]])"
      ]
     },
     "execution_count": 28,
     "metadata": {},
     "output_type": "execute_result"
    }
   ],
   "source": [
    "evaldata"
   ]
  },
  {
   "cell_type": "code",
   "execution_count": null,
   "metadata": {},
   "outputs": [],
   "source": [
    "# how to change the key name in autolog (adding prefix - test for evaluation)"
   ]
  }
 ],
 "metadata": {
  "kernelspec": {
   "display_name": "base",
   "language": "python",
   "name": "python3"
  },
  "language_info": {
   "codemirror_mode": {
    "name": "ipython",
    "version": 3
   },
   "file_extension": ".py",
   "mimetype": "text/x-python",
   "name": "python",
   "nbconvert_exporter": "python",
   "pygments_lexer": "ipython3",
   "version": "3.10.9"
  },
  "orig_nbformat": 4
 },
 "nbformat": 4,
 "nbformat_minor": 2
}
