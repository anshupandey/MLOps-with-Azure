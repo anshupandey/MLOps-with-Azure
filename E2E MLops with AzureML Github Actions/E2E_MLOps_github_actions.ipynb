{
 "cells": [
  {
   "attachments": {},
   "cell_type": "markdown",
   "metadata": {},
   "source": [
    "# E2E MLOps with Azure ML and Github Actions\n"
   ]
  },
  {
   "attachments": {},
   "cell_type": "markdown",
   "metadata": {},
   "source": [
    "* Get Azure CLI installed: https://learn.microsoft.com/en-us/cli/azure/install-azure-cli-windows?tabs=azure-cli\n",
    "* azureML extension for Az CLI: **az extension add -n ml -y**"
   ]
  },
  {
   "attachments": {},
   "cell_type": "markdown",
   "metadata": {},
   "source": [
    "Use the template from below repo and create a github repo\n",
    "\n",
    "https://github.com/MicrosoftLearning/mslearn-mlops/tree/main "
   ]
  },
  {
   "attachments": {},
   "cell_type": "markdown",
   "metadata": {},
   "source": [
    "* make sure to have active azure ML workspace, compute and a dataset registered\n",
    "* prepare the trianing script at src/model/train.py"
   ]
  },
  {
   "cell_type": "code",
   "execution_count": null,
   "metadata": {},
   "outputs": [],
   "source": []
  },
  {
   "cell_type": "code",
   "execution_count": null,
   "metadata": {},
   "outputs": [],
   "source": [
    "# create job.yml as follow\n",
    "$schema: https://azuremlschemas.azureedge.net/latest/commandJob.schema.json\n",
    "code: model\n",
    "command: >-\n",
    "  python train.py\n",
    "  --training_data ${{inputs.training_data}}\n",
    "  --reg_rate ${{inputs.reg_rate}}\n",
    "  \n",
    "inputs:\n",
    "  training_data: \n",
    "    type: uri_folder \n",
    "    path: azureml://subscriptions/4980acc2-d47d-47e6-8498-a6b0744658d8/resourcegroups/EYMAY/workspaces/aml-workspace/datastores/workspaceblobstore/paths/UI/2023-05-18_063342_UTC/\n",
    "  reg_rate: 0.01\n",
    "environment: azureml:AzureML-sklearn-0.24-ubuntu18.04-py37-cpu@latest\n",
    "compute: cpu-compute\n",
    "experiment_name: diabetes-mlops\n",
    "description: A diabeties classification model\n"
   ]
  },
  {
   "attachments": {},
   "cell_type": "markdown",
   "metadata": {},
   "source": [
    "    Use below commands to setup az CLI\n",
    "\n",
    "\n",
    "    - az login\n",
    "    - az account set -s \"YOUR SUBSCRUPTION ID\"\n",
    "    - az configure -defaults group=\"YOUR RESOURCE GROUP\" workspace=\"YOUR WORKSPACE NAME\" location=\"YOUR LOCATION/REGION\""
   ]
  },
  {
   "attachments": {},
   "cell_type": "markdown",
   "metadata": {},
   "source": [
    "**az ml job create --file src/job.yml**"
   ]
  },
  {
   "attachments": {},
   "cell_type": "markdown",
   "metadata": {},
   "source": [
    "## Step 2: Working with Github actions"
   ]
  },
  {
   "attachments": {},
   "cell_type": "markdown",
   "metadata": {},
   "source": [
    "#### Creating a service principal to authenticate github to manage azure ML workspace\n",
    "\n",
    "    az ad sp create-for-rbac --name \"SP_NAME\" --role contributor --scopes /subscriptions/<SUBID>/resourceGroups/<RG> --sdk-auth"
   ]
  },
  {
   "cell_type": "code",
   "execution_count": null,
   "metadata": {},
   "outputs": [],
   "source": [
    "    "
   ]
  }
 ],
 "metadata": {
  "language_info": {
   "name": "python"
  },
  "orig_nbformat": 4
 },
 "nbformat": 4,
 "nbformat_minor": 2
}
